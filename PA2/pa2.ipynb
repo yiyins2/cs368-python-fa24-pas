{
 "cells": [
  {
   "cell_type": "code",
   "execution_count": null,
   "id": "2718ffe8",
   "metadata": {
    "deletable": false,
    "editable": false
   },
   "outputs": [],
   "source": [
    "# Initialize Otter\n",
    "import otter\n",
    "grader = otter.Notebook(\"pa2.ipynb\")"
   ]
  },
  {
   "cell_type": "markdown",
   "id": "399bbae3-40de-4745-ae9a-fe52f181e30d",
   "metadata": {},
   "source": [
    "# Programming Assignment 2 Student Grade Manager\n",
    "\n",
    "In this assignment, you'll implement a grade manager for this course, CS368: Python for Java Programmers. You’ll work with key data structures such as lists, tuples, sets, and dictionaries to manage student records and calculate grades.\n",
    "\n",
    "Let’s review the grading components of the course:\n",
    "* 15 Attendance Questions (5 drops, 1% each, 10% overall)\n",
    "* 7 Quizzes (1 drop, 5% each, 30% overall)\n",
    "* 5 Programming Assignments (PAs, no drops, 12% each, 60% overall)\n",
    "    * You are allowed up to **two** late submissions without penalty, but each late submission must not be more than **5** days overdue.\n",
    " \n",
    "Each student’s record will be stored in a dictionary, with their `student_id` as the key. The value associated with each `student_id` is another dictionary containing the following information. Initially, all records will be set to `None` (Python's version of Java's `null`, indicating that the data is not yet initialized). You will later populate these records with lists representing grades and late days.\n",
    "```python\n",
    "student_records = {\n",
    "    'student_id': {\n",
    "        'name': 'Student Name',  \n",
    "        'PA_gradescope_scores': None,  \n",
    "        'PA_late_days': None,  \n",
    "        'quiz_grades': None,  \n",
    "        'attendance_question_grades': None  \n",
    "    }, \n",
    "    'student_id2': {...}\n",
    "}\n",
    "```\n",
    "* `PA_gradescope_scores`: the list will store the auto-graded Gradescope scores for the five programming assignments.\n",
    "* `PA_late_days`: the list will store how many days late each assignment was submitted (0 if on time).\n",
    "* `quiz_grades`: the list will store the grades for the seven quizzes.\n",
    "* `attendance_question_grades`: the list will store the grades for the 15 attendance questions."
   ]
  },
  {
   "cell_type": "markdown",
   "id": "d0284725-10fb-4964-aecb-a736b253b33d",
   "metadata": {
    "deletable": false,
    "editable": false
   },
   "source": [
    "## Question 1. Initialize student records\n",
    "You will be provided with `student_records` where each record entry is initially set to `None`. Your task is to initialize each entry (`PA_gradescope_scores`, `PA_late_days`, `quiz_grades`, `attendance_question_grades`) with a list of zeroes ([0, 0, 0, ...]), where the length of each list corresponds to the number of items for that category:\n",
    "* 5 for PAs,\n",
    "* 7 for Quizzes,\n",
    "* 15 for Attendance Questions.\n",
    "\n",
    "Make the initialization change directly on the provided `student_records`. There's no return value. "
   ]
  },
  {
   "cell_type": "code",
   "execution_count": null,
   "id": "935bb9d4-1533-471c-86d3-377b3db74ef3",
   "metadata": {
    "tags": []
   },
   "outputs": [],
   "source": [
    "def initialize_student_records(student_records):\n",
    "    \"\"\"\n",
    "    Initialize the entries in student_records with lists of correct number of zeroes.\n",
    "    \"\"\"\n",
    "    ..."
   ]
  },
  {
   "cell_type": "code",
   "execution_count": null,
   "id": "e9a78f2a-bb9c-4b4d-a54a-bdedec593633",
   "metadata": {
    "tags": []
   },
   "outputs": [],
   "source": [
    "# Example input: \n",
    "student_records = {\n",
    "    '12345': {\n",
    "        'name': 'Alice',\n",
    "        'PA_gradescope_scores': None,\n",
    "        'PA_late_days': None,\n",
    "        'quiz_grades': None,\n",
    "        'attendance_question_grades': None\n",
    "    },\n",
    "    '67890': {\n",
    "        'name': 'Bob',\n",
    "        'PA_gradescope_scores': None,\n",
    "        'PA_late_days': None,\n",
    "        'quiz_grades': None,\n",
    "        'attendance_question_grades': None\n",
    "    }\n",
    "}\n",
    "\"\"\"\n",
    "student_records should be changed to\n",
    "{'12345': {'name': 'Alice',\n",
    "  'PA_gradescope_scores': [0, 0, 0, 0, 0],\n",
    "  'PA_late_days': [0, 0, 0, 0, 0],\n",
    "  'quiz_grades': [0, 0, 0, 0, 0, 0, 0],\n",
    "  'attendance_question_grades': [0, 0, 0, 0, 0, 0, 0, 0, 0, 0, 0, 0, 0, 0, 0]},\n",
    " '67890': {'name': 'Bob',\n",
    "  'PA_gradescope_scores': [0, 0, 0, 0, 0],\n",
    "  'PA_late_days': [0, 0, 0, 0, 0],\n",
    "  'quiz_grades': [0, 0, 0, 0, 0, 0, 0],\n",
    "  'attendance_question_grades': [0, 0, 0, 0, 0, 0, 0, 0, 0, 0, 0, 0, 0, 0, 0]}}\n",
    "\"\"\"\n",
    "initialize_student_records(student_records)\n",
    "student_records"
   ]
  },
  {
   "cell_type": "code",
   "execution_count": null,
   "id": "dee4d3e5",
   "metadata": {
    "deletable": false,
    "editable": false
   },
   "outputs": [],
   "source": [
    "grader.check(\"Q1\")"
   ]
  },
  {
   "cell_type": "markdown",
   "id": "66643491-9b19-4a66-83c2-6c0d9e4d4906",
   "metadata": {
    "deletable": false,
    "editable": false
   },
   "source": [
    "## Question 2. Update a single student record entry\n",
    "Implement a function to update a specific entry in the initialized `student_records`. \n",
    "\n",
    "The function will take the following parameters:\n",
    "* `student_records`: initialized as in Question 1.\n",
    "* `student_id`: the ID of the student whose record you need to update.\n",
    "* `assignment_type`: a string specifying the type of assignment to update. The valid values are:\n",
    "    * 'PA' for Programming Assignment,\n",
    "    * 'quiz' for Quizzes,\n",
    "    * 'attendance' for Attendance Questions.\n",
    "* `assignment_number`: the number of the specific assignment to update (**1-indexed**).\n",
    "* `new_grade`: the new grade to assign for this specific entry.\n",
    "\n",
    "Your function should update the corresponding entry in `student_records` based on the `assignment_type` and `assignment_number`.\n",
    "\n",
    "You should raise a `ValueError` if:\n",
    "* The `student_id` is not found in student_records. The error message should be: \"Student ID <student_id> not found.\" (This error is already implemented as an example to raising exceptions.)\n",
    "* The `assignment_type` is invalid. The error message should be: \"Invalid assignment type. Valid types are 'PA', 'quiz', or 'attendance'.\"\n",
    "* The `assignment_number` is out of bounds for the specified `assignment_type`. \n",
    "    * For Programming Assignments, the error message should be: \"Assignment number out of bounds for Programming Assignments.\"\n",
    "    * For quizzes, the error message should be: \"Assignment number out of bounds for Quizzes.\"\n",
    "    * For Attendance Questions, the error message should be: \"Assignment number out of bounds for Attendance Questions.\"\n",
    "  \n",
    "Hint: documentation on [raising exceptions](https://docs.python.org/3/tutorial/errors.html#raising-exceptions)"
   ]
  },
  {
   "cell_type": "code",
   "execution_count": null,
   "id": "545ba248-481a-4708-ab28-a889b6e0e13f",
   "metadata": {
    "tags": []
   },
   "outputs": [],
   "source": [
    "def update_record_entry(student_records, student_id, assignment_type, assignment_number, new_grade):\n",
    "    \"\"\"\n",
    "    Update a specific entry in the student's record based on assignment type and assignment number.\n",
    "    \"\"\"\n",
    "    if student_id not in student_records:\n",
    "        raise ValueError(\"Student ID not found.\")\n",
    "        \n",
    "    ..."
   ]
  },
  {
   "cell_type": "code",
   "execution_count": null,
   "id": "cfceab65-b500-480a-bbaf-6dff355e2ea6",
   "metadata": {
    "tags": []
   },
   "outputs": [],
   "source": [
    "# Example input:\n",
    "student_records = {\n",
    "    '12345': {\n",
    "        'name': 'Alice',\n",
    "        'PA_gradescope_scores': [85, 90, 78, 88, 92],\n",
    "        'PA_late_days': [0, 1, 0, 0, 2],\n",
    "        'PA_grades': [85, 85, 78, 88, 80],\n",
    "        'quiz_grades': [90, 85, 88, 92, 91, 84, 87],\n",
    "        'attendance_question_grades': [1, 1, 1, 1, 0, 1, 1, 1, 1, 1, 1, 1, 1, 1, 1]\n",
    "    }\n",
    "}\n",
    "\n",
    "update_record_entry(student_records, '12345', 'PA', 3, 95)\n",
    "\n",
    "# Expected results: \n",
    "# student_records['12345']['PA_gradescope_scores'] -> [85, 90, 95, 88, 92]\n",
    "student_records['12345']['PA_gradescope_scores']"
   ]
  },
  {
   "cell_type": "code",
   "execution_count": null,
   "id": "e33f10fa",
   "metadata": {
    "deletable": false,
    "editable": false
   },
   "outputs": [],
   "source": [
    "grader.check(\"Q2\")"
   ]
  },
  {
   "cell_type": "markdown",
   "id": "ca48222e-b859-4904-8c75-0e0b2204b52b",
   "metadata": {
    "deletable": false,
    "editable": false
   },
   "source": [
    "## Question 3. Batch update of an assignment\n",
    "Implement a function that performs batch updates for a specific assignment type and assignment number using a dictionary of updates. \n",
    "\n",
    "The function will take the following parameters:\n",
    "* `student_records`: initialized as in Question 1.\n",
    "* `assignment_type`: same as Question 2. \n",
    "* `assignment_number`: same as Question 2.\n",
    "* `batch_updates`: a dictionary where each key is a `student_id` and the corresponding value is the new grade to assign for the specified `assignment_type` and `assignment_number`.\n",
    "\n",
    "You should first raise a ValueError using the same error messages as in Question 2 for:\n",
    "* An invalid `assignment_type`.\n",
    "* An out-of-bounds `assignment_number` for the specified `assignment_type`.\n",
    "\n",
    "Your function should then loop through the `batch_updates` dictionary and update the corresponding grades for each student. \n",
    "\n",
    "The function should return any invalid `student_id`s in a set."
   ]
  },
  {
   "cell_type": "code",
   "execution_count": null,
   "id": "00f0dd54-aee2-4cc1-9784-482031e9dad1",
   "metadata": {
    "tags": []
   },
   "outputs": [],
   "source": [
    "def batch_update_grades(student_records, assignment_type, assignment_number, batch_updates):\n",
    "    \"\"\"\n",
    "    Perform batch updates for a specific assignment type and assignment number using a dictionary of updates.\n",
    "    \"\"\"\n",
    "    ..."
   ]
  },
  {
   "cell_type": "code",
   "execution_count": null,
   "id": "885fa4ed-76e1-430e-abfe-6d565ecdc683",
   "metadata": {
    "tags": []
   },
   "outputs": [],
   "source": [
    "# Example input: \n",
    "student_records = {\n",
    "    '12345': {\n",
    "        'name': 'Alice',\n",
    "        'PA_gradescope_scores': [85, 90, 0, 0, 0],\n",
    "        'PA_late_days': [0, 1, 0, 0, 0],\n",
    "        'PA_grades': [85, 85, 0, 0, 0],\n",
    "        'quiz_grades': [90, 85, 0, 0, 0, 0, 0],\n",
    "        'attendance_question_grades': [1, 1, 1, 1, 0, 0, 0, 0, 0, 0, 0, 0, 0, 0, 0]\n",
    "    },\n",
    "    '67890': {\n",
    "        'name': 'Bob',\n",
    "        'PA_gradescope_scores': [88, 92, 0, 0, 0],\n",
    "        'PA_late_days': [0, 0, 0, 0, 0],\n",
    "        'PA_grades': [88, 92, 0, 0, 0],\n",
    "        'quiz_grades': [85, 87, 0, 0, 0, 0, 0],\n",
    "        'attendance_question_grades': [1, 1, 1, 0, 0, 0, 0, 0, 0, 0, 0, 0, 0, 0, 0]\n",
    "    }\n",
    "}\n",
    "\n",
    "batch_updates = {\n",
    "    '12345': 95,\n",
    "    '67890': 90,\n",
    "    '99999': 85  \n",
    "}\n",
    "\n",
    "invalid_student_ids = batch_update_grades(student_records, 'PA', 3, batch_updates)\n",
    "\n",
    "# Expected results:\n",
    "# student_records['12345']['PA_gradescope_scores'] -> [85, 90, 95, 0, 0]\n",
    "# student_records['67890']['PA_gradescope_scores'] -> [88, 92, 90, 0, 0]\n",
    "# invalid_student_ids -> {'99999'}\n",
    "\n",
    "print(student_records['12345']['PA_gradescope_scores'])\n",
    "print(student_records['67890']['PA_gradescope_scores'])\n",
    "print(invalid_student_ids)"
   ]
  },
  {
   "cell_type": "code",
   "execution_count": null,
   "id": "fe6d7a85",
   "metadata": {
    "deletable": false,
    "editable": false
   },
   "outputs": [],
   "source": [
    "grader.check(\"Q3\")"
   ]
  },
  {
   "cell_type": "markdown",
   "id": "8144f045-dc11-4b88-b66c-d4d8adad12a5",
   "metadata": {
    "deletable": false,
    "editable": false
   },
   "source": [
    "## Question 4. Compute average with drops\n",
    "You will implement a function that computes the average grade for quizzes or attendance, considering a certain number of drops. The lowest grades in the list will be dropped.\n",
    "\n",
    "The function will take the following inputs:\n",
    "\n",
    "* `grades`: a list of grades (e.g., quiz or attendance question grades).\n",
    "* `num_drops`: an integer specifying the number of lowest grades to drop before computing the average.\n",
    "\n",
    "If the number of grades is less than or equal to the number of drops, return 0 as the average."
   ]
  },
  {
   "cell_type": "code",
   "execution_count": null,
   "id": "8e9ee215-8b4a-4b63-b4ca-ed2aea3631c7",
   "metadata": {
    "tags": []
   },
   "outputs": [],
   "source": [
    "def compute_average_with_drops(grades, num_drops):\n",
    "    \"\"\"\n",
    "    Compute the average of grades after dropping the lowest num_drops grades.\n",
    "    \"\"\"\n",
    "    ..."
   ]
  },
  {
   "cell_type": "code",
   "execution_count": null,
   "id": "a394ffdf-c3fa-4496-bb46-87c045669e9a",
   "metadata": {
    "tags": []
   },
   "outputs": [],
   "source": [
    "grades = [90, 85, 88, 92, 91, 84, 87]\n",
    "num_drops = 1\n",
    "# Expected output: (90 + 85 + 88 + 92 + 91 + 0 + 87) / 6 = 88.83333333333333\n",
    "compute_average_with_drops(grades, num_drops)"
   ]
  },
  {
   "cell_type": "code",
   "execution_count": null,
   "id": "c7ad0f57",
   "metadata": {
    "deletable": false,
    "editable": false
   },
   "outputs": [],
   "source": [
    "grader.check(\"Q4\")"
   ]
  },
  {
   "cell_type": "markdown",
   "id": "703858af-c2df-48cd-b534-6609855eb1ee",
   "metadata": {
    "deletable": false,
    "editable": false
   },
   "source": [
    "## Question 5. Compute PA average with late submission opportunities\n",
    "Implement a function to compute the average grade for Programming Assignments (PAs), factoring in late submissions. \n",
    "\n",
    "In CS368, students are allowed up to **two** late submissions, with each submission allowed to be up to **5** days late without penalty. \n",
    "Any submission that is more than 5 days late is not allowed and will receive a grade of 0. The first two late submissions that is not late for more than 5 days will be allowed, but any late submissions after them will receive a grade of 0.   \n",
    "\n",
    "In the function that you will implement, the allowed number of late submissions and the max late days are variables given to you.  \n",
    "\n",
    "The function will take the following parameters:\n",
    "* `pa_grades`: a list of grades for the Programming Assignments.\n",
    "* `pa_late_days`: a list of integers representing how many days late each corresponding Programming Assignment was submitted.\n",
    "* `allowed_late_submissions`: an integer specifying how many late submissions are allowed without penalty.\n",
    "* `max_late_days`: an integer specifying the maximum number of late days allowed without penalty for each assignment."
   ]
  },
  {
   "cell_type": "code",
   "execution_count": null,
   "id": "d3a645fe-02e7-46d5-aa1e-385f98a10237",
   "metadata": {
    "tags": []
   },
   "outputs": [],
   "source": [
    "def compute_pa_average(pa_grades, pa_late_days, allowed_late_submissions, max_late_days):\n",
    "    \"\"\"\n",
    "    Compute the average PA score, factoring in late submission penalties.\n",
    "    \"\"\"\n",
    "    ..."
   ]
  },
  {
   "cell_type": "code",
   "execution_count": null,
   "id": "092e23af-f7c1-480c-94ce-6604f0f48165",
   "metadata": {
    "tags": []
   },
   "outputs": [],
   "source": [
    "pa_grades = [85, 90, 78, 88, 92]\n",
    "pa_late_days = [0, 6, 2, 3, 3]\n",
    "allowed_late_submissions = 2\n",
    "max_late_days = 5\n",
    "# Expected output: (85 + 0 + 78 + 88 + 0) / 5 = 50.2\n",
    "compute_pa_average(pa_grades, pa_late_days, allowed_late_submissions, max_late_days)"
   ]
  },
  {
   "cell_type": "code",
   "execution_count": null,
   "id": "8b173d18",
   "metadata": {
    "deletable": false,
    "editable": false
   },
   "outputs": [],
   "source": [
    "grader.check(\"Q5\")"
   ]
  },
  {
   "cell_type": "markdown",
   "id": "4a1546db-a2d8-4c77-a8c0-184746c3a18f",
   "metadata": {
    "deletable": false,
    "editable": false
   },
   "source": [
    "## Question 6. Compute final PA, Quiz, and Attendance grades from complete records\n",
    "Implement a function that processes each student's complete records and adds their final grades for Programming Assignments, Quizzes, and Attendance to their record.\n",
    "\n",
    "The function will take the following parameters:\n",
    "\n",
    "* `student_records`: all `PA_gradescope_scores`, `PA_late_days`, `quiz_grades`, and `attendance_question_grades` records in `student_records` are filled.\n",
    "* `allowed_late_submissions`: the number of late submissions allowed for PAs without penalty.\n",
    "* `max_late_days`: the maximum number of late days allowed without penalty per PA.\n",
    "* `quiz_drops`: the number of lowest quiz grades to drop.\n",
    "* `attendance_drops`: the number of lowest attendance grades to drop.\n",
    "\n",
    "Use `compute_average_with_drops` and `compute_pa_average` functions you implemented in Question 4 and 5 to compute the final PA, quiz, and attendance grades and add them back to each student’s record under the keys:\n",
    "* `final_PA_grade`\n",
    "* `final_quiz_grade`\n",
    "* `final_attendance_grade`"
   ]
  },
  {
   "cell_type": "code",
   "execution_count": null,
   "id": "e9b7f196-70da-4007-9382-a383cde9efa1",
   "metadata": {
    "tags": []
   },
   "outputs": [],
   "source": [
    "def update_final_assignment_grades(student_records, allowed_late_submissions, max_late_days, quiz_drops, attendance_drops):\n",
    "    \"\"\"\n",
    "    Compute and add final PA, quiz, and attendance grades to each student's record.\n",
    "    \"\"\"\n",
    "    ..."
   ]
  },
  {
   "cell_type": "code",
   "execution_count": null,
   "id": "5a3075fd-7825-400e-9d4b-008f54cc5394",
   "metadata": {
    "tags": []
   },
   "outputs": [],
   "source": [
    "# Example input: \n",
    "student_records = {\n",
    "    '12345': {\n",
    "        'PA_gradescope_scores': [85, 90, 78, 88, 92],\n",
    "        'PA_late_days': [0, 6, 0, 0, 3],\n",
    "        'quiz_grades': [90, 85, 88, 92, 91, 84, 87],\n",
    "        'attendance_question_grades': [1, 1, 1, 1, 0, 1, 1, 1, 1, 1, 1, 1, 1, 1, 1]\n",
    "    }\n",
    "}\n",
    "\"\"\"\n",
    "Expected result of student_records: \n",
    "{'12345': {'PA_gradescope_scores': [85, 90, 78, 88, 92],\n",
    "  'PA_late_days': [0, 6, 0, 0, 3],\n",
    "  'quiz_grades': [90, 85, 88, 92, 91, 84, 87],\n",
    "  'attendance_question_grades': [1, 1, 1, 1, 0, 1, 1, 1, 1, 1, 1, 1, 1, 1, 1],\n",
    "  'final_PA_grade': 68.6,\n",
    "  'final_quiz_grade': 88.83333333333333,\n",
    "  'final_attendance_grade': 1.0}}\n",
    "\"\"\"\n",
    "update_final_assignment_grades(student_records, allowed_late_submissions=2, max_late_days=5, quiz_drops=1, attendance_drops=5)\n",
    "student_records"
   ]
  },
  {
   "cell_type": "code",
   "execution_count": null,
   "id": "67e29285",
   "metadata": {
    "deletable": false,
    "editable": false
   },
   "outputs": [],
   "source": [
    "grader.check(\"Q6\")"
   ]
  },
  {
   "cell_type": "markdown",
   "id": "42348f29-7323-42a0-bb18-1ba922d97e9a",
   "metadata": {
    "deletable": false,
    "editable": false
   },
   "source": [
    "## Question 7. Compute final grade and letter grade\n",
    "Implement a function to compute the final grade and letter grade for each student based on the weighted grades for Programming Assignments (PAs), quizzes, and attendance.\n",
    "\n",
    "The function will take the following inputs:\n",
    "\n",
    "* `student_records`: all `final_PA_grade`, `final_quiz_grade`, and `final_attendance_grade` are filled in `student_records` as in Question 6. \n",
    "* `pa_weight`: the weight of PAs in the final grade.\n",
    "* `quiz_weight`: the weight of quizzes in the final grade.\n",
    "* `attendance_weight`: the weight of attendance in the final grade.\n",
    "\n",
    "Your function should:\n",
    "* Compute the final grade for each student.\n",
    "* Assign a letter grade of 'P' if the final grade is 70 or higher, otherwise 'NP'.\n",
    "* Add `final_grade` and `letter_grade` to each student’s record.\n",
    "* Return a list of tuples containing the `student_id` and `letter_grade`."
   ]
  },
  {
   "cell_type": "code",
   "execution_count": null,
   "id": "8abbc7df-dc49-4f78-b68a-00d2b3a45f2f",
   "metadata": {
    "tags": []
   },
   "outputs": [],
   "source": [
    "def compute_final_grades(student_records, pa_weight, quiz_weight, attendance_weight):\n",
    "    \"\"\"\n",
    "    Compute the final grade and letter grade for each student, and return a list of tuples with student_id and letter_grade.\n",
    "    \"\"\"\n",
    "    ..."
   ]
  },
  {
   "cell_type": "code",
   "execution_count": null,
   "id": "dc94b693-778b-4736-9a76-706e61919ddf",
   "metadata": {
    "tags": []
   },
   "outputs": [],
   "source": [
    "# Example input:\n",
    "student_records = {\n",
    "    '12345': {\n",
    "        'final_PA_grade': 86,\n",
    "        'final_quiz_grade': 90,\n",
    "        'final_attendance_grade': 95\n",
    "    },\n",
    "    '67890': {\n",
    "        'final_PA_grade': 60,\n",
    "        'final_quiz_grade': 65,\n",
    "        'final_attendance_grade': 70\n",
    "    }\n",
    "}\n",
    "\n",
    "# Expected output: [('12345', 'P'), ('67890', 'NP')]\n",
    "compute_final_grades(student_records, pa_weight=0.6, quiz_weight=0.3, attendance_weight=0.1)"
   ]
  },
  {
   "cell_type": "code",
   "execution_count": null,
   "id": "5c134468-d8b4-401b-b1f5-9be733090430",
   "metadata": {
    "tags": []
   },
   "outputs": [],
   "source": [
    "student_records"
   ]
  },
  {
   "cell_type": "code",
   "execution_count": null,
   "id": "b302535a",
   "metadata": {
    "deletable": false,
    "editable": false
   },
   "outputs": [],
   "source": [
    "grader.check(\"Q7\")"
   ]
  },
  {
   "cell_type": "markdown",
   "id": "ae290eae-dca8-4faf-ab1f-17a4915f75ae",
   "metadata": {
    "deletable": false,
    "editable": false
   },
   "source": [
    "## Question 8. Putting it all together\n",
    "You will implement a function that, given `student_records` with all PA, quiz, and attendance data filled, and a dictionary of configurations, computes both the final grades for each assignment type (PA, quiz, attendance) and the overall final grade, as well as assigns a letter grade using functions in Question 6 and 7. \n",
    "\n",
    "The function will take the following parameters:\n",
    "\n",
    "* `student_records`: all `PA_gradescope_scores`, `PA_late_days`, `quiz_grades`, and `attendance_question_grades` records in `student_records` are filled. \n",
    "* `configuration`: A dictionary specifying:\n",
    "    * `allowed_late_submissions`\n",
    "    * `max_late_days`\n",
    "    * `quiz_drops`\n",
    "    * `attendance_drops`\n",
    "    * `pa_weight`\n",
    "    * `quiz_weight`\n",
    "    * `attendance_weight`\n",
    "\n",
    "Your function should achieve what have been done in question 6 and 7. "
   ]
  },
  {
   "cell_type": "code",
   "execution_count": null,
   "id": "8c32937f-8524-4dc3-8a50-ccd7f22a019f",
   "metadata": {
    "tags": []
   },
   "outputs": [],
   "source": [
    "def put_it_together(student_records, configuration):\n",
    "    \"\"\"\n",
    "    Compute the final assignment grades (PA, quiz, attendance), the final overall grade, \n",
    "    and return the letter grade for each student.\n",
    "    \"\"\"\n",
    "\n",
    "    ..."
   ]
  },
  {
   "cell_type": "code",
   "execution_count": null,
   "id": "bf23a0e0-a4be-435a-b27e-7b13bdb4590a",
   "metadata": {
    "tags": []
   },
   "outputs": [],
   "source": [
    "# Example input: \n",
    "student_records = {\n",
    "    '12345': {\n",
    "        'PA_gradescope_scores': [85, 90, 78, 88, 92],\n",
    "        'PA_late_days': [0, 5, 0, 0, 3],\n",
    "        'quiz_grades': [90, 85, 88, 92, 91, 84, 87],\n",
    "        'attendance_question_grades': [1, 1, 1, 1, 0, 1, 1, 1, 1, 1, 1, 1, 1, 1, 1]\n",
    "    }\n",
    "}\n",
    "\n",
    "configuration = {\n",
    "    'allowed_late_submissions': 2,\n",
    "    'max_late_days': 5,\n",
    "    'quiz_drops': 1,\n",
    "    'attendance_drops': 5,\n",
    "    'pa_weight': 0.6,\n",
    "    'quiz_weight': 0.3,\n",
    "    'attendance_weight': 0.1\n",
    "}\n",
    "\n",
    "put_it_together(student_records, configuration)"
   ]
  },
  {
   "cell_type": "code",
   "execution_count": null,
   "id": "1fe6cce9-b283-4fe4-a65c-8485c585eca1",
   "metadata": {
    "tags": []
   },
   "outputs": [],
   "source": [
    "student_records"
   ]
  },
  {
   "cell_type": "code",
   "execution_count": null,
   "id": "cfee84b9",
   "metadata": {
    "deletable": false,
    "editable": false
   },
   "outputs": [],
   "source": [
    "grader.check(\"Q8\")"
   ]
  },
  {
   "cell_type": "markdown",
   "id": "b24d4478-591b-4d30-a90f-3128b5f90b49",
   "metadata": {},
   "source": [
    "Now you know how to build a grade manager using a variety of data structures! You’ve worked with dictionaries to store student records, lists for grades and attendance, sets for handling unique values, and tuples for efficiently managing immutable data like final grade summaries. By combining these structures, you've streamlined the process of updating records, computing grades, and handling late submissions. With these skills, your grade manager is ready to handle complex student data and grading tasks with ease!"
   ]
  },
  {
   "cell_type": "markdown",
   "id": "492f10ba",
   "metadata": {
    "deletable": false,
    "editable": false
   },
   "source": [
    "## Submission\n",
    "\n",
    "Make sure you have run all cells in your notebook in order before running the cell below, so that all images/graphs appear in the output. The cell below will generate a zip file for you to submit. **Please save before exporting!**"
   ]
  },
  {
   "cell_type": "code",
   "execution_count": null,
   "id": "8e91e80c",
   "metadata": {
    "deletable": false,
    "editable": false
   },
   "outputs": [],
   "source": [
    "# Save your notebook first, then run this cell to export your submission.\n",
    "grader.export(pdf=False, run_tests=True)"
   ]
  },
  {
   "cell_type": "markdown",
   "id": "cf30e05d",
   "metadata": {},
   "source": [
    " "
   ]
  }
 ],
 "metadata": {
  "kernelspec": {
   "display_name": "Python 3 (ipykernel)",
   "language": "python",
   "name": "python3"
  },
  "language_info": {
   "codemirror_mode": {
    "name": "ipython",
    "version": 3
   },
   "file_extension": ".py",
   "mimetype": "text/x-python",
   "name": "python",
   "nbconvert_exporter": "python",
   "pygments_lexer": "ipython3",
   "version": "3.12.5"
  },
  "otter": {
   "OK_FORMAT": true,
   "tests": {
    "Q1": {
     "name": "Q1",
     "points": 1,
     "suites": [
      {
       "cases": [
        {
         "code": ">>> test_records = {'11111': {'name': 'Dana', 'PA_gradescope_scores': None, 'PA_late_days': None, 'quiz_grades': None, 'attendance_question_grades': None}, '22222': {'name': 'Eli', 'PA_gradescope_scores': None, 'PA_late_days': None, 'quiz_grades': None, 'attendance_question_grades': None}}\n>>> initialize_student_records(test_records)\n>>> assert test_records['11111']['PA_gradescope_scores'] == [0, 0, 0, 0, 0]\n>>> assert test_records['11111']['PA_late_days'] == [0, 0, 0, 0, 0]\n>>> assert test_records['11111']['quiz_grades'] == [0, 0, 0, 0, 0, 0, 0]\n>>> assert test_records['11111']['attendance_question_grades'] == [0] * 15\n>>> assert test_records['22222']['PA_gradescope_scores'] == [0, 0, 0, 0, 0]\n>>> assert test_records['22222']['PA_late_days'] == [0, 0, 0, 0, 0]\n>>> assert test_records['22222']['quiz_grades'] == [0, 0, 0, 0, 0, 0, 0]\n>>> assert test_records['22222']['attendance_question_grades'] == [0] * 15\n",
         "hidden": false,
         "locked": false
        }
       ],
       "scored": true,
       "setup": "",
       "teardown": "",
       "type": "doctest"
      }
     ]
    },
    "Q2": {
     "name": "Q2",
     "points": 1,
     "suites": [
      {
       "cases": [
        {
         "code": ">>> test_records = {'12345': {'name': 'Alice', 'PA_gradescope_scores': [85, 90, 78, 88, 92], 'PA_late_days': [0, 1, 0, 0, 2], 'PA_grades': [85, 85, 78, 88, 80], 'quiz_grades': [90, 85, 88, 92, 91, 84, 87], 'attendance_question_grades': [1, 1, 1, 1, 0, 1, 1, 1, 1, 1, 1, 1, 1, 1, 1]}}\n>>> update_record_entry(test_records, '12345', 'PA', 3, 95)\n>>> assert test_records['12345']['PA_gradescope_scores'] == [85, 90, 95, 88, 92]\n",
         "hidden": false,
         "locked": false
        },
        {
         "code": ">>> test_records = {'12345': {'name': 'Alice', 'PA_gradescope_scores': [85, 90, 78, 88, 92], 'PA_late_days': [0, 1, 0, 0, 2], 'PA_grades': [85, 85, 78, 88, 80], 'quiz_grades': [90, 85, 88, 92, 91, 84, 87], 'attendance_question_grades': [1, 1, 1, 1, 0, 1, 1, 1, 1, 1, 1, 1, 1, 1, 1]}}\n>>> update_record_entry(test_records, '12345', 'quiz', 5, 94)\n>>> assert test_records['12345']['quiz_grades'][4] == 94\n",
         "hidden": false,
         "locked": false
        },
        {
         "code": ">>> test_records = {'12345': {'name': 'Alice', 'PA_gradescope_scores': [85, 90, 78, 88, 92], 'PA_late_days': [0, 1, 0, 0, 2], 'PA_grades': [85, 85, 78, 88, 80], 'quiz_grades': [90, 85, 88, 92, 91, 84, 87], 'attendance_question_grades': [1, 1, 1, 1, 0, 1, 1, 1, 1, 1, 1, 1, 1, 1, 1]}}\n>>> update_record_entry(test_records, '12345', 'attendance', 5, 1)\n>>> assert test_records['12345']['attendance_question_grades'][4] == 1\n",
         "hidden": false,
         "locked": false
        },
        {
         "code": ">>> test_records = {'12345': {'name': 'Alice', 'PA_gradescope_scores': [85, 90, 78, 88, 92], 'PA_late_days': [0, 1, 0, 0, 2], 'PA_grades': [85, 85, 78, 88, 80], 'quiz_grades': [90, 85, 88, 92, 91, 84, 87], 'attendance_question_grades': [1, 1, 1, 1, 0, 1, 1, 1, 1, 1, 1, 1, 1, 1, 1]}}\n>>> try:\n...     update_record_entry(test_records, '99999', 'PA', 3, 95)\n... except ValueError as e:\n...     assert str(e) == 'Student ID not found.'\n",
         "hidden": false,
         "locked": false
        },
        {
         "code": ">>> test_records = {'12345': {'name': 'Alice', 'PA_gradescope_scores': [85, 90, 78, 88, 92], 'PA_late_days': [0, 1, 0, 0, 2], 'PA_grades': [85, 85, 78, 88, 80], 'quiz_grades': [90, 85, 88, 92, 91, 84, 87], 'attendance_question_grades': [1, 1, 1, 1, 0, 1, 1, 1, 1, 1, 1, 1, 1, 1, 1]}}\n>>> try:\n...     update_record_entry(test_records, '12345', 'project', 1, 95)\n... except ValueError as e:\n...     assert str(e) == \"Invalid assignment type. Valid types are 'PA', 'quiz', or 'attendance'.\"\n",
         "hidden": false,
         "locked": false
        },
        {
         "code": ">>> test_records = {'12345': {'name': 'Alice', 'PA_gradescope_scores': [85, 90, 78, 88, 92], 'PA_late_days': [0, 1, 0, 0, 2], 'PA_grades': [85, 85, 78, 88, 80], 'quiz_grades': [90, 85, 88, 92, 91, 84, 87], 'attendance_question_grades': [1, 1, 1, 1, 0, 1, 1, 1, 1, 1, 1, 1, 1, 1, 1]}}\n>>> try:\n...     update_record_entry(test_records, '12345', 'quiz', 8, 95)\n... except ValueError as e:\n...     assert str(e) == 'Assignment number out of bounds for Quizzes.'\n",
         "hidden": false,
         "locked": false
        },
        {
         "code": ">>> test_records = {'12345': {'name': 'Alice', 'PA_gradescope_scores': [85, 90, 78, 88, 92], 'PA_late_days': [0, 1, 0, 0, 2], 'PA_grades': [85, 85, 78, 88, 80], 'quiz_grades': [90, 85, 88, 92, 91, 84, 87], 'attendance_question_grades': [1, 1, 1, 1, 0, 1, 1, 1, 1, 1, 1, 1, 1, 1, 1]}}\n>>> try:\n...     update_record_entry(test_records, '12345', 'PA', -1, 95)\n... except ValueError as e:\n...     assert str(e) == 'Assignment number out of bounds for Programming Assignments.'\n",
         "hidden": false,
         "locked": false
        }
       ],
       "scored": true,
       "setup": "",
       "teardown": "",
       "type": "doctest"
      }
     ]
    },
    "Q3": {
     "name": "Q3",
     "points": 1,
     "suites": [
      {
       "cases": [
        {
         "code": ">>> student_records = {'12345': {'name': 'Alice', 'PA_gradescope_scores': [85, 90, 0, 0, 0], 'PA_late_days': [0, 1, 0, 0, 0], 'PA_grades': [85, 85, 0, 0, 0], 'quiz_grades': [90, 85, 0, 0, 0, 0, 0], 'attendance_question_grades': [1, 1, 1, 1, 0, 0, 0, 0, 0, 0, 0, 0, 0, 0, 0]}, '67890': {'name': 'Bob', 'PA_gradescope_scores': [88, 92, 0, 0, 0], 'PA_late_days': [0, 0, 0, 0, 0], 'PA_grades': [88, 92, 0, 0, 0], 'quiz_grades': [85, 87, 0, 0, 0, 0, 0], 'attendance_question_grades': [1, 1, 1, 0, 0, 0, 0, 0, 0, 0, 0, 0, 0, 0, 0]}}\n>>> batch_updates = {'12345': 95, '67890': 90}\n>>> invalid_student_ids = batch_update_grades(student_records, 'PA', 3, batch_updates)\n>>> assert student_records['12345']['PA_gradescope_scores'][2] == 95\n>>> assert student_records['67890']['PA_gradescope_scores'][2] == 90\n>>> assert invalid_student_ids == set()\n",
         "hidden": false,
         "locked": false
        },
        {
         "code": ">>> student_records = {'12345': {'name': 'Alice', 'PA_gradescope_scores': [85, 90, 0, 0, 0], 'PA_late_days': [0, 1, 0, 0, 0], 'PA_grades': [85, 85, 0, 0, 0], 'quiz_grades': [90, 85, 0, 0, 0, 0, 0], 'attendance_question_grades': [1, 1, 1, 1, 0, 0, 0, 0, 0, 0, 0, 0, 0, 0, 0]}, '67890': {'name': 'Bob', 'PA_gradescope_scores': [88, 92, 0, 0, 0], 'PA_late_days': [0, 0, 0, 0, 0], 'PA_grades': [88, 92, 0, 0, 0], 'quiz_grades': [85, 87, 0, 0, 0, 0, 0], 'attendance_question_grades': [1, 1, 1, 0, 0, 0, 0, 0, 0, 0, 0, 0, 0, 0, 0]}}\n>>> batch_updates = {'12345': 70, '67890': 80, '99999': 85, 'abcd': 77}\n>>> invalid_student_ids = batch_update_grades(student_records, 'PA', 3, batch_updates)\n>>> assert student_records['12345']['PA_gradescope_scores'][2] == 70\n>>> assert student_records['67890']['PA_gradescope_scores'][2] == 80\n>>> assert invalid_student_ids == {'99999', 'abcd'}\n",
         "hidden": false,
         "locked": false
        },
        {
         "code": ">>> try:\n...     batch_update_grades(student_records, 'project', 3, batch_updates)\n... except ValueError as e:\n...     assert str(e) == \"Invalid assignment type. Valid types are 'PA', 'quiz', or 'attendance'.\"\n",
         "hidden": false,
         "locked": false
        },
        {
         "code": ">>> try:\n...     batch_update_grades(student_records, 'PA', 6, batch_updates)\n... except ValueError as e:\n...     assert str(e) == 'Assignment number out of bounds for Programming Assignments.'\n",
         "hidden": false,
         "locked": false
        }
       ],
       "scored": true,
       "setup": "",
       "teardown": "",
       "type": "doctest"
      }
     ]
    },
    "Q4": {
     "name": "Q4",
     "points": 1,
     "suites": [
      {
       "cases": [
        {
         "code": ">>> grades = [90, 85, 88, 92, 91, 84, 87]\n>>> num_drops = 1\n>>> average = compute_average_with_drops(grades, num_drops)\n>>> assert average == (90 + 85 + 88 + 92 + 91 + 87) / 6\n",
         "hidden": false,
         "locked": false
        },
        {
         "code": ">>> grades = [1, 1, 1, 1, 0, 1, 1, 0, 1, 0, 1, 1, 1, 1, 1]\n>>> num_drops = 5\n>>> average = compute_average_with_drops(grades, num_drops)\n>>> assert average == (1 + 1 + 1 + 1 + 1 + 1 + 1 + 1 + 1 + 1) / 10\n",
         "hidden": false,
         "locked": false
        },
        {
         "code": ">>> grades = [50, 60]\n>>> num_drops = 1\n>>> average = compute_average_with_drops(grades, num_drops)\n>>> assert average == 60\n",
         "hidden": false,
         "locked": false
        },
        {
         "code": ">>> grades = [70]\n>>> num_drops = 1\n>>> average = compute_average_with_drops(grades, num_drops)\n>>> assert average == 0\n",
         "hidden": false,
         "locked": false
        },
        {
         "code": ">>> grades = [100, 100, 100, 100]\n>>> num_drops = 10\n>>> average = compute_average_with_drops(grades, num_drops)\n>>> assert average == 0\n",
         "hidden": false,
         "locked": false
        },
        {
         "code": ">>> grades = [90, 85, 88, 92, 91, 84, 87]\n>>> num_drops = 0\n>>> average = compute_average_with_drops(grades, num_drops)\n>>> assert average == sum(grades) / len(grades)\n",
         "hidden": false,
         "locked": false
        }
       ],
       "scored": true,
       "setup": "",
       "teardown": "",
       "type": "doctest"
      }
     ]
    },
    "Q5": {
     "name": "Q5",
     "points": 1,
     "suites": [
      {
       "cases": [
        {
         "code": ">>> pa_grades = [85, 90, 78, 88, 92]\n>>> pa_late_days = [0, 4, 0, 0, 3]\n>>> allowed_late_submissions = 2\n>>> max_late_days = 5\n>>> average = compute_pa_average(pa_grades, pa_late_days, allowed_late_submissions, max_late_days)\n>>> assert average == (85 + 90 + 78 + 88 + 92) / 5\n",
         "hidden": false,
         "locked": false
        },
        {
         "code": ">>> pa_grades = [85, 90, 78, 88, 92]\n>>> pa_late_days = [0, 6, 2, 3, 3]\n>>> allowed_late_submissions = 2\n>>> max_late_days = 5\n>>> average = compute_pa_average(pa_grades, pa_late_days, allowed_late_submissions, max_late_days)\n>>> assert average == (85 + 0 + 78 + 88 + 0) / 5\n",
         "hidden": false,
         "locked": false
        },
        {
         "code": ">>> pa_grades = [85, 90, 78, 88, 92]\n>>> pa_late_days = [0, 6, 0, 0, 3]\n>>> allowed_late_submissions = 2\n>>> max_late_days = 5\n>>> average = compute_pa_average(pa_grades, pa_late_days, allowed_late_submissions, max_late_days)\n>>> assert average == (85 + 0 + 78 + 88 + 92) / 5\n",
         "hidden": false,
         "locked": false
        },
        {
         "code": ">>> pa_grades = [85, 90, 78, 88, 92]\n>>> pa_late_days = [0, 3, 0, 2, 5]\n>>> allowed_late_submissions = 2\n>>> max_late_days = 5\n>>> average = compute_pa_average(pa_grades, pa_late_days, allowed_late_submissions, max_late_days)\n>>> assert average == (85 + 90 + 78 + 88 + 0) / 5\n",
         "hidden": false,
         "locked": false
        },
        {
         "code": ">>> pa_grades = [85, 90, 78, 88, 92]\n>>> pa_late_days = [6, 7, 3, 4, 8]\n>>> allowed_late_submissions = 2\n>>> max_late_days = 5\n>>> average = compute_pa_average(pa_grades, pa_late_days, allowed_late_submissions, max_late_days)\n>>> assert average == (78 + 88) / 5\n",
         "hidden": false,
         "locked": false
        }
       ],
       "scored": true,
       "setup": "",
       "teardown": "",
       "type": "doctest"
      }
     ]
    },
    "Q6": {
     "name": "Q6",
     "points": 1,
     "suites": [
      {
       "cases": [
        {
         "code": ">>> student_records = {'12345': {'PA_gradescope_scores': [85, 90, 78, 88, 92], 'PA_late_days': [0, 6, 0, 0, 3], 'quiz_grades': [90, 85, 88, 92, 91, 84, 87], 'attendance_question_grades': [1, 1, 1, 1, 0, 1, 1, 1, 1, 1, 1, 1, 1, 1, 1]}}\n>>> update_final_assignment_grades(student_records, allowed_late_submissions=2, max_late_days=5, quiz_drops=1, attendance_drops=5)\n>>> assert student_records['12345']['final_PA_grade'] == (85 + 0 + 78 + 88 + 92) / 5\n>>> assert student_records['12345']['final_quiz_grade'] == (90 + 85 + 88 + 92 + 91 + 87) / 6\n>>> assert student_records['12345']['final_attendance_grade'] == (1 + 1 + 1 + 1 + 1 + 1 + 1 + 1 + 1 + 1) / 10\n",
         "hidden": false,
         "locked": false
        },
        {
         "code": ">>> student_records = {'67890': {'PA_gradescope_scores': [95, 85, 80, 90, 100], 'PA_late_days': [0, 0, 0, 0, 0], 'quiz_grades': [90, 85, 88, 92, 87, 85, 89], 'attendance_question_grades': [1, 1, 1, 1, 1, 1, 1, 1, 1, 1, 1, 1, 1, 1, 1]}}\n>>> update_final_assignment_grades(student_records, allowed_late_submissions=2, max_late_days=5, quiz_drops=0, attendance_drops=0)\n>>> assert student_records['67890']['final_PA_grade'] == (95 + 85 + 80 + 90 + 100) / 5\n>>> assert student_records['67890']['final_quiz_grade'] == (90 + 85 + 88 + 92 + 87 + 85 + 89) / 7\n>>> assert student_records['67890']['final_attendance_grade'] == 1.0\n",
         "hidden": false,
         "locked": false
        },
        {
         "code": ">>> student_records = {'24680': {'PA_gradescope_scores': [70, 75, 80, 85, 90], 'PA_late_days': [6, 6, 7, 8, 9], 'quiz_grades': [85, 80, 78, 90, 95, 88, 91], 'attendance_question_grades': [1, 1, 0, 1, 1, 0, 1, 1, 0, 0, 1, 0, 1, 1, 0]}}\n>>> update_final_assignment_grades(student_records, allowed_late_submissions=2, max_late_days=5, quiz_drops=1, attendance_drops=5)\n>>> assert student_records['24680']['final_PA_grade'] == 0\n>>> assert student_records['24680']['final_quiz_grade'] == (85 + 80 + 0 + 90 + 95 + 88 + 91) / 6\n>>> assert student_records['24680']['final_attendance_grade'] == (1 + 1 + 1 + 1 + 1 + 1 + 1 + 1 + 1 + 0) / 10\n",
         "hidden": false,
         "locked": false
        },
        {
         "code": ">>> student_records = {'54321': {'PA_gradescope_scores': [95, 85, 80, 90, 100], 'PA_late_days': [0, 0, 0, 0, 0], 'quiz_grades': [90, 0, 0, 0, 0, 0, 0], 'attendance_question_grades': [1, 1, 1, 1, 1, 1, 1, 1, 1, 1, 1, 1, 1, 1, 1]}}\n>>> update_final_assignment_grades(student_records, allowed_late_submissions=2, max_late_days=5, quiz_drops=2, attendance_drops=5)\n>>> assert student_records['54321']['final_PA_grade'] == (95 + 85 + 80 + 90 + 100) / 5\n>>> assert student_records['54321']['final_quiz_grade'] == 90 / 5\n>>> assert student_records['54321']['final_attendance_grade'] == (1 + 1 + 1 + 1 + 1 + 1 + 1 + 1 + 1 + 1) / 10\n",
         "hidden": false,
         "locked": false
        },
        {
         "code": ">>> student_records = {'12345': {'PA_gradescope_scores': [85, 90, 78, 88, 92], 'PA_late_days': [0, 6, 0, 0, 3], 'quiz_grades': [90, 85, 88, 92, 91, 84, 87], 'attendance_question_grades': [1, 0, 1, 1, 0, 1, 0, 1, 1, 0, 1, 0, 1, 1, 1]}, '67890': {'PA_gradescope_scores': [95, 85, 80, 90, 100], 'PA_late_days': [0, 4, 0, 6, 4], 'quiz_grades': [90, 0, 88, 92, 87, 0, 89], 'attendance_question_grades': [1, 1, 1, 1, 1, 1, 0, 1, 1, 1, 1, 1, 1, 1, 1]}, '24680': {'PA_gradescope_scores': [70, 75, 80, 85, 90], 'PA_late_days': [0, 0, 3, 4, 4], 'quiz_grades': [85, 80, 78, 90, 95, 88, 91], 'attendance_question_grades': [0, 1, 0, 1, 1, 0, 1, 1, 0, 1, 0, 1, 0, 0, 0]}}\n>>> allowed_late_submissions = 2\n>>> max_late_days = 5\n>>> quiz_drops = 1\n>>> attendance_drops = 5\n>>> update_final_assignment_grades(student_records, allowed_late_submissions, max_late_days, quiz_drops, attendance_drops)\n>>> assert student_records['12345']['final_PA_grade'] == (85 + 0 + 78 + 88 + 92) / 5\n>>> assert student_records['12345']['final_quiz_grade'] == (90 + 85 + 88 + 92 + 91 + 0 + 87) / 6\n>>> assert student_records['12345']['final_attendance_grade'] == (1 + 1 + 1 + 1 + 1 + 1 + 1 + 1 + 1 + 1) / 10\n>>> assert student_records['67890']['final_PA_grade'] == (95 + 85 + 80 + 0 + 100) / 5\n>>> assert student_records['67890']['final_quiz_grade'] == (90 + 0 + 88 + 92 + 87 + 0 + 89) / 6\n>>> assert student_records['67890']['final_attendance_grade'] == (1 + 1 + 1 + 1 + 1 + 1 + 1 + 1 + 1 + 1) / 10\n>>> assert student_records['24680']['final_PA_grade'] == (70 + 75 + 80 + 85 + 0) / 5\n>>> assert student_records['24680']['final_quiz_grade'] == (85 + 80 + 0 + 90 + 95 + 88 + 91) / 6\n>>> assert student_records['24680']['final_attendance_grade'] == (1 + 1 + 1 + 1 + 1 + 1 + 1 + 0 + 0 + 0) / 10\n",
         "hidden": false,
         "locked": false
        }
       ],
       "scored": true,
       "setup": "",
       "teardown": "",
       "type": "doctest"
      }
     ]
    },
    "Q7": {
     "name": "Q7",
     "points": 1,
     "suites": [
      {
       "cases": [
        {
         "code": ">>> student_records = {'12345': {'final_PA_grade': 86, 'final_quiz_grade': 90, 'final_attendance_grade': 95}, '67890': {'final_PA_grade': 60, 'final_quiz_grade': 65, 'final_attendance_grade': 70}, '11111': {'final_PA_grade': 70, 'final_quiz_grade': 70, 'final_attendance_grade': 70}}\n>>> result = compute_final_grades(student_records, pa_weight=0.6, quiz_weight=0.3, attendance_weight=0.1)\n>>> assert student_records['12345']['final_grade'] == 86 * 0.6 + 90 * 0.3 + 95 * 0.1\n>>> assert student_records['12345']['letter_grade'] == 'P'\n>>> assert student_records['67890']['final_grade'] == 60 * 0.6 + 65 * 0.3 + 70 * 0.1\n>>> assert student_records['67890']['letter_grade'] == 'NP'\n>>> assert student_records['11111']['final_grade'] == 70\n>>> assert student_records['11111']['letter_grade'] == 'P'\n>>> assert result == [('12345', 'P'), ('67890', 'NP'), ('11111', 'P')]\n",
         "hidden": false,
         "locked": false
        }
       ],
       "scored": true,
       "setup": "",
       "teardown": "",
       "type": "doctest"
      }
     ]
    },
    "Q8": {
     "name": "Q8",
     "points": 1,
     "suites": [
      {
       "cases": [
        {
         "code": ">>> import random\n>>> \n>>> def generate_random_grades(num_grades, min_grade=70, max_grade=100):\n...     return [random.randint(min_grade, max_grade) for _ in range(num_grades)]\n>>> \n>>> def generate_random_late_days(num_days, max_late_days=10, prob_on_time=0.8, prob_small_late=0.15):\n...     late_days = []\n...     for _ in range(num_days):\n...         if random.random() < prob_on_time:\n...             late_days.append(0)\n...         elif random.random() < prob_small_late:\n...             late_days.append(random.randint(1, 5))\n...         else:\n...             late_days.append(random.randint(6, max_late_days))\n...     return late_days\n>>> \n>>> def generate_random_attendance(num_questions, prob_missed=0.2):\n...     attendance = []\n...     for _ in range(num_questions):\n...         if random.random() < prob_missed:\n...             attendance.append(0)\n...         else:\n...             attendance.append(1)\n...     return attendance\n>>> \n>>> def create_student_record(num_pa=5, num_quizzes=7, num_attendance=15):\n...     return {'PA_gradescope_scores': generate_random_grades(num_pa), 'PA_late_days': generate_random_late_days(num_pa), 'quiz_grades': generate_random_grades(num_quizzes), 'attendance_question_grades': generate_random_attendance(num_attendance)}\n>>> \n>>> def create_student_records(num_students):\n...     student_records = {}\n...     for i in range(1, num_students + 1):\n...         student_id = str(10000 + i)\n...         student_records[student_id] = create_student_record()\n...     return student_records\n",
         "hidden": false,
         "locked": false
        },
        {
         "code": ">>> test_records = {'10001': {'PA_gradescope_scores': [85, 99, 97, 96, 81], 'PA_late_days': [7, 0, 0, 0, 0], 'quiz_grades': [89, 83, 98, 73, 89, 86, 74], 'attendance_question_grades': [1, 0, 1, 1, 1, 1, 1, 0, 1, 1, 1, 1, 1, 1, 1]}, '10002': {'PA_gradescope_scores': [74, 97, 78, 78, 70], 'PA_late_days': [8, 10, 1, 0, 0], 'quiz_grades': [89, 90, 70, 71, 71, 92, 70], 'attendance_question_grades': [1, 1, 1, 1, 1, 1, 1, 1, 1, 1, 1, 0, 1, 0, 1]}, '10003': {'PA_gradescope_scores': [100, 87, 85, 75, 71], 'PA_late_days': [0, 0, 0, 0, 0], 'quiz_grades': [77, 88, 87, 90, 94, 93, 79], 'attendance_question_grades': [1, 1, 1, 0, 1, 1, 1, 0, 0, 0, 1, 0, 1, 0, 0]}, '10004': {'PA_gradescope_scores': [95, 73, 80, 98, 80], 'PA_late_days': [0, 0, 0, 0, 0], 'quiz_grades': [84, 71, 98, 84, 90, 87, 79], 'attendance_question_grades': [1, 0, 1, 1, 0, 1, 1, 1, 1, 1, 1, 0, 1, 0, 1]}, '10005': {'PA_gradescope_scores': [77, 70, 99, 81, 92], 'PA_late_days': [0, 10, 7, 0, 0], 'quiz_grades': [90, 83, 91, 72, 86, 98, 87], 'attendance_question_grades': [1, 1, 1, 1, 1, 1, 0, 1, 1, 1, 1, 1, 1, 1, 1]}, '10006': {'PA_gradescope_scores': [100, 86, 94, 77, 93], 'PA_late_days': [0, 0, 0, 0, 0], 'quiz_grades': [73, 90, 100, 89, 72, 97, 81], 'attendance_question_grades': [1, 1, 1, 1, 1, 1, 1, 1, 1, 0, 1, 1, 1, 1, 1]}, '10007': {'PA_gradescope_scores': [100, 84, 94, 93, 85], 'PA_late_days': [0, 0, 0, 0, 3], 'quiz_grades': [79, 72, 100, 92, 88, 71, 80], 'attendance_question_grades': [0, 1, 0, 1, 1, 1, 1, 1, 1, 1, 1, 1, 1, 1, 1]}, '10008': {'PA_gradescope_scores': [99, 92, 71, 79, 86], 'PA_late_days': [0, 0, 10, 0, 0], 'quiz_grades': [96, 96, 98, 74, 70, 72, 79], 'attendance_question_grades': [0, 1, 0, 1, 0, 1, 1, 0, 1, 1, 0, 1, 0, 1, 1]}, '10009': {'PA_gradescope_scores': [80, 82, 82, 70, 78], 'PA_late_days': [0, 0, 0, 0, 0], 'quiz_grades': [76, 89, 75, 100, 80, 78, 98], 'attendance_question_grades': [1, 0, 1, 1, 1, 1, 1, 1, 1, 1, 1, 0, 1, 0, 1]}, '10010': {'PA_gradescope_scores': [90, 88, 76, 86, 85], 'PA_late_days': [2, 0, 0, 0, 0], 'quiz_grades': [93, 70, 84, 89, 89, 96, 93], 'attendance_question_grades': [0, 0, 1, 1, 1, 0, 0, 1, 1, 0, 1, 1, 1, 0, 1]}, '10011': {'PA_gradescope_scores': [80, 82, 88, 80, 75], 'PA_late_days': [0, 6, 0, 0, 0], 'quiz_grades': [90, 89, 99, 80, 71, 87, 92], 'attendance_question_grades': [0, 1, 1, 1, 1, 1, 1, 1, 1, 1, 1, 1, 1, 1, 0]}, '10012': {'PA_gradescope_scores': [80, 82, 88, 74, 93], 'PA_late_days': [0, 0, 0, 0, 0], 'quiz_grades': [80, 99, 72, 70, 86, 75, 73], 'attendance_question_grades': [1, 1, 1, 1, 1, 1, 0, 1, 1, 0, 0, 1, 1, 1, 1]}, '10013': {'PA_gradescope_scores': [74, 97, 86, 90, 97], 'PA_late_days': [0, 9, 0, 0, 7], 'quiz_grades': [78, 96, 80, 77, 74, 99, 76], 'attendance_question_grades': [1, 1, 0, 1, 1, 1, 1, 1, 1, 0, 1, 1, 0, 1, 1]}, '10014': {'PA_gradescope_scores': [92, 76, 91, 100, 79], 'PA_late_days': [0, 0, 0, 0, 0], 'quiz_grades': [75, 70, 78, 89, 76, 93, 83], 'attendance_question_grades': [0, 0, 1, 1, 1, 1, 1, 1, 1, 1, 1, 0, 1, 1, 0]}, '10015': {'PA_gradescope_scores': [87, 100, 99, 96, 78], 'PA_late_days': [0, 7, 0, 0, 0], 'quiz_grades': [83, 73, 74, 83, 97, 98, 99], 'attendance_question_grades': [1, 1, 1, 1, 0, 1, 1, 1, 1, 1, 1, 1, 1, 1, 1]}, '10016': {'PA_gradescope_scores': [93, 82, 84, 73, 73], 'PA_late_days': [0, 0, 0, 0, 0], 'quiz_grades': [92, 81, 97, 97, 90, 98, 75], 'attendance_question_grades': [1, 1, 1, 0, 1, 0, 1, 1, 1, 1, 0, 1, 1, 1, 1]}, '10017': {'PA_gradescope_scores': [89, 99, 82, 74, 82], 'PA_late_days': [0, 6, 9, 6, 0], 'quiz_grades': [84, 76, 71, 77, 83, 70, 100], 'attendance_question_grades': [1, 0, 1, 0, 0, 1, 1, 1, 1, 1, 0, 1, 1, 0, 1]}, '10018': {'PA_gradescope_scores': [71, 94, 93, 80, 86], 'PA_late_days': [0, 0, 0, 0, 0], 'quiz_grades': [97, 80, 94, 95, 78, 73, 95], 'attendance_question_grades': [1, 1, 1, 0, 1, 0, 1, 1, 1, 0, 1, 1, 1, 1, 0]}, '10019': {'PA_gradescope_scores': [78, 77, 98, 88, 84], 'PA_late_days': [7, 0, 0, 0, 0], 'quiz_grades': [80, 74, 80, 90, 74, 70, 83], 'attendance_question_grades': [1, 1, 1, 1, 1, 1, 0, 1, 1, 1, 0, 0, 0, 0, 1]}, '10020': {'PA_gradescope_scores': [83, 87, 76, 84, 71], 'PA_late_days': [0, 0, 10, 0, 0], 'quiz_grades': [78, 71, 81, 95, 91, 99, 81], 'attendance_question_grades': [1, 1, 1, 1, 1, 1, 1, 1, 1, 1, 1, 1, 1, 0, 1]}}\n>>> assert put_it_together(test_records, configuration) == [('10001', 'P'), ('10002', 'NP'), ('10003', 'P'), ('10004', 'P'), ('10005', 'NP'), ('10006', 'P'), ('10007', 'P'), ('10008', 'NP'), ('10009', 'P'), ('10010', 'P'), ('10011', 'NP'), ('10012', 'P'), ('10013', 'NP'), ('10014', 'P'), ('10015', 'NP'), ('10016', 'P'), ('10017', 'NP'), ('10018', 'P'), ('10019', 'NP'), ('10020', 'NP')]\n>>> assert test_records == {'10001': {'PA_gradescope_scores': [85, 99, 97, 96, 81], 'PA_late_days': [7, 0, 0, 0, 0], 'quiz_grades': [89, 83, 98, 73, 89, 86, 74], 'attendance_question_grades': [1, 0, 1, 1, 1, 1, 1, 0, 1, 1, 1, 1, 1, 1, 1], 'final_PA_grade': 74.6, 'final_quiz_grade': 86.5, 'final_attendance_grade': 1.0, 'final_grade': 70.80999999999999, 'letter_grade': 'P'}, '10002': {'PA_gradescope_scores': [74, 97, 78, 78, 70], 'PA_late_days': [8, 10, 1, 0, 0], 'quiz_grades': [89, 90, 70, 71, 71, 92, 70], 'attendance_question_grades': [1, 1, 1, 1, 1, 1, 1, 1, 1, 1, 1, 0, 1, 0, 1], 'final_PA_grade': 45.2, 'final_quiz_grade': 80.5, 'final_attendance_grade': 1.0, 'final_grade': 51.37, 'letter_grade': 'NP'}, '10003': {'PA_gradescope_scores': [100, 87, 85, 75, 71], 'PA_late_days': [0, 0, 0, 0, 0], 'quiz_grades': [77, 88, 87, 90, 94, 93, 79], 'attendance_question_grades': [1, 1, 1, 0, 1, 1, 1, 0, 0, 0, 1, 0, 1, 0, 0], 'final_PA_grade': 83.6, 'final_quiz_grade': 88.5, 'final_attendance_grade': 0.8, 'final_grade': 76.78999999999999, 'letter_grade': 'P'}, '10004': {'PA_gradescope_scores': [95, 73, 80, 98, 80], 'PA_late_days': [0, 0, 0, 0, 0], 'quiz_grades': [84, 71, 98, 84, 90, 87, 79], 'attendance_question_grades': [1, 0, 1, 1, 0, 1, 1, 1, 1, 1, 1, 0, 1, 0, 1], 'final_PA_grade': 85.2, 'final_quiz_grade': 87.0, 'final_attendance_grade': 1.0, 'final_grade': 77.32, 'letter_grade': 'P'}, '10005': {'PA_gradescope_scores': [77, 70, 99, 81, 92], 'PA_late_days': [0, 10, 7, 0, 0], 'quiz_grades': [90, 83, 91, 72, 86, 98, 87], 'attendance_question_grades': [1, 1, 1, 1, 1, 1, 0, 1, 1, 1, 1, 1, 1, 1, 1], 'final_PA_grade': 50.0, 'final_quiz_grade': 89.16666666666667, 'final_attendance_grade': 1.0, 'final_grade': 56.85, 'letter_grade': 'NP'}, '10006': {'PA_gradescope_scores': [100, 86, 94, 77, 93], 'PA_late_days': [0, 0, 0, 0, 0], 'quiz_grades': [73, 90, 100, 89, 72, 97, 81], 'attendance_question_grades': [1, 1, 1, 1, 1, 1, 1, 1, 1, 0, 1, 1, 1, 1, 1], 'final_PA_grade': 90.0, 'final_quiz_grade': 88.33333333333333, 'final_attendance_grade': 1.0, 'final_grade': 80.6, 'letter_grade': 'P'}, '10007': {'PA_gradescope_scores': [100, 84, 94, 93, 85], 'PA_late_days': [0, 0, 0, 0, 3], 'quiz_grades': [79, 72, 100, 92, 88, 71, 80], 'attendance_question_grades': [0, 1, 0, 1, 1, 1, 1, 1, 1, 1, 1, 1, 1, 1, 1], 'final_PA_grade': 91.2, 'final_quiz_grade': 85.16666666666667, 'final_attendance_grade': 1.0, 'final_grade': 80.36999999999999, 'letter_grade': 'P'}, '10008': {'PA_gradescope_scores': [99, 92, 71, 79, 86], 'PA_late_days': [0, 0, 10, 0, 0], 'quiz_grades': [96, 96, 98, 74, 70, 72, 79], 'attendance_question_grades': [0, 1, 0, 1, 0, 1, 1, 0, 1, 1, 0, 1, 0, 1, 1], 'final_PA_grade': 71.2, 'final_quiz_grade': 85.83333333333333, 'final_attendance_grade': 0.9, 'final_grade': 68.56, 'letter_grade': 'NP'}, '10009': {'PA_gradescope_scores': [80, 82, 82, 70, 78], 'PA_late_days': [0, 0, 0, 0, 0], 'quiz_grades': [76, 89, 75, 100, 80, 78, 98], 'attendance_question_grades': [1, 0, 1, 1, 1, 1, 1, 1, 1, 1, 1, 0, 1, 0, 1], 'final_PA_grade': 78.4, 'final_quiz_grade': 86.83333333333333, 'final_attendance_grade': 1.0, 'final_grade': 73.19, 'letter_grade': 'P'}, '10010': {'PA_gradescope_scores': [90, 88, 76, 86, 85], 'PA_late_days': [2, 0, 0, 0, 0], 'quiz_grades': [93, 70, 84, 89, 89, 96, 93], 'attendance_question_grades': [0, 0, 1, 1, 1, 0, 0, 1, 1, 0, 1, 1, 1, 0, 1], 'final_PA_grade': 85.0, 'final_quiz_grade': 90.66666666666667, 'final_attendance_grade': 0.9, 'final_grade': 78.29, 'letter_grade': 'P'}, '10011': {'PA_gradescope_scores': [80, 82, 88, 80, 75], 'PA_late_days': [0, 6, 0, 0, 0], 'quiz_grades': [90, 89, 99, 80, 71, 87, 92], 'attendance_question_grades': [0, 1, 1, 1, 1, 1, 1, 1, 1, 1, 1, 1, 1, 1, 0], 'final_PA_grade': 64.6, 'final_quiz_grade': 89.5, 'final_attendance_grade': 1.0, 'final_grade': 65.71, 'letter_grade': 'NP'}, '10012': {'PA_gradescope_scores': [80, 82, 88, 74, 93], 'PA_late_days': [0, 0, 0, 0, 0], 'quiz_grades': [80, 99, 72, 70, 86, 75, 73], 'attendance_question_grades': [1, 1, 1, 1, 1, 1, 0, 1, 1, 0, 0, 1, 1, 1, 1], 'final_PA_grade': 83.4, 'final_quiz_grade': 80.83333333333333, 'final_attendance_grade': 1.0, 'final_grade': 74.38999999999999, 'letter_grade': 'P'}, '10013': {'PA_gradescope_scores': [74, 97, 86, 90, 97], 'PA_late_days': [0, 9, 0, 0, 7], 'quiz_grades': [78, 96, 80, 77, 74, 99, 76], 'attendance_question_grades': [1, 1, 0, 1, 1, 1, 1, 1, 1, 0, 1, 1, 0, 1, 1], 'final_PA_grade': 50.0, 'final_quiz_grade': 84.33333333333333, 'final_attendance_grade': 1.0, 'final_grade': 55.4, 'letter_grade': 'NP'}, '10014': {'PA_gradescope_scores': [92, 76, 91, 100, 79], 'PA_late_days': [0, 0, 0, 0, 0], 'quiz_grades': [75, 70, 78, 89, 76, 93, 83], 'attendance_question_grades': [0, 0, 1, 1, 1, 1, 1, 1, 1, 1, 1, 0, 1, 1, 0], 'final_PA_grade': 87.6, 'final_quiz_grade': 82.33333333333333, 'final_attendance_grade': 1.0, 'final_grade': 77.35999999999999, 'letter_grade': 'P'}, '10015': {'PA_gradescope_scores': [87, 100, 99, 96, 78], 'PA_late_days': [0, 7, 0, 0, 0], 'quiz_grades': [83, 73, 74, 83, 97, 98, 99], 'attendance_question_grades': [1, 1, 1, 1, 0, 1, 1, 1, 1, 1, 1, 1, 1, 1, 1], 'final_PA_grade': 72.0, 'final_quiz_grade': 89.0, 'final_attendance_grade': 1.0, 'final_grade': 69.99999999999999, 'letter_grade': 'NP'}, '10016': {'PA_gradescope_scores': [93, 82, 84, 73, 73], 'PA_late_days': [0, 0, 0, 0, 0], 'quiz_grades': [92, 81, 97, 97, 90, 98, 75], 'attendance_question_grades': [1, 1, 1, 0, 1, 0, 1, 1, 1, 1, 0, 1, 1, 1, 1], 'final_PA_grade': 81.0, 'final_quiz_grade': 92.5, 'final_attendance_grade': 1.0, 'final_grade': 76.44999999999999, 'letter_grade': 'P'}, '10017': {'PA_gradescope_scores': [89, 99, 82, 74, 82], 'PA_late_days': [0, 6, 9, 6, 0], 'quiz_grades': [84, 76, 71, 77, 83, 70, 100], 'attendance_question_grades': [1, 0, 1, 0, 0, 1, 1, 1, 1, 1, 0, 1, 1, 0, 1], 'final_PA_grade': 34.2, 'final_quiz_grade': 81.83333333333333, 'final_attendance_grade': 1.0, 'final_grade': 45.169999999999995, 'letter_grade': 'NP'}, '10018': {'PA_gradescope_scores': [71, 94, 93, 80, 86], 'PA_late_days': [0, 0, 0, 0, 0], 'quiz_grades': [97, 80, 94, 95, 78, 73, 95], 'attendance_question_grades': [1, 1, 1, 0, 1, 0, 1, 1, 1, 0, 1, 1, 1, 1, 0], 'final_PA_grade': 84.8, 'final_quiz_grade': 89.83333333333333, 'final_attendance_grade': 1.0, 'final_grade': 77.92999999999999, 'letter_grade': 'P'}, '10019': {'PA_gradescope_scores': [78, 77, 98, 88, 84], 'PA_late_days': [7, 0, 0, 0, 0], 'quiz_grades': [80, 74, 80, 90, 74, 70, 83], 'attendance_question_grades': [1, 1, 1, 1, 1, 1, 0, 1, 1, 1, 0, 0, 0, 0, 1], 'final_PA_grade': 69.4, 'final_quiz_grade': 80.16666666666667, 'final_attendance_grade': 1.0, 'final_grade': 65.78999999999999, 'letter_grade': 'NP'}, '10020': {'PA_gradescope_scores': [83, 87, 76, 84, 71], 'PA_late_days': [0, 0, 10, 0, 0], 'quiz_grades': [78, 71, 81, 95, 91, 99, 81], 'attendance_question_grades': [1, 1, 1, 1, 1, 1, 1, 1, 1, 1, 1, 1, 1, 0, 1], 'final_PA_grade': 65.0, 'final_quiz_grade': 87.5, 'final_attendance_grade': 1.0, 'final_grade': 65.35, 'letter_grade': 'NP'}}\n",
         "hidden": false,
         "locked": false
        }
       ],
       "scored": true,
       "setup": "",
       "teardown": "",
       "type": "doctest"
      }
     ]
    }
   }
  }
 },
 "nbformat": 4,
 "nbformat_minor": 5
}
