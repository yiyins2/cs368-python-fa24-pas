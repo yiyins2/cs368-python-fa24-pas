{
 "cells": [
  {
   "cell_type": "code",
   "execution_count": null,
   "id": "f3300247",
   "metadata": {
    "deletable": false,
    "editable": false
   },
   "outputs": [],
   "source": [
    "# Initialize Otter\n",
    "import otter\n",
    "grader = otter.Notebook(\"pa4.ipynb\")"
   ]
  },
  {
   "cell_type": "code",
   "execution_count": null,
   "id": "4d72628c-b738-43af-9e49-c5cfbb428096",
   "metadata": {},
   "outputs": [],
   "source": [
    "import csv\n",
    "import json\n",
    "import sys\n",
    "import io\n",
    "import random\n",
    "import math\n",
    "\n",
    "# Utility function for testing\n",
    "# You can ignore\n",
    "def capture_print_output(func, *args, **kwargs):\n",
    "    buffer = io.StringIO()\n",
    "    old_stdout = sys.stdout\n",
    "    sys.stdout = buffer\n",
    "    try:\n",
    "        func(*args, **kwargs)\n",
    "    finally:\n",
    "        sys.stdout = old_stdout\n",
    "    return buffer.getvalue()"
   ]
  },
  {
   "cell_type": "markdown",
   "id": "824e816d-89b8-4711-b84a-fe1f97a2f3a9",
   "metadata": {},
   "source": [
    "# Programming Assignment 4 Binary Search Trees and Smartphones Data Cleaning\n",
    "\n",
    "In this programming assignment, you’ll work with a smartphone dataset in JSON format that needs cleaning and organizing. You’ll build a Binary Search Tree (BST) to efficiently store and retrieve smartphone data. The assignment has three main parts: (1) building a BST that can store both a key value and associated data within each node; (2) loading and cleaning JSON smartphone data to prepare it for insertion into the BST; and (3) using the BST to search for and retrieve phones based on their prices and other attributes. This project will help you develop skills in data cleaning, JSON handling, tree structures, and efficient data retrieval techniques."
   ]
  },
  {
   "cell_type": "markdown",
   "id": "f056271a-6f15-42d4-8547-b15c99418e15",
   "metadata": {},
   "source": [
    "## Part 1: Binary Search Tree (BST) Implementation\n",
    "\n",
    "The `BSTNode` class includes a `key` attribute (equivalent to the `value` attribute in the lecture notes) to serve as each node’s unique, sortable identifier. Additionally, the class contains a `data` attribute, which is a list for holding multiple entries associated with the `key`. In the context of the smartphone data, each BST node uses the price as its `key` and stores a list of phone models of the same price in the `data` attribute. You can follow the BST implementation covered in the lecture. There is no need to balance the tree."
   ]
  },
  {
   "cell_type": "markdown",
   "id": "a7a56d1f-c5d2-49ce-8c04-dc38114996c2",
   "metadata": {
    "deletable": false,
    "editable": false
   },
   "source": [
    "### Task 1: Implement the `__init__` Method\n",
    "\n",
    "Initializes a `BSTNode` with a given `key` and optional initial `data`. If data is provided, it will be added to the node’s `data` list; otherwise, an empty list is created.\n",
    "\n",
    "Parameters:\n",
    "* `key`: The key for the node, used to order nodes in the BST.\n",
    "* `data` (optional): The initial data to associate with the key. If provided, it is added to the `data` list; if not, an empty list is created."
   ]
  },
  {
   "cell_type": "code",
   "execution_count": null,
   "id": "91576ee6-d3c8-4bd5-a3c7-6be49e068731",
   "metadata": {
    "tags": []
   },
   "outputs": [],
   "source": [
    "class BSTNode: \n",
    "    ..."
   ]
  },
  {
   "cell_type": "code",
   "execution_count": null,
   "id": "22d2022b-96a0-41ff-94ca-55dd1358fef0",
   "metadata": {
    "tags": []
   },
   "outputs": [],
   "source": [
    "# Examples: \n",
    "price100 = BSTNode(100)\n",
    "print(price100.key)  # 100\n",
    "print(price100.data)  # []\n",
    "\n",
    "price150 = BSTNode(150, {\"model\": \"ModelA\"})\n",
    "print(price150.key)  # 150\n",
    "print(price150.data)  # [{'model': 'ModelA'}]"
   ]
  },
  {
   "cell_type": "code",
   "execution_count": null,
   "id": "dcc8e913",
   "metadata": {
    "deletable": false,
    "editable": false
   },
   "outputs": [],
   "source": [
    "grader.check(\"P1T1\")"
   ]
  },
  {
   "cell_type": "markdown",
   "id": "62aca769-fe7b-4c86-a1c2-bfd22b022745",
   "metadata": {
    "deletable": false,
    "editable": false
   },
   "source": [
    "### Task 2: Implement the `insert` Method\n",
    "\n",
    "Adds a new key and associated data into the BST. If the key already exists, appends the data to that node’s data list.\n",
    "\n",
    "Parameters:\n",
    "* `new_key`: The key to insert. Determines the position of the new node in the BST.\n",
    "* `associated_data`: The data to associate with `new_key`. This is appended to the `data` list of the existing node if the key already exists."
   ]
  },
  {
   "cell_type": "code",
   "execution_count": null,
   "id": "9dcd309f-4b3e-4ebf-9d82-29a616496d51",
   "metadata": {
    "tags": []
   },
   "outputs": [],
   "source": [
    "# Examples: \n",
    "root = BSTNode(100, {\"model\": \"RootModel\"})\n",
    "\n",
    "root.insert(50, {\"model\": \"ModelA\"})   \n",
    "root.insert(150, {\"model\": \"ModelB\"})   \n",
    "root.insert(25, {\"model\": \"ModelC\"})  \n",
    "root.insert(75, {\"model\": \"ModelD\"})   \n",
    "root.insert(75, {\"model\": \"ModelE\"}) \n",
    "\n",
    "print(root.key)               # 100\n",
    "print(root.data)              # [{'model': 'RootModel'}]\n",
    "print(root.left.key)          # 50\n",
    "print(root.left.data)         # [{'model': 'ModelA'}]\n",
    "print(root.left.left.key)     # 25\n",
    "print(root.left.left.data)    # [{'model': 'ModelC'}]\n",
    "print(root.left.right.key)    # 75\n",
    "print(root.left.right.data)   # [{'model': 'ModelD'}, {'model': 'ModelE'}]\n",
    "print(root.right.key)         # 150\n",
    "print(root.right.data)        # [{'model': 'ModelB'}]"
   ]
  },
  {
   "cell_type": "code",
   "execution_count": null,
   "id": "9f14e986",
   "metadata": {
    "deletable": false,
    "editable": false
   },
   "outputs": [],
   "source": [
    "grader.check(\"P1T2\")"
   ]
  },
  {
   "cell_type": "markdown",
   "id": "f07887a8-855e-46c0-9c7f-fbc7e9ab6eff",
   "metadata": {
    "deletable": false,
    "editable": false
   },
   "source": [
    "### Task 3: Implement the `print` Method\n",
    "\n",
    "The `print` method performs an in-order traversal of the BST, printing each node's key and associated data on a separate line. "
   ]
  },
  {
   "cell_type": "code",
   "execution_count": null,
   "id": "f22f2e7f-d9ca-42ca-a3eb-52766ea4ea44",
   "metadata": {
    "tags": []
   },
   "outputs": [],
   "source": [
    "# Examples: \n",
    "root.print()\n",
    "# Expected results: \n",
    "# 25: [{'model': 'ModelC'}]\n",
    "# 50: [{'model': 'ModelA'}]\n",
    "# 75: [{'model': 'ModelD'}, {'model': 'ModelE'}]\n",
    "# 100: [{'model': 'RootModel'}]\n",
    "# 150: [{'model': 'ModelB'}]"
   ]
  },
  {
   "cell_type": "code",
   "execution_count": null,
   "id": "2c0f7225",
   "metadata": {
    "deletable": false,
    "editable": false
   },
   "outputs": [],
   "source": [
    "grader.check(\"P1T3\")"
   ]
  },
  {
   "cell_type": "markdown",
   "id": "84e57798-087e-4a8c-aeb8-d7ad9f86be68",
   "metadata": {
    "deletable": false,
    "editable": false
   },
   "source": [
    "### Task 4: Implement the `search` Method\n",
    "\n",
    "Searches the BST for a node with the specified key and returns the associated data list if found. If the key does not exist in the BST, the method returns None.\n",
    "\n",
    "Parameters:\n",
    "* `target_key`: The key to search for in the BST.\n",
    "\n",
    "Returns:\n",
    "* The list of associated data for the node with the specified key if it exists; otherwise, `None`. "
   ]
  },
  {
   "cell_type": "code",
   "execution_count": null,
   "id": "e3fe3362-322e-41e9-badf-20a6d440df2d",
   "metadata": {
    "tags": []
   },
   "outputs": [],
   "source": [
    "# Examples: \n",
    "print(root.search(100))  # [{'model': 'RootModel'}]\n",
    "print(root.search(50))   # [{'model': 'ModelA'}]\n",
    "print(root.search(150))  # [{'model': 'ModelB'}]\n",
    "print(root.search(25))   # [{'model': 'ModelC'}]\n",
    "print(root.search(75))   # [{'model': 'ModelD'}, {'model': 'ModelE'}]\n",
    "print(root.search(200))  # None"
   ]
  },
  {
   "cell_type": "code",
   "execution_count": null,
   "id": "c4c1f0b3",
   "metadata": {
    "deletable": false,
    "editable": false
   },
   "outputs": [],
   "source": [
    "grader.check(\"P1T4\")"
   ]
  },
  {
   "cell_type": "markdown",
   "id": "12dba0d1-dac7-46a8-bf51-e70383a94cbe",
   "metadata": {
    "deletable": false,
    "editable": false
   },
   "source": [
    "### Task 5: Implement the `count_entries` Method\n",
    "\n",
    "Returns the total number of entries in the entire BST, including all entries in the `data` attribute of every node. "
   ]
  },
  {
   "cell_type": "code",
   "execution_count": null,
   "id": "8ab92b93-48e9-482d-9842-980e41ba81ed",
   "metadata": {
    "tags": []
   },
   "outputs": [],
   "source": [
    "# Examples: \n",
    "root.count_entries()  # 6\n",
    "# Explanation:\n",
    "#   There are six entries: \n",
    "#   {\"model\": \"RootModel\"}, {\"model\": \"ModelA\"}, {\"model\": \"ModelB\"}, {\"model\": \"ModelC\"}, {\"model\": \"ModelD\"}, and {\"model\": \"ModelE\"}"
   ]
  },
  {
   "cell_type": "code",
   "execution_count": null,
   "id": "b54c1423",
   "metadata": {
    "deletable": false,
    "editable": false
   },
   "outputs": [],
   "source": [
    "grader.check(\"P1T5\")"
   ]
  },
  {
   "cell_type": "markdown",
   "id": "28b4ed78-54f2-49a2-876b-1cb050e7683c",
   "metadata": {
    "deletable": false,
    "editable": false
   },
   "source": [
    "### Task 6: Implement the `find_min` and `find_max` Methods\n",
    "\n",
    "Find the node with the smallest or largest key in the BST. \n",
    "\n",
    "Returns:\n",
    "* A tuple containing the key and its associated data for the minimum or maximum node."
   ]
  },
  {
   "cell_type": "code",
   "execution_count": null,
   "id": "69066052-e105-41cb-ab20-ce0b57cd3094",
   "metadata": {
    "tags": []
   },
   "outputs": [],
   "source": [
    "# Examples: \n",
    "print(root.find_min())  # (25, [{'model': 'ModelC'}])\n",
    "print(root.find_max())  # (150, [{'model': 'ModelB'}])"
   ]
  },
  {
   "cell_type": "code",
   "execution_count": null,
   "id": "7e151ad2",
   "metadata": {
    "deletable": false,
    "editable": false
   },
   "outputs": [],
   "source": [
    "grader.check(\"P1T6\")"
   ]
  },
  {
   "cell_type": "markdown",
   "id": "5e010217-8f2e-49fe-8f05-1de3d99d7e73",
   "metadata": {
    "deletable": false,
    "editable": false
   },
   "source": [
    "### Task 7: Implement the `find_range` Method\n",
    "\n",
    "Finds all nodes in the BST whose keys fall within a specified range. The method returns a list of tuples, each containing the key and its associated data for nodes in the range.\n",
    "\n",
    "Parameters:\n",
    "* `low`: The lower bound of the range. Inclusive.\n",
    "* `high`: The upper bound of the range. **Exclusive**.\n",
    "\n",
    "Returns:\n",
    "* A list of tuples, where each tuple contains the key and its associated data for nodes within the range."
   ]
  },
  {
   "cell_type": "code",
   "execution_count": null,
   "id": "31f42b75-3806-42c3-a9fe-547b231b590d",
   "metadata": {
    "tags": []
   },
   "outputs": [],
   "source": [
    "# Examples: \n",
    "root.find_range(25, 75)\n",
    "# Expected results: \n",
    "# [(25, [{'model': 'ModelC'}]), (50, [{'model': 'ModelA'}])]"
   ]
  },
  {
   "cell_type": "code",
   "execution_count": null,
   "id": "30efe1bd",
   "metadata": {
    "deletable": false,
    "editable": false
   },
   "outputs": [],
   "source": [
    "grader.check(\"P1T7\")"
   ]
  },
  {
   "cell_type": "markdown",
   "id": "1eea6dd0-e3c3-4520-89d5-c076e13515b6",
   "metadata": {
    "deletable": false,
    "editable": false
   },
   "source": [
    "### Task 8: Implement `build_bst_from_list` Function\n",
    "\n",
    "This function takes a list of dictionaries, where each dictionary contains information about a phone (e.g., price and model), and builds a Binary Search Tree (BST) based on the phone prices. \n",
    "\n",
    "Parameters: \n",
    "* `phone_list`: A list of dictionaries, where each dictionary contains information about a phone, including a `price` key and other details.\n",
    "\n",
    "Returns:\n",
    "* The root node of the BST created from the phone_list."
   ]
  },
  {
   "cell_type": "code",
   "execution_count": null,
   "id": "278b2305-87b3-43df-8f9d-172e91dc7fb2",
   "metadata": {
    "tags": []
   },
   "outputs": [],
   "source": [
    "def build_bst_from_list(phone_list):\n",
    "    ..."
   ]
  },
  {
   "cell_type": "code",
   "execution_count": null,
   "id": "79bfb566-314c-473d-9ba4-3f1505e15cb1",
   "metadata": {
    "tags": []
   },
   "outputs": [],
   "source": [
    "# Examples:\n",
    "phones = [\n",
    "    {\"price\": 100, \"model\": \"RootModel\"},\n",
    "    {\"price\": 50, \"model\": \"ModelA\"},\n",
    "    {\"price\": 150, \"model\": \"ModelB\"},\n",
    "    {\"price\": 25, \"model\": \"ModelC\"},\n",
    "    {\"price\": 75, \"model\": \"ModelD\"},\n",
    "    {\"price\": 75, \"model\": \"ModelE\"},\n",
    "]\n",
    "\n",
    "root = build_bst_from_list(phones)\n",
    "root.print()\n",
    "# Expected results:\n",
    "# 25: [{'price': 25, 'model': 'ModelC'}]\n",
    "# 50: [{'price': 50, 'model': 'ModelA'}]\n",
    "# 75: [{'price': 75, 'model': 'ModelD'}, {'price': 75, 'model': 'ModelE'}]\n",
    "# 100: [{'price': 100, 'model': 'RootModel'}]\n",
    "# 150: [{'price': 150, 'model': 'ModelB'}]"
   ]
  },
  {
   "cell_type": "code",
   "execution_count": null,
   "id": "53b43ed2",
   "metadata": {
    "deletable": false,
    "editable": false
   },
   "outputs": [],
   "source": [
    "grader.check(\"P1T8\")"
   ]
  },
  {
   "cell_type": "markdown",
   "id": "08c67076-e9da-40db-b033-8978cf720655",
   "metadata": {},
   "source": [
    "## Part 2: Smartphone Data Cleaning\n",
    "\n",
    "The dataset is downloaded from [here](https://www.kaggle.com/datasets/jakubkhalponiak/phones-2024) under [Database Contents License](https://opendatacommons.org/licenses/dbcl/1-0/). The data was scraped from GSMArena.com, including information on various phones currently available on the market. "
   ]
  },
  {
   "cell_type": "markdown",
   "id": "ab6de691-d65d-45fc-934f-9b25c2bd754c",
   "metadata": {
    "deletable": false,
    "editable": false
   },
   "source": [
    "### Task 1: Load data\n",
    "1. Load `data.json` and save it in `phone_data`.\n",
    "   **NOTE:** When opening the file, add the parameter `encoding='utf-8'` to address issues with Unicode characters, such as currency symbols in the price field, which we will see later. When opening files, specifying an encoding tells Python how to interpret characters in the file. UTF-8 is a common encoding that supports a wide range of characters, including symbols like €, £, and ¥, by using 1 to 4 bytes per character. Unlike ASCII, which only supports basic English characters, UTF-8 can handle text from most languages and is ideal for files with diverse symbols.\n",
    "3. Save its 8th (0-indexed) element in `phone8`.\n",
    "4. Save the total number of records in `num_record`."
   ]
  },
  {
   "cell_type": "code",
   "execution_count": null,
   "id": "360a073d-f868-42a5-946e-e899dc25cac6",
   "metadata": {
    "tags": []
   },
   "outputs": [],
   "source": [
    "...\n",
    "\n",
    "print(num_record)  # 8791\n",
    "phone8\n",
    "# Expected results: \n",
    "# {'phone_brand': 'oukitel',\n",
    "#  'phone_model': 'Oukitel RT2',\n",
    "#  'price': 'About 350 EUR',\n",
    "#  'specs': {'Network': {'2G bands': 'GSM 850 / 900 / 1800 / 1900 - SIM 1 & SIM 2',\n",
    "#    '3G bands': 'HSDPA 850 / 900 / 1700(AWS) / 1900 / 2100 ',\n",
    "#    '4G bands': ' LTE',\n",
    "#    'Speed': 'HSPA, LTE'},\n",
    "#   'Launch': {'Announced': '2022, September',\n",
    "#    'Status': 'Available. Released 2022, September'},\n",
    "#   'Body': {'Dimensions': '-',\n",
    "#    'Weight': '-',\n",
    "#    'SIM': 'Hybrid Dual SIM (Nano-SIM, dual stand-by)'},\n",
    "#   'Display': {'Type': 'IPS LCD, 350 nits',\n",
    "#    'Size': '10.1 inches, 295.8 cm',\n",
    "#    'Resolution': '1200 x 1920 pixels, 16:10 ratio (~224 ppi density)'},\n",
    "#   'Platform': {'OS': 'Android 12',\n",
    "#    'Chipset': 'Mediatek MT8788 (12 nm)',\n",
    "#    'CPU': 'Octa-core (4x2.0 GHz Cortex-A73 & 4x2.0 GHz Cortex-A53)',\n",
    "#    'GPU': 'Mali-G72 MP3'},\n",
    "#   'Memory': {'Card slot': 'microSDXC (uses shared SIM slot)',\n",
    "#    'Internal': '128GB 8GB RAM'},\n",
    "#   'Main Camera': {'Single': '16 MP',\n",
    "#    'Features': 'LED flash',\n",
    "#    'Video': '1080p@30fps'},\n",
    "#   'Selfie camera': {'Single': '16 MP', 'Video': 'Yes'},\n",
    "#   'Sound': {'Loudspeaker': 'Yes, with stereo speakers',\n",
    "#    '3.5mm jack': 'Unspecified'},\n",
    "#   'Comms': {'WLAN': 'Wi-Fi 802.11 a/b/g/n/ac, dual-band',\n",
    "#    'Bluetooth': '4.2, A2DP',\n",
    "#    'Positioning': 'GPS, GLONASS, GALILEO',\n",
    "#    'NFC': 'No',\n",
    "#    'Radio': 'Unspecified',\n",
    "#    'USB': 'USB Type-C 2.0, OTG'},\n",
    "#   'Features': {'Sensors': 'Unspecified'},\n",
    "#   'Battery': {'Type': 'Li-Po 20000 mAh, non-removable',\n",
    "#    'Charging': '33W wired'},\n",
    "#   'Misc': {'Colors': 'Black, Orange', 'Price': 'About 350 EUR'}}}"
   ]
  },
  {
   "cell_type": "code",
   "execution_count": null,
   "id": "ae75bd91",
   "metadata": {
    "deletable": false,
    "editable": false
   },
   "outputs": [],
   "source": [
    "grader.check(\"P2T1\")"
   ]
  },
  {
   "cell_type": "markdown",
   "id": "3bbd6536-d57e-4c3b-889d-4b0bd4667c5c",
   "metadata": {
    "deletable": false,
    "editable": false
   },
   "source": [
    "### Task 2: Count the number of phone models for each phone brand\n",
    "1. Count the number of records for each phone brand and sort the results in descending order.\n",
    "2. Save the results in `phone_brand_counts`. "
   ]
  },
  {
   "cell_type": "code",
   "execution_count": null,
   "id": "db097335-ecc2-43f0-84dc-35adaebd7266",
   "metadata": {
    "tags": []
   },
   "outputs": [],
   "source": [
    "...\n",
    "phone_brand_counts\n",
    "# Expected results: \n",
    "# {'samsung': 1400,\n",
    "#  'lg': 667,\n",
    "#  'motorola': 634,\n",
    "#  'nokia': 585,\n",
    "#  'vivo': 476,\n",
    "#  'huawei': 460,\n",
    "#  'xiaomi': 412,\n",
    "#  'alcatel': 409,\n",
    "#  'zte': 387,\n",
    "#  'oppo': 318,\n",
    "#  'micromax': 289,\n",
    "#  'htc': 289,\n",
    "#  'lenovo': 249,\n",
    "#  'honor': 227,\n",
    "#  'realme': 221,\n",
    "#  'asus': 200,\n",
    "#  'sony': 160,\n",
    "#  'tecno': 153,\n",
    "#  'infinix': 140,\n",
    "#  'apple': 128,\n",
    "#  'ulefone_': 99,\n",
    "#  'doogee': 92,\n",
    "#  'blackview': 80,\n",
    "#  'meizu': 78,\n",
    "#  'cubot': 77,\n",
    "#  'energizer': 77,\n",
    "#  'oneplus': 77,\n",
    "#  'tcl': 75,\n",
    "#  'sharp': 75,\n",
    "#  'umidigi': 71,\n",
    "#  'oukitel': 55,\n",
    "#  'itel': 39,\n",
    "#  'google': 33,\n",
    "#  'microsoft': 32,\n",
    "#  'cat': 22,\n",
    "#  'nothing': 5}"
   ]
  },
  {
   "cell_type": "code",
   "execution_count": null,
   "id": "88634a07",
   "metadata": {
    "deletable": false,
    "editable": false
   },
   "outputs": [],
   "source": [
    "grader.check(\"P2T2\")"
   ]
  },
  {
   "cell_type": "markdown",
   "id": "aee8093b-d8cd-42e2-9f2b-ad00e72ccb32",
   "metadata": {
    "deletable": false,
    "editable": false
   },
   "source": [
    "### Task 3: Remove records with no prices and compute percenatge of removed entries by brand\n",
    "\n",
    "1. Filter out records with `None` in the `price` field and save the remaining data to `phone_data_with_prices`.\n",
    "2. Track the percentage of removals per brand in `removed_percenatge_by_brand`. For example, Samsung has 1400 different models and 245 of them don't have prices. Then the removal percentage is 245 / 1400. Hint: Use `phone_brand_counts` that you generated in the previous task. \n",
    "3. Sort `removed_percenatge_by_brand` by removal percentage.\n",
    "\n",
    "When working with real-world data, missing values are a common challenge. They can be addressed in various ways, with common practices including removing the empty entries or replacing missing values with default values or averages. Sometimes, you may also want to analyze the missing data, such as identifying the brands for which prices are more likely to be unavailable."
   ]
  },
  {
   "cell_type": "code",
   "execution_count": null,
   "id": "a8265602-80a1-45d9-807f-ce155125f0d4",
   "metadata": {
    "tags": []
   },
   "outputs": [],
   "source": [
    "...\n",
    "print(len(phone_data_with_prices)) # 7183\n",
    "removed_percenatge_by_brand\n",
    "\n",
    "# Expected results: \n",
    "# {'umidigi': 0.8309859154929577,\n",
    "#  'cubot': 0.6753246753246753,\n",
    "#  'itel': 0.6666666666666666,\n",
    "#  'alcatel': 0.5281173594132029,\n",
    "#  'sharp': 0.4666666666666667,\n",
    "#  'tecno': 0.45751633986928103,\n",
    "#  'energizer': 0.33766233766233766,\n",
    "#  'infinix': 0.3357142857142857,\n",
    "#  'ulefone_': 0.29292929292929293,\n",
    "#  'zte': 0.26356589147286824,\n",
    "#  'motorola': 0.24605678233438485,\n",
    "#  'lg': 0.21889055472263869,\n",
    "#  'nokia': 0.18974358974358974,\n",
    "#  'tcl': 0.18666666666666668,\n",
    "#  'samsung': 0.175,\n",
    "#  'doogee': 0.16304347826086957,\n",
    "#  'blackview': 0.1625,\n",
    "#  'sony': 0.14375,\n",
    "#  'micromax': 0.13494809688581316,\n",
    "#  'asus': 0.11,\n",
    "#  'oukitel': 0.10909090909090909,\n",
    "#  'microsoft': 0.09375,\n",
    "#  'htc': 0.09342560553633218,\n",
    "#  'huawei': 0.07391304347826087,\n",
    "#  'meizu': 0.0641025641025641,\n",
    "#  'vivo': 0.05672268907563025,\n",
    "#  'lenovo': 0.05622489959839357,\n",
    "#  'oppo': 0.050314465408805034,\n",
    "#  'honor': 0.039647577092511016,\n",
    "#  'oneplus': 0.03896103896103896,\n",
    "#  'xiaomi': 0.03155339805825243,\n",
    "#  'realme': 0.02262443438914027}"
   ]
  },
  {
   "cell_type": "code",
   "execution_count": null,
   "id": "a3c030a6",
   "metadata": {
    "deletable": false,
    "editable": false
   },
   "outputs": [],
   "source": [
    "grader.check(\"P2T3\")"
   ]
  },
  {
   "cell_type": "markdown",
   "id": "4bf6dbc4-d697-43bb-bfd7-0ad0d423ad73",
   "metadata": {
    "deletable": false,
    "editable": false
   },
   "source": [
    "### Task 4: Implement the `get_random_records_by_field` function\n",
    "\n",
    "This function extracts a random subset of phone records and returns only a specific field (e.g., price) for each record in a list. \n",
    "\n",
    "Parameters:\n",
    "* `phone_list`: A list of dictionaries representing phone records.\n",
    "* `field`: The key (field) in the dictionary to display for each selected record.\n",
    "* `count`: The number of random records to return.\n",
    "\n",
    "Returns:\n",
    "* A list of values corresponding to the specified field from each randomly selected record.\n",
    "\n",
    "You must use `random.sample` for random selection."
   ]
  },
  {
   "cell_type": "code",
   "execution_count": null,
   "id": "49b9c42f-3c4c-4a4e-b963-90a08d7d111e",
   "metadata": {
    "tags": []
   },
   "outputs": [],
   "source": [
    "def get_random_records_by_field(phone_list, field, count):\n",
    "    ..."
   ]
  },
  {
   "cell_type": "code",
   "execution_count": null,
   "id": "551152a1-5576-446a-aab6-835b81a4cc51",
   "metadata": {
    "tags": []
   },
   "outputs": [],
   "source": [
    "random.seed(105)\n",
    "get_random_records_by_field(phone_data_with_prices, 'price', 50)\n",
    "\n",
    "# Expected results: \n",
    "# ['€\\u2009119.90 / $\\u2009159.00 / £\\u2009109.99',\n",
    "#  'About 140 EUR',\n",
    "#  '$\\u2009107.00 / £\\u2009130.00 / €\\u2009134.99',\n",
    "#  'About 130 EUR',\n",
    "#  'About 140 EUR',\n",
    "#  'About 280 EUR',\n",
    "#  '$\\u2009182.27 / €\\u2009129.99 / £\\u2009100.19 / ₹\\u20098,990',\n",
    "#  'About 170 EUR',\n",
    "#  'About 110 EUR',\n",
    "#  '₹\\u200922,499',\n",
    "#  '€\\u2009296.25 / $\\u2009209.99 / £\\u2009226.69',\n",
    "#  'About 520 EUR',\n",
    "#  'About 70 EUR',\n",
    "#  '€\\u2009122.78 / £\\u2009149.99 / ₹\\u200912,950',\n",
    "#  'About 300 EUR',\n",
    "#  'About 70 EUR',\n",
    "#  'About 40 EUR',\n",
    "#  '€\\u2009481.58',\n",
    "#  'About 200 EUR',\n",
    "#  'About 30 EUR',\n",
    "#  'About 70 EUR',\n",
    "#  'About 2700 EUR',\n",
    "#  'About 120 EUR',\n",
    "#  '$\\u200964.57 / €\\u2009100.00 / £\\u2009105.00',\n",
    "#  'About 220 EUR',\n",
    "#  'About 430 EUR',\n",
    "#  'About 80 EUR',\n",
    "#  'About 240 EUR',\n",
    "#  'About 220 EUR',\n",
    "#  '€\\u2009169.09 / $\\u2009410.00 / £\\u2009358.50',\n",
    "#  'About 830 EUR',\n",
    "#  'About 160 EUR',\n",
    "#  'About 550 EUR',\n",
    "#  'About 90 EUR',\n",
    "#  'About 160 EUR',\n",
    "#  'About 200 EUR',\n",
    "#  '£\\u2009110.00 / €\\u2009133.99',\n",
    "#  'About 340 EUR',\n",
    "#  'About 200 EUR',\n",
    "#  'About 1070 EUR',\n",
    "#  'About 110 EUR',\n",
    "#  'About 230 EUR',\n",
    "#  'About 200 EUR',\n",
    "#  'About 180 EUR',\n",
    "#  'About 60 EUR',\n",
    "#  '$\\u2009349.99 / C$\\u2009576.23 / £\\u2009214.99 / €\\u2009259.99 / ₹\\u200920,999',\n",
    "#  'About 450 EUR',\n",
    "#  'About 140 EUR',\n",
    "#  'About 90 EUR',\n",
    "#  'About 400 EUR']"
   ]
  },
  {
   "cell_type": "code",
   "execution_count": null,
   "id": "0a831c30",
   "metadata": {
    "deletable": false,
    "editable": false
   },
   "outputs": [],
   "source": [
    "grader.check(\"P2T4\")"
   ]
  },
  {
   "cell_type": "markdown",
   "id": "8d3ecf5c-202f-42cc-afba-845ab2b2a51e",
   "metadata": {
    "deletable": false,
    "editable": false
   },
   "source": [
    "### Task 5: Uniform prices\n",
    "\n",
    "In the previous task, you observed that there are two formats for prices:\n",
    "\n",
    "Type 1: \n",
    "* \"About xxx EUR\"\n",
    "* \"About xxx INR\"\n",
    "\n",
    "Type 2: \n",
    "* \"€\\u2009xxx\"\n",
    "* \"€\\u2009xxx / $\\u2009xxx / £\\u2009xxx\"\n",
    "\n",
    "Here, \"\\u2009\" represents the Unicode character for a thin space. For simplicity of the assignment, only these two formats would exist in the dataset. However, if you were working with real-world data, additional rounds of checking would be necessary.\n",
    "\n",
    "After an exhaustive search, you’ll find the following currencies (values are corresponding ISO Currency Codes):\n",
    "```python\n",
    "{'EUR': 'EUR',\n",
    " 'INR': 'INR',\n",
    " '$': 'USD',\n",
    " 'A$': 'AUD',\n",
    " 'C$': 'CAD',\n",
    " '£': 'GBP',\n",
    " '€': 'EUR',\n",
    " '₹': 'INR'}\n",
    "```\n",
    " \n",
    "Your task:\n",
    "\n",
    "For the price field of each records in the `phone_list` argument: \n",
    "1. Extract the numerical prices and their corresponding currencies.\n",
    "2. Convert the currencies to ISO Currency Codes using the dictionary provided above.\n",
    "3. Generate a dictionary of prices in the form {currency_code: price} (this is important as Type 2 may have multiple prices).\n",
    "4. Add this dictionary of prices using `price_dict` as the key to each records of `phone_dict`"
   ]
  },
  {
   "cell_type": "code",
   "execution_count": null,
   "id": "f91aabb5-4b31-4d30-8b41-e763c001dd2d",
   "metadata": {
    "tags": []
   },
   "outputs": [],
   "source": [
    "CURRENCY_MAP = {'EUR': 'EUR',\n",
    " 'INR': 'INR',\n",
    " '$': 'USD',\n",
    " 'A$': 'AUD',\n",
    " 'C$': 'CAD',\n",
    " '£': 'GBP',\n",
    " '€': 'EUR',\n",
    " '₹': 'INR'\n",
    "}\n",
    "\n",
    "def process_prices(phone_list):\n",
    "    ...\n",
    "\n",
    "# Process prices for phone_data_with_prices\n",
    "process_prices(phone_data_with_prices)"
   ]
  },
  {
   "cell_type": "code",
   "execution_count": null,
   "id": "621707a8-1def-4814-9045-8e04c467c813",
   "metadata": {
    "tags": []
   },
   "outputs": [],
   "source": [
    "# Examples: \n",
    "phone_list = [\n",
    "    {\"model\": \"1\", \"price\": \"About 300 EUR\"},\n",
    "    {\"model\": \"2\", \"price\": \"About 1000 INR\"},\n",
    "    {\"model\": \"3\", \"price\": \"$\\u2009255.45 / C$\\u2009340.20 / £\\u2009254.99 / €\\u2009470.89 / ₹\\u200959,999\"},\n",
    "    {\"model\": \"4\", \"price\": \"€\\u2009481.58\"}\n",
    "]\n",
    "process_prices(phone_list)\n",
    "phone_list\n",
    "# Expected results: \n",
    "# [{'model': '1', 'price': 'About 300 EUR', 'price_dict': {'EUR': 300.0}},\n",
    "#  {'model': '2', 'price': 'About 1000 INR', 'price_dict': {'INR': 1000.0}},\n",
    "#  {'model': '3',\n",
    "#   'price': '$\\u2009255.45 / C$\\u2009340.20 / £\\u2009254.99 / €\\u2009470.89 / ₹\\u200959,999',\n",
    "#   'price_dict': {'USD': 255.45,\n",
    "#    'CAD': 340.2,\n",
    "#    'GBP': 254.99,\n",
    "#    'EUR': 470.89,\n",
    "#    'INR': 59999.0}},\n",
    "#  {'model': '4', 'price': '€\\u2009481.58', 'price_dict': {'EUR': 481.58}}]"
   ]
  },
  {
   "cell_type": "code",
   "execution_count": null,
   "id": "d47edb2b",
   "metadata": {
    "deletable": false,
    "editable": false
   },
   "outputs": [],
   "source": [
    "grader.check(\"P2T5\")"
   ]
  },
  {
   "cell_type": "markdown",
   "id": "c9842db8-024a-45ab-adb0-25c05070b889",
   "metadata": {
    "deletable": false,
    "editable": false
   },
   "source": [
    "### Task 6: Convert Prices to USD\n",
    "\n",
    "Use exchange rates from `rate.json` (download from [here](https://www.floatrates.com/json-feeds.html), where `inverseRate` indicates the value of one unit of currency in USD) to convert the `price_dict` field in the phone list to USD. The converted values should be stored in a new field called `price_dict_usd`."
   ]
  },
  {
   "cell_type": "code",
   "execution_count": null,
   "id": "efe817a9-9330-4a3d-bf2f-a6602a6237ef",
   "metadata": {
    "tags": []
   },
   "outputs": [],
   "source": [
    "def convert_prices_to_usd(phone_list):\n",
    "    ...\n",
    "\n",
    "# Covert prices for phone_data_with_prices\n",
    "convert_prices_to_usd(phone_data_with_prices)"
   ]
  },
  {
   "cell_type": "code",
   "execution_count": null,
   "id": "67308161-ca3b-488f-aabb-d22be69838bc",
   "metadata": {
    "tags": []
   },
   "outputs": [],
   "source": [
    "# Examples: \n",
    "phone_list = [{'model': '1', 'price': 'About 300 EUR', 'price_dict': {'EUR': 300.0}},\n",
    " {'model': '2', 'price': 'About 1000 INR', 'price_dict': {'INR': 1000.0}},\n",
    " {'model': '3',\n",
    "  'price': '$\\u2009255.45 / C$\\u2009340.20 / £\\u2009254.99 / €\\u2009470.89 / ₹\\u200959,999',\n",
    "  'price_dict': {'USD': 255.45,\n",
    "   'CAD': 340.2,\n",
    "   'GBP': 254.99,\n",
    "   'EUR': 470.89,\n",
    "   'INR': 59999.0}},\n",
    " {'model': '4', 'price': '€\\u2009481.58', 'price_dict': {'EUR': 481.58}}]\n",
    "\n",
    "convert_prices_to_usd(phone_list)\n",
    "phone_list\n",
    "# Expected results: \n",
    "# [{'model': '1',\n",
    "#   'price': 'About 300 EUR',\n",
    "#   'price_dict': {'EUR': 300.0},\n",
    "#   'price_dict_usd': {'EUR': 316.90061281638}},\n",
    "#  {'model': '2',\n",
    "#   'price': 'About 1000 INR',\n",
    "#   'price_dict': {'INR': 1000.0},\n",
    "#   'price_dict_usd': {'INR': 11.845719567256}},\n",
    "#  {'model': '3',\n",
    "#   'price': '$\\u2009255.45 / C$\\u2009340.20 / £\\u2009254.99 / €\\u2009470.89 / ₹\\u200959,999',\n",
    "#   'price_dict': {'USD': 255.45,\n",
    "#    'CAD': 340.2,\n",
    "#    'GBP': 254.99,\n",
    "#    'EUR': 470.89,\n",
    "#    'INR': 59999.0},\n",
    "#   'price_dict_usd': {'USD': 255.45,\n",
    "#    'CAD': 242.11709275350654,\n",
    "#    'GBP': 323.07422986001075,\n",
    "#    'EUR': 497.41776523035054,\n",
    "#    'INR': 710.7313283157928}},\n",
    "#  {'model': '4',\n",
    "#   'price': '€\\u2009481.58',\n",
    "#   'price_dict': {'EUR': 481.58},\n",
    "#   'price_dict_usd': {'EUR': 508.70999040037424}}]"
   ]
  },
  {
   "cell_type": "code",
   "execution_count": null,
   "id": "3f25f5c1",
   "metadata": {
    "deletable": false,
    "editable": false
   },
   "outputs": [],
   "source": [
    "grader.check(\"P2T6\")"
   ]
  },
  {
   "cell_type": "markdown",
   "id": "47f87c18-5560-45b1-8441-93b6265ee6bf",
   "metadata": {
    "deletable": false,
    "editable": false
   },
   "source": [
    "### Task 7: Build a BST Based on Prices\n",
    "\n",
    "Return a Binary Search Tree (BST) using prices in USD from `phone_list`. For simplicity, if a phone has multiple prices, calculate and use the average price as the key for the BST. In real-life scenarios, handling multiple price listings would require a more in-depth analysis. Remember to use the `BSTNode` class you defined in Part 1. "
   ]
  },
  {
   "cell_type": "code",
   "execution_count": null,
   "id": "1e631384-b2a7-4d10-b4d3-f1b6b8aa5854",
   "metadata": {
    "tags": []
   },
   "outputs": [],
   "source": [
    "def build_bst_from_usd_prices(phone_list):\n",
    "    ...\n",
    "\n",
    "# Build a BST for phone_data_with_prices\n",
    "phone_bst = build_bst_from_usd_prices(phone_data_with_prices)"
   ]
  },
  {
   "cell_type": "code",
   "execution_count": null,
   "id": "14356a7c-21d1-428e-a90b-dc69fa1b68b3",
   "metadata": {
    "tags": []
   },
   "outputs": [],
   "source": [
    "# Examples: \n",
    "\n",
    "phone_list = [{'model': '1',\n",
    "  'price': 'About 300 EUR',\n",
    "  'price_dict': {'EUR': 300.0},\n",
    "  'price_dict_usd': {'EUR': 316.90061281638}},\n",
    " {'model': '2',\n",
    "  'price': 'About 1000 INR',\n",
    "  'price_dict': {'INR': 1000.0},\n",
    "  'price_dict_usd': {'INR': 11.845719567256}},\n",
    " {'model': '3',\n",
    "  'price': '$\\u2009255.45 / C$\\u2009340.20 / £\\u2009254.99 / €\\u2009470.89 / ₹\\u200959,999',\n",
    "  'price_dict': {'USD': 255.45,\n",
    "   'CAD': 340.2,\n",
    "   'GBP': 254.99,\n",
    "   'EUR': 470.89,\n",
    "   'INR': 59999.0},\n",
    "  'price_dict_usd': {'USD': 255.45,\n",
    "   'CAD': 242.11709275350654,\n",
    "   'GBP': 323.07422986001075,\n",
    "   'EUR': 497.41776523035054,\n",
    "   'INR': 710.7313283157928}},\n",
    " {'model': '4',\n",
    "  'price': '€\\u2009481.58',\n",
    "  'price_dict': {'EUR': 481.58},\n",
    "  'price_dict_usd': {'EUR': 508.70999040037424}}]\n",
    "\n",
    "root = build_bst_from_usd_prices(phone_list)\n",
    "root.print()\n",
    "# Expected results: \n",
    "# 11.845719567256: [{'model': '2', 'price': 'About 1000 INR', 'price_dict': {'INR': 1000.0}, 'price_dict_usd': {'INR': 11.845719567256}}]\n",
    "# 316.90061281638: [{'model': '1', 'price': 'About 300 EUR', 'price_dict': {'EUR': 300.0}, 'price_dict_usd': {'EUR': 316.90061281638}}]\n",
    "# 405.7580832319321: [{'model': '3', 'price': '$\\u2009255.45 / C$\\u2009340.20 / £\\u2009254.99 / €\\u2009470.89 / ₹\\u200959,999', 'price_dict': {'USD': 255.45, 'CAD': 340.2, 'GBP': 254.99, 'EUR': 470.89, 'INR': 59999.0}, 'price_dict_usd': {'USD': 255.45, 'CAD': 242.11709275350654, 'GBP': 323.07422986001075, 'EUR': 497.41776523035054, 'INR': 710.7313283157928}}]\n",
    "# 508.70999040037424: [{'model': '4', 'price': '€\\u2009481.58', 'price_dict': {'EUR': 481.58}, 'price_dict_usd': {'EUR': 508.70999040037424}}]"
   ]
  },
  {
   "cell_type": "code",
   "execution_count": null,
   "id": "52b46f4a",
   "metadata": {
    "deletable": false,
    "editable": false
   },
   "outputs": [],
   "source": [
    "grader.check(\"P2T7\")"
   ]
  },
  {
   "cell_type": "markdown",
   "id": "864331ee-1015-4443-9a52-a30c1cc51541",
   "metadata": {
    "deletable": false,
    "editable": false
   },
   "source": [
    "### Task 8. Find min and max in `phone_bst`\n",
    "\n",
    "What's the min / max price in the `phone_bst` and what are the phone models with this price? Remeber to use corresponding methods in the `BSTNode` class. "
   ]
  },
  {
   "cell_type": "code",
   "execution_count": null,
   "id": "b718be91-fe6c-46f4-a030-f24a3c89c169",
   "metadata": {
    "tags": []
   },
   "outputs": [],
   "source": [
    "...\n",
    "\n",
    "print(min_price)  # 10.563353760545999\n",
    "print(min_models) \n",
    "# ['Micromax X100', 'Micromax X101', 'Micromax X099', 'Micromax X098', 'Energizer Energy E10', 'Energizer Energy E10+', \n",
    "# 'Energizer Energy E12', 'Energizer E2', 'Energizer E3', 'Energizer E4', 'Energizer E13', 'Nokia 103', 'Nokia 105 (2019)']\n",
    "print(max_price)  # 13732.3598887098\n",
    "print(max_models)  # ['Apple Watch Edition 42mm (1st gen)']"
   ]
  },
  {
   "cell_type": "code",
   "execution_count": null,
   "id": "a19dc85d",
   "metadata": {
    "deletable": false,
    "editable": false
   },
   "outputs": [],
   "source": [
    "grader.check(\"P2T8\")"
   ]
  },
  {
   "cell_type": "markdown",
   "id": "28dbf5d5-b609-48d8-8ac3-089c2bdc7d84",
   "metadata": {
    "deletable": false,
    "editable": false
   },
   "source": [
    "### Task 9: Find phone models with the price between $1000-1050. \n",
    "\n",
    "Use the `phone_bst` and corresponding method and return a list of phone models. "
   ]
  },
  {
   "cell_type": "code",
   "execution_count": null,
   "id": "de206c84-fcff-4f85-ae0b-1c6928f1976b",
   "metadata": {
    "tags": []
   },
   "outputs": [],
   "source": [
    "...\n",
    "phone_1000_1050\n",
    "# Expected results: \n",
    "['Samsung Galaxy Tab S8+',\n",
    " 'Apple iPad Air 13 (2024)',\n",
    " 'Samsung Galaxy S24 Ultra',\n",
    " 'Asus ROG Phone 7',\n",
    " 'vivo NEX Dual Display',\n",
    " 'ZTE nubia Red Magic 6 Pro',\n",
    " 'Huawei Pocket 2',\n",
    " 'Samsung Galaxy Z Fold2 5G',\n",
    " 'Honor Magic Vs3',\n",
    " 'Asus ROG Phone 8',\n",
    " 'Motorola Razr 50 Ultra']"
   ]
  },
  {
   "cell_type": "code",
   "execution_count": null,
   "id": "aee3f112",
   "metadata": {
    "deletable": false,
    "editable": false
   },
   "outputs": [],
   "source": [
    "grader.check(\"P2T9\")"
   ]
  },
  {
   "cell_type": "markdown",
   "id": "326b5a24-352b-47e9-bec7-3ebb97b4610c",
   "metadata": {
    "deletable": false,
    "editable": false
   },
   "source": [
    "### Task 10: Count phone models by price bracket\n",
    "\n",
    "Determine the number of phone models within specific price brackets using the `phone_bst`. The price brackets are 0 to 2000 (exclusive) with a step of 100. That is (inclusive) 1-100 (exclusive), (inclusive) 100-200 (exclusive), 200-300, ..., 1900-2000. "
   ]
  },
  {
   "cell_type": "code",
   "execution_count": null,
   "id": "4ba626d2-0157-4b66-8996-476f51f42493",
   "metadata": {
    "tags": []
   },
   "outputs": [],
   "source": [
    "...\n",
    "brackets_count\n",
    "# Expect results: \n",
    "# {(0, 100): 1486,\n",
    "#  (100, 200): 2343,\n",
    "#  (200, 300): 1606,\n",
    "#  (300, 400): 714,\n",
    "#  (400, 500): 409,\n",
    "#  (500, 600): 201,\n",
    "#  (600, 700): 113,\n",
    "#  (700, 800): 82,\n",
    "#  (800, 900): 62,\n",
    "#  (900, 1000): 39,\n",
    "#  (1000, 1100): 33,\n",
    "#  (1100, 1200): 21,\n",
    "#  (1200, 1300): 14,\n",
    "#  (1300, 1400): 12,\n",
    "#  (1400, 1500): 8,\n",
    "#  (1500, 1600): 10,\n",
    "#  (1600, 1700): 5,\n",
    "#  (1700, 1800): 2,\n",
    "#  (1800, 1900): 3,\n",
    "#  (1900, 2000): 1}"
   ]
  },
  {
   "cell_type": "code",
   "execution_count": null,
   "id": "99d97823",
   "metadata": {
    "deletable": false,
    "editable": false
   },
   "outputs": [],
   "source": [
    "grader.check(\"P2T10\")"
   ]
  },
  {
   "cell_type": "markdown",
   "id": "b37f1a00-f10e-4cac-b7a2-7744ed38d034",
   "metadata": {},
   "source": [
    "## Conclusion\n",
    "\n",
    "In this programming assignment, you’ve built a Binary Search Tree (BST) to organize and analyze phone data and explored cleaning and preparing the dataset for analysis. In the next assignment, we’ll use CSV files and the Pandas library to further clean and organize the dataset and create visualizations to gain deeper insights into the data."
   ]
  },
  {
   "cell_type": "code",
   "execution_count": null,
   "id": "faf6973a-59fb-4f96-81f5-46884c50191d",
   "metadata": {},
   "outputs": [],
   "source": []
  },
  {
   "cell_type": "markdown",
   "id": "3fae17ca",
   "metadata": {
    "deletable": false,
    "editable": false
   },
   "source": [
    "## Submission\n",
    "\n",
    "Make sure you have run all cells in your notebook in order before running the cell below, so that all images/graphs appear in the output. The cell below will generate a zip file for you to submit. **Please save before exporting!**"
   ]
  },
  {
   "cell_type": "code",
   "execution_count": null,
   "id": "703f3f2f",
   "metadata": {
    "deletable": false,
    "editable": false
   },
   "outputs": [],
   "source": [
    "# Save your notebook first, then run this cell to export your submission.\n",
    "grader.export(pdf=False, run_tests=True)"
   ]
  },
  {
   "cell_type": "markdown",
   "id": "779a10e7",
   "metadata": {},
   "source": [
    " "
   ]
  }
 ],
 "metadata": {
  "kernelspec": {
   "display_name": "Python 3 (ipykernel)",
   "language": "python",
   "name": "python3"
  },
  "language_info": {
   "codemirror_mode": {
    "name": "ipython",
    "version": 3
   },
   "file_extension": ".py",
   "mimetype": "text/x-python",
   "name": "python",
   "nbconvert_exporter": "python",
   "pygments_lexer": "ipython3",
   "version": "3.12.5"
  },
  "otter": {
   "OK_FORMAT": true,
   "tests": {
    "P1T1": {
     "name": "P1T1",
     "points": 1,
     "suites": [
      {
       "cases": [
        {
         "code": ">>> assert price100.key == 100\n>>> assert price100.data == []\n>>> assert price150.key == 150\n>>> assert price150.data == [{'model': 'ModelA'}]\n",
         "hidden": false,
         "locked": false
        }
       ],
       "scored": true,
       "setup": "",
       "teardown": "",
       "type": "doctest"
      }
     ]
    },
    "P1T2": {
     "name": "P1T2",
     "points": 1,
     "suites": [
      {
       "cases": [
        {
         "code": ">>> assert root.key == 100\n>>> assert root.data == [{'model': 'RootModel'}]\n>>> assert root.left.key == 50\n>>> assert root.left.data == [{'model': 'ModelA'}]\n>>> assert root.left.left.key == 25\n>>> assert root.left.left.data == [{'model': 'ModelC'}]\n>>> assert root.left.right.key == 75\n>>> assert root.left.right.data == [{'model': 'ModelD'}, {'model': 'ModelE'}]\n>>> assert root.right.key == 150\n>>> assert root.right.data == [{'model': 'ModelB'}]\n",
         "hidden": false,
         "locked": false
        }
       ],
       "scored": true,
       "setup": "",
       "teardown": "",
       "type": "doctest"
      }
     ]
    },
    "P1T3": {
     "name": "P1T3",
     "points": 1,
     "suites": [
      {
       "cases": [
        {
         "code": ">>> output = capture_print_output(root.print)\n>>> assert output == \"25: [{'model': 'ModelC'}]\\n50: [{'model': 'ModelA'}]\\n75: [{'model': 'ModelD'}, {'model': 'ModelE'}]\\n100: [{'model': 'RootModel'}]\\n150: [{'model': 'ModelB'}]\\n\"\n",
         "hidden": false,
         "locked": false
        }
       ],
       "scored": true,
       "setup": "",
       "teardown": "",
       "type": "doctest"
      }
     ]
    },
    "P1T4": {
     "name": "P1T4",
     "points": 1,
     "suites": [
      {
       "cases": [
        {
         "code": ">>> assert root.search(100) == [{'model': 'RootModel'}]\n>>> assert root.search(50) == [{'model': 'ModelA'}]\n>>> assert root.search(150) == [{'model': 'ModelB'}]\n>>> assert root.search(25) == [{'model': 'ModelC'}]\n>>> assert root.search(75) == [{'model': 'ModelD'}, {'model': 'ModelE'}]\n>>> assert root.search(200) is None\n",
         "hidden": false,
         "locked": false
        }
       ],
       "scored": true,
       "setup": "",
       "teardown": "",
       "type": "doctest"
      }
     ]
    },
    "P1T5": {
     "name": "P1T5",
     "points": 1,
     "suites": [
      {
       "cases": [
        {
         "code": ">>> assert root.count_entries() == 6\n",
         "hidden": false,
         "locked": false
        }
       ],
       "scored": true,
       "setup": "",
       "teardown": "",
       "type": "doctest"
      }
     ]
    },
    "P1T6": {
     "name": "P1T6",
     "points": 1,
     "suites": [
      {
       "cases": [
        {
         "code": ">>> assert root.find_min() == (25, [{'model': 'ModelC'}])\n>>> assert root.find_max() == (150, [{'model': 'ModelB'}])\n",
         "hidden": false,
         "locked": false
        }
       ],
       "scored": true,
       "setup": "",
       "teardown": "",
       "type": "doctest"
      }
     ]
    },
    "P1T7": {
     "name": "P1T7",
     "points": 1,
     "suites": [
      {
       "cases": [
        {
         "code": ">>> assert root.find_range(25, 75) == [(25, [{'model': 'ModelC'}]), (50, [{'model': 'ModelA'}])]\n>>> assert root.find_range(25, 50) == [(25, [{'model': 'ModelC'}])]\n>>> assert root.find_range(0, 200) == [(25, [{'model': 'ModelC'}]), (50, [{'model': 'ModelA'}]), (75, [{'model': 'ModelD'}, {'model': 'ModelE'}]), (100, [{'model': 'RootModel'}]), (150, [{'model': 'ModelB'}])]\n",
         "hidden": false,
         "locked": false
        }
       ],
       "scored": true,
       "setup": "",
       "teardown": "",
       "type": "doctest"
      }
     ]
    },
    "P1T8": {
     "name": "P1T8",
     "points": 1,
     "suites": [
      {
       "cases": [
        {
         "code": ">>> phones_empty = []\n>>> root_empty = build_bst_from_list(phones_empty)\n>>> assert root_empty is None\n>>> random.seed(42)\n>>> phones_large = [{'price': random.randint(1, 300), 'model': f'Model_{i}'} for i in range(1, 201)]\n>>> root_large = build_bst_from_list(phones_large)\n>>> assert root_large is not None\n>>> assert root_large.count_entries() == 200\n>>> assert root_large.find_min() == (1, [{'price': 1, 'model': 'Model_145'}])\n>>> assert root_large.find_max() == (300, [{'price': 300, 'model': 'Model_99'}])\n>>> assert root_large.find_range(90, 100) == [(92, [{'price': 92, 'model': 'Model_134'}]), (99, [{'price': 99, 'model': 'Model_50'}])]\n>>> assert root_large.find_range(200, 210) == [(203, [{'price': 203, 'model': 'Model_90'}]), (205, [{'price': 205, 'model': 'Model_102'}, {'price': 205, 'model': 'Model_173'}]), (206, [{'price': 206, 'model': 'Model_82'}])]\n>>> def is_bst(root, min_value=float('-inf'), max_value=float('inf')):\n...     if not root:\n...         return True\n...     if not min_value < root.key < max_value:\n...         return False\n...     left_is_bst = is_bst(root.left, min_value, root.key) if root.left else True\n...     right_is_bst = is_bst(root.right, root.key, max_value) if root.right else True\n...     return left_is_bst and right_is_bst\n>>> assert is_bst(root_large)\n",
         "hidden": false,
         "locked": false
        }
       ],
       "scored": true,
       "setup": "",
       "teardown": "",
       "type": "doctest"
      }
     ]
    },
    "P2T1": {
     "name": "P2T1",
     "points": 1,
     "suites": [
      {
       "cases": [
        {
         "code": ">>> assert phone8 == {'phone_brand': 'oukitel', 'phone_model': 'Oukitel RT2', 'price': 'About 350 EUR', 'specs': {'Network': {'2G bands': 'GSM 850 / 900 / 1800 / 1900 - SIM 1 & SIM 2', '3G bands': 'HSDPA 850 / 900 / 1700(AWS) / 1900 / 2100 ', '4G bands': ' LTE', 'Speed': 'HSPA, LTE'}, 'Launch': {'Announced': '2022, September', 'Status': 'Available. Released 2022, September'}, 'Body': {'Dimensions': '-', 'Weight': '-', 'SIM': 'Hybrid Dual SIM (Nano-SIM, dual stand-by)'}, 'Display': {'Type': 'IPS LCD, 350 nits', 'Size': '10.1 inches, 295.8 cm', 'Resolution': '1200 x 1920 pixels, 16:10 ratio (~224 ppi density)'}, 'Platform': {'OS': 'Android 12', 'Chipset': 'Mediatek MT8788 (12 nm)', 'CPU': 'Octa-core (4x2.0 GHz Cortex-A73 & 4x2.0 GHz Cortex-A53)', 'GPU': 'Mali-G72 MP3'}, 'Memory': {'Card slot': 'microSDXC (uses shared SIM slot)', 'Internal': '128GB 8GB RAM'}, 'Main Camera': {'Single': '16 MP', 'Features': 'LED flash', 'Video': '1080p@30fps'}, 'Selfie camera': {'Single': '16 MP', 'Video': 'Yes'}, 'Sound': {'Loudspeaker': 'Yes, with stereo speakers', '3.5mm jack': 'Unspecified'}, 'Comms': {'WLAN': 'Wi-Fi 802.11 a/b/g/n/ac, dual-band', 'Bluetooth': '4.2, A2DP', 'Positioning': 'GPS, GLONASS, GALILEO', 'NFC': 'No', 'Radio': 'Unspecified', 'USB': 'USB Type-C 2.0, OTG'}, 'Features': {'Sensors': 'Unspecified'}, 'Battery': {'Type': 'Li-Po 20000 mAh, non-removable', 'Charging': '33W wired'}, 'Misc': {'Colors': 'Black, Orange', 'Price': 'About 350 EUR'}}}\n>>> assert num_record == 8791\n",
         "hidden": false,
         "locked": false
        }
       ],
       "scored": true,
       "setup": "",
       "teardown": "",
       "type": "doctest"
      }
     ]
    },
    "P2T10": {
     "name": "P2T10",
     "points": 1,
     "suites": [
      {
       "cases": [
        {
         "code": ">>> assert brackets_count == {(0, 100): 1486, (100, 200): 2343, (200, 300): 1606, (300, 400): 714, (400, 500): 409, (500, 600): 201, (600, 700): 113, (700, 800): 82, (800, 900): 62, (900, 1000): 39, (1000, 1100): 33, (1100, 1200): 21, (1200, 1300): 14, (1300, 1400): 12, (1400, 1500): 8, (1500, 1600): 10, (1600, 1700): 5, (1700, 1800): 2, (1800, 1900): 3, (1900, 2000): 1}\n",
         "hidden": false,
         "locked": false
        }
       ],
       "scored": true,
       "setup": "",
       "teardown": "",
       "type": "doctest"
      }
     ]
    },
    "P2T2": {
     "name": "P2T2",
     "points": 1,
     "suites": [
      {
       "cases": [
        {
         "code": ">>> assert phone_brand_counts == {'samsung': 1400, 'lg': 667, 'motorola': 634, 'nokia': 585, 'vivo': 476, 'huawei': 460, 'xiaomi': 412, 'alcatel': 409, 'zte': 387, 'oppo': 318, 'micromax': 289, 'htc': 289, 'lenovo': 249, 'honor': 227, 'realme': 221, 'asus': 200, 'sony': 160, 'tecno': 153, 'infinix': 140, 'apple': 128, 'ulefone_': 99, 'doogee': 92, 'blackview': 80, 'meizu': 78, 'cubot': 77, 'energizer': 77, 'oneplus': 77, 'tcl': 75, 'sharp': 75, 'umidigi': 71, 'oukitel': 55, 'itel': 39, 'google': 33, 'microsoft': 32, 'cat': 22, 'nothing': 5}\n",
         "hidden": false,
         "locked": false
        }
       ],
       "scored": true,
       "setup": "",
       "teardown": "",
       "type": "doctest"
      }
     ]
    },
    "P2T3": {
     "name": "P2T3",
     "points": 1,
     "suites": [
      {
       "cases": [
        {
         "code": ">>> assert len(phone_data_with_prices) == 7183\n>>> removed_percenatge_by_brand_expected = {'umidigi': 0.8309859154929577, 'cubot': 0.6753246753246753, 'itel': 0.6666666666666666, 'alcatel': 0.5281173594132029, 'sharp': 0.4666666666666667, 'tecno': 0.45751633986928103, 'energizer': 0.33766233766233766, 'infinix': 0.3357142857142857, 'ulefone_': 0.29292929292929293, 'zte': 0.26356589147286824, 'motorola': 0.24605678233438485, 'lg': 0.21889055472263869, 'nokia': 0.18974358974358974, 'tcl': 0.18666666666666668, 'samsung': 0.175, 'doogee': 0.16304347826086957, 'blackview': 0.1625, 'sony': 0.14375, 'micromax': 0.13494809688581316, 'asus': 0.11, 'oukitel': 0.10909090909090909, 'microsoft': 0.09375, 'htc': 0.09342560553633218, 'huawei': 0.07391304347826087, 'meizu': 0.0641025641025641, 'vivo': 0.05672268907563025, 'lenovo': 0.05622489959839357, 'oppo': 0.050314465408805034, 'honor': 0.039647577092511016, 'oneplus': 0.03896103896103896, 'xiaomi': 0.03155339805825243, 'realme': 0.02262443438914027}\n>>> for brand, remove_percentage in removed_percenatge_by_brand.items():\n...     assert math.isclose(remove_percentage, removed_percenatge_by_brand[brand])\n",
         "hidden": false,
         "locked": false
        }
       ],
       "scored": true,
       "setup": "",
       "teardown": "",
       "type": "doctest"
      }
     ]
    },
    "P2T4": {
     "name": "P2T4",
     "points": 1,
     "suites": [
      {
       "cases": [
        {
         "code": ">>> random.seed(368)\n>>> assert get_random_records_by_field(phone_data_with_prices, 'price', 20) == ['About 150 EUR', 'About 150 EUR', 'About 20 EUR', 'About 30 EUR', 'About 60 EUR', 'About 20 EUR', 'About 300 EUR', 'About 300 EUR', 'About 300 EUR', 'About 300 EUR', 'About 180 EUR', 'About 450 EUR', 'About 390 EUR', 'About 250 EUR', '$\\u2009718.00 / €\\u2009933.97', '€\\u2009422.74 / $\\u2009332.00 / £\\u2009305.00', 'About 160 EUR', 'About 110 EUR', 'About 150 EUR', 'About 170 EUR']\n>>> random.seed(369)\n>>> assert get_random_records_by_field(phone_data_with_prices, 'price', 20) == ['About 130 EUR', 'About 90 EUR', 'About 90 EUR', '€\\u2009334.78 / £\\u2009189.00 / ₹\\u200916,999', 'About 430 EUR', 'About 210 EUR', 'About 330 EUR', '$\\u2009146.43 / £\\u2009177.11 / €\\u2009196.00', 'About 200 EUR', 'About 140 EUR', 'About 960 EUR', 'About 170 EUR', 'About 600 EUR', '$\\u2009255.45 / C$\\u2009340.20 / £\\u2009254.99 / €\\u2009470.89 / ₹\\u200959,999', 'About 500 EUR', 'About 20 EUR', 'About 260 EUR', 'About 150 EUR', '€\\u2009139.99 / $\\u2009160.00 / £\\u2009115.99', 'About 350 EUR']\n",
         "hidden": false,
         "locked": false
        }
       ],
       "scored": true,
       "setup": "",
       "teardown": "",
       "type": "doctest"
      }
     ]
    },
    "P2T5": {
     "name": "P2T5",
     "points": 1,
     "suites": [
      {
       "cases": [
        {
         "code": ">>> assert phone_list == [{'model': '1', 'price': 'About 300 EUR', 'price_dict': {'EUR': 300.0}}, {'model': '2', 'price': 'About 1000 INR', 'price_dict': {'INR': 1000.0}}, {'model': '3', 'price': '$\\u2009255.45 / C$\\u2009340.20 / £\\u2009254.99 / €\\u2009470.89 / ₹\\u200959,999', 'price_dict': {'USD': 255.45, 'CAD': 340.2, 'GBP': 254.99, 'EUR': 470.89, 'INR': 59999.0}}, {'model': '4', 'price': '€\\u2009481.58', 'price_dict': {'EUR': 481.58}}]\n>>> random.seed(300)\n>>> assert [{'phone_model': r['phone_model'], 'price_dict': r['price_dict']} for r in random.sample(phone_data_with_prices, 10)] == [{'phone_model': 'Huawei MediaPad S7-301w', 'price_dict': {'EUR': 160.0}}, {'phone_model': 'OnePlus Nord', 'price_dict': {'USD': 199.99, 'GBP': 123.0, 'EUR': 159.99}}, {'phone_model': 'Oppo F25 Pro', 'price_dict': {'EUR': 270.0}}, {'phone_model': 'Doogee N30', 'price_dict': {'EUR': 150.0}}, {'phone_model': 'Lenovo Tab S8', 'price_dict': {'EUR': 150.0}}, {'phone_model': 'Oppo A3x (China)', 'price_dict': {'EUR': 150.0}}, {'phone_model': 'HTC U Ultra', 'price_dict': {'EUR': 250.0}}, {'phone_model': 'Samsung Galaxy Note5 Duos', 'price_dict': {'EUR': 450.0}}, {'phone_model': 'LG Optimus LTE2', 'price_dict': {'EUR': 210.0}}, {'phone_model': 'Xiaomi 11T Pro', 'price_dict': {'GBP': 159.99, 'EUR': 182.99, 'INR': 19499.0}}]\n>>> random.seed(800)\n>>> assert [{'phone_model': r['phone_model'], 'price_dict': r['price_dict']} for r in random.sample(phone_data_with_prices, 10)] == [{'phone_model': 'Nokia 6086', 'price_dict': {'EUR': 130.0}}, {'phone_model': 'Motorola Razr 2022', 'price_dict': {'USD': 940.0, 'EUR': 669.99, 'GBP': 749.0}}, {'phone_model': 'Xiaomi Poco M6 4G', 'price_dict': {'USD': 154.69, 'EUR': 125.0, 'GBP': 113.74, 'INR': 13490.0}}, {'phone_model': 'Micromax X101', 'price_dict': {'EUR': 10.0}}, {'phone_model': 'Lenovo IdeaTab A2107', 'price_dict': {'EUR': 150.0}}, {'phone_model': 'Motorola RAZR i XT890', 'price_dict': {'EUR': 180.0}}, {'phone_model': 'Samsung Galaxy 551', 'price_dict': {'EUR': 90.0}}, {'phone_model': 'HTC Desire 820 dual sim', 'price_dict': {'EUR': 320.0}}, {'phone_model': 'Oppo Find N2 Flip', 'price_dict': {'EUR': 699.99, 'GBP': 400.0}}, {'phone_model': 'Nokia 105 (2019)', 'price_dict': {'EUR': 10.0}}]\n>>> random.seed(900)\n>>> assert [{'phone_model': r['phone_model'], 'price_dict': r['price_dict']} for r in random.sample(phone_data_with_prices, 10)] == [{'phone_model': 'Huawei nova 4', 'price_dict': {'EUR': 400.0}}, {'phone_model': 'Meizu 15', 'price_dict': {'EUR': 400.0}}, {'phone_model': 'Motorola W220', 'price_dict': {'EUR': 50.0}}, {'phone_model': 'Samsung E1120', 'price_dict': {'EUR': 30.0}}, {'phone_model': 'Tecno Camon 30 Premier', 'price_dict': {'INR': 39999.0}}, {'phone_model': 'Nokia 2220 slide', 'price_dict': {'EUR': 50.0}}, {'phone_model': 'Infinix Hot 20i', 'price_dict': {'EUR': 120.0}}, {'phone_model': 'Nokia Asha 503 Dual SIM', 'price_dict': {'EUR': 100.0}}, {'phone_model': 'Asus Zenfone 2E', 'price_dict': {'EUR': 110.0}}, {'phone_model': 'Sony Xperia Pro-I', 'price_dict': {'EUR': 930.0}}]\n>>> random.seed(1500)\n>>> assert [{'phone_model': r['phone_model'], 'price_dict': r['price_dict']} for r in random.sample(phone_data_with_prices, 10)] == [{'phone_model': 'Oppo K10 5G', 'price_dict': {'EUR': 270.0}}, {'phone_model': 'Micromax A121 Canvas Elanza 2', 'price_dict': {'EUR': 120.0}}, {'phone_model': 'Samsung I8200 Galaxy S III mini VE', 'price_dict': {'EUR': 180.0}}, {'phone_model': 'HTC 7 Trophy', 'price_dict': {'EUR': 90.0}}, {'phone_model': 'Realme 12x', 'price_dict': {'USD': 162.05}}, {'phone_model': 'Infinix Note 40 Pro 4G', 'price_dict': {'EUR': 240.0}}, {'phone_model': 'Realme C55', 'price_dict': {'USD': 275.0, 'EUR': 109.27, 'INR': 7498.0}}, {'phone_model': 'LG KG810', 'price_dict': {'EUR': 120.0}}, {'phone_model': 'Samsung S5500 Eco', 'price_dict': {'EUR': 150.0}}, {'phone_model': 'Honor Play4 Pro', 'price_dict': {'EUR': 360.0}}]\n",
         "hidden": false,
         "locked": false
        }
       ],
       "scored": true,
       "setup": "",
       "teardown": "",
       "type": "doctest"
      }
     ]
    },
    "P2T6": {
     "name": "P2T6",
     "points": 1,
     "suites": [
      {
       "cases": [
        {
         "code": ">>> assert phone_list == [{'model': '1', 'price': 'About 300 EUR', 'price_dict': {'EUR': 300.0}, 'price_dict_usd': {'EUR': 316.90061281638}}, {'model': '2', 'price': 'About 1000 INR', 'price_dict': {'INR': 1000.0}, 'price_dict_usd': {'INR': 11.845719567256}}, {'model': '3', 'price': '$\\u2009255.45 / C$\\u2009340.20 / £\\u2009254.99 / €\\u2009470.89 / ₹\\u200959,999', 'price_dict': {'USD': 255.45, 'CAD': 340.2, 'GBP': 254.99, 'EUR': 470.89, 'INR': 59999.0}, 'price_dict_usd': {'USD': 255.45, 'CAD': 242.11709275350654, 'GBP': 323.07422986001075, 'EUR': 497.41776523035054, 'INR': 710.7313283157928}}, {'model': '4', 'price': '€\\u2009481.58', 'price_dict': {'EUR': 481.58}, 'price_dict_usd': {'EUR': 508.70999040037424}}]\n>>> random.seed(300)\n>>> assert [{'phone_model': r['phone_model'], 'price_dict_usd': r['price_dict_usd']} for r in random.sample(phone_data_with_prices, 10)] == [{'phone_model': 'Huawei MediaPad S7-301w', 'price_dict_usd': {'EUR': 169.01366016873598}}, {'phone_model': 'OnePlus Nord', 'price_dict_usd': {'USD': 199.99, 'GBP': 155.8419164390028, 'EUR': 169.00309681497546}}, {'phone_model': 'Oppo F25 Pro', 'price_dict_usd': {'EUR': 285.21055153474197}}, {'phone_model': 'Doogee N30', 'price_dict_usd': {'EUR': 158.45030640819}}, {'phone_model': 'Lenovo Tab S8', 'price_dict_usd': {'EUR': 158.45030640819}}, {'phone_model': 'Oppo A3x (China)', 'price_dict_usd': {'EUR': 158.45030640819}}, {'phone_model': 'HTC U Ultra', 'price_dict_usd': {'EUR': 264.08384401365}}, {'phone_model': 'Samsung Galaxy Note5 Duos', 'price_dict_usd': {'EUR': 475.35091922456996}}, {'phone_model': 'LG Optimus LTE2', 'price_dict_usd': {'EUR': 221.83042897146598}}, {'phone_model': 'Xiaomi 11T Pro', 'price_dict_usd': {'GBP': 202.70852204126876, 'EUR': 193.29881046423125, 'INR': 230.97968584192475}}]\n>>> random.seed(800)\n>>> assert [{'phone_model': r['phone_model'], 'price_dict_usd': r['price_dict_usd']} for r in random.sample(phone_data_with_prices, 10)] == [{'phone_model': 'Nokia 6086', 'price_dict_usd': {'EUR': 137.323598887098}}, {'phone_model': 'Motorola Razr 2022', 'price_dict_usd': {'USD': 940.0, 'EUR': 707.7341386028214, 'GBP': 948.9885805919764}}, {'phone_model': 'Xiaomi Poco M6 4G', 'price_dict_usd': {'USD': 154.69, 'EUR': 132.041922006825, 'GBP': 144.10942744530226, 'INR': 159.79875696228345}}, {'phone_model': 'Micromax X101', 'price_dict_usd': {'EUR': 10.563353760545999}}, {'phone_model': 'Lenovo IdeaTab A2107', 'price_dict_usd': {'EUR': 158.45030640819}}, {'phone_model': 'Motorola RAZR i XT890', 'price_dict_usd': {'EUR': 190.140367689828}}, {'phone_model': 'Samsung Galaxy 551', 'price_dict_usd': {'EUR': 95.070183844914}}, {'phone_model': 'HTC Desire 820 dual sim', 'price_dict_usd': {'EUR': 338.02732033747196}}, {'phone_model': 'Oppo Find N2 Flip', 'price_dict_usd': {'EUR': 739.4241998844594, 'GBP': 506.80298028944}}, {'phone_model': 'Nokia 105 (2019)', 'price_dict_usd': {'EUR': 10.563353760545999}}]\n>>> random.seed(1500)\n>>> assert [{'phone_model': r['phone_model'], 'price_dict_usd': r['price_dict_usd']} for r in random.sample(phone_data_with_prices, 10)] == [{'phone_model': 'Oppo K10 5G', 'price_dict_usd': {'EUR': 285.21055153474197}}, {'phone_model': 'Micromax A121 Canvas Elanza 2', 'price_dict_usd': {'EUR': 126.760245126552}}, {'phone_model': 'Samsung I8200 Galaxy S III mini VE', 'price_dict_usd': {'EUR': 190.140367689828}}, {'phone_model': 'HTC 7 Trophy', 'price_dict_usd': {'EUR': 95.070183844914}}, {'phone_model': 'Realme 12x', 'price_dict_usd': {'USD': 162.05}}, {'phone_model': 'Infinix Note 40 Pro 4G', 'price_dict_usd': {'EUR': 253.520490253104}}, {'phone_model': 'Realme C55', 'price_dict_usd': {'USD': 275.0, 'EUR': 115.42576654148613, 'INR': 88.81920531528549}}, {'phone_model': 'LG KG810', 'price_dict_usd': {'EUR': 126.760245126552}}, {'phone_model': 'Samsung S5500 Eco', 'price_dict_usd': {'EUR': 158.45030640819}}, {'phone_model': 'Honor Play4 Pro', 'price_dict_usd': {'EUR': 380.280735379656}}]\n",
         "hidden": false,
         "locked": false
        }
       ],
       "scored": true,
       "setup": "",
       "teardown": "",
       "type": "doctest"
      }
     ]
    },
    "P2T7": {
     "name": "P2T7",
     "points": 1,
     "suites": [
      {
       "cases": [
        {
         "code": ">>> assert capture_print_output(root.print) == \"11.845719567256: [{'model': '2', 'price': 'About 1000 INR', 'price_dict': {'INR': 1000.0}, 'price_dict_usd': {'INR': 11.845719567256}}]\\n316.90061281638: [{'model': '1', 'price': 'About 300 EUR', 'price_dict': {'EUR': 300.0}, 'price_dict_usd': {'EUR': 316.90061281638}}]\\n405.7580832319321: [{'model': '3', 'price': '$\\\\u2009255.45 / C$\\\\u2009340.20 / £\\\\u2009254.99 / €\\\\u2009470.89 / ₹\\\\u200959,999', 'price_dict': {'USD': 255.45, 'CAD': 340.2, 'GBP': 254.99, 'EUR': 470.89, 'INR': 59999.0}, 'price_dict_usd': {'USD': 255.45, 'CAD': 242.11709275350654, 'GBP': 323.07422986001075, 'EUR': 497.41776523035054, 'INR': 710.7313283157928}}]\\n508.70999040037424: [{'model': '4', 'price': '€\\\\u2009481.58', 'price_dict': {'EUR': 481.58}, 'price_dict_usd': {'EUR': 508.70999040037424}}]\\n\"\n",
         "hidden": false,
         "locked": false
        }
       ],
       "scored": true,
       "setup": "",
       "teardown": "",
       "type": "doctest"
      }
     ]
    },
    "P2T8": {
     "name": "P2T8",
     "points": 1,
     "suites": [
      {
       "cases": [
        {
         "code": ">>> assert math.isclose(min_price, 10.563353760545999)\n>>> assert min_models == ['Micromax X100', 'Micromax X101', 'Micromax X099', 'Micromax X098', 'Energizer Energy E10', 'Energizer Energy E10+', 'Energizer Energy E12', 'Energizer E2', 'Energizer E3', 'Energizer E4', 'Energizer E13', 'Nokia 103', 'Nokia 105 (2019)']\n>>> assert math.isclose(max_price, 13732.3598887098)\n>>> assert max_models == ['Apple Watch Edition 42mm (1st gen)']\n",
         "hidden": false,
         "locked": false
        }
       ],
       "scored": true,
       "setup": "",
       "teardown": "",
       "type": "doctest"
      }
     ]
    },
    "P2T9": {
     "name": "P2T9",
     "points": 1,
     "suites": [
      {
       "cases": [
        {
         "code": ">>> assert phone_1000_1050 == ['Samsung Galaxy Tab S8+', 'Apple iPad Air 13 (2024)', 'Samsung Galaxy S24 Ultra', 'Asus ROG Phone 7', 'vivo NEX Dual Display', 'ZTE nubia Red Magic 6 Pro', 'Huawei Pocket 2', 'Samsung Galaxy Z Fold2 5G', 'Honor Magic Vs3', 'Asus ROG Phone 8', 'Motorola Razr 50 Ultra']\n",
         "hidden": false,
         "locked": false
        }
       ],
       "scored": true,
       "setup": "",
       "teardown": "",
       "type": "doctest"
      }
     ]
    }
   }
  }
 },
 "nbformat": 4,
 "nbformat_minor": 5
}
