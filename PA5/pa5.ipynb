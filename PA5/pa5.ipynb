{
 "cells": [
  {
   "cell_type": "code",
   "execution_count": null,
   "id": "017bfd44",
   "metadata": {
    "deletable": false,
    "editable": false
   },
   "outputs": [],
   "source": [
    "# Initialize Otter\n",
    "import otter\n",
    "grader = otter.Notebook(\"pa5.ipynb\")"
   ]
  },
  {
   "cell_type": "markdown",
   "id": "976d0a90-3739-4dd0-8cb2-a8775b98d293",
   "metadata": {},
   "source": [
    "# Programming Assignment 5 Data Analysis and Visualization with Pandas and Matplotlib\n",
    "\n",
    "In PA4, we explored data cleaning and analysis on the smartphones dataset using the `json` module and basic dictionary operations. This time, we'll leverage the `Pandas` module to work with the same dataset, showcasing how it streamlines the process. Additionally, we’ll create visualizations to bring the data to life."
   ]
  },
  {
   "cell_type": "code",
   "execution_count": null,
   "id": "6740c31d-f401-40f6-837f-1e848677615d",
   "metadata": {},
   "outputs": [],
   "source": [
    "import pandas as pd\n",
    "import numpy as np\n",
    "import matplotlib.pyplot as plt\n",
    "import json"
   ]
  },
  {
   "cell_type": "markdown",
   "id": "766a5bd3-7aa4-4de3-b649-a1c0c5fee595",
   "metadata": {
    "deletable": false,
    "editable": false
   },
   "source": [
    "## Task 1. Load data\n",
    "\n",
    "1. Load the `data.json` file using the json module.\n",
    "2. Simplify the data by removing the `\"pricing\"` field from all entries.\n",
    "3. Convert the JSON-formatted data into a Pandas DataFrame using the [`json_normalize`](https://pandas.pydata.org/pandas-docs/stable/reference/api/pandas.json_normalize.html) function, specifying `max_level=2`.\n",
    "4. Save the DataFrame into `df`. \n",
    "5. Save the columns of the DataFrame into `df_columns`."
   ]
  },
  {
   "cell_type": "code",
   "execution_count": null,
   "id": "423e81d1-a7dd-425b-8c8f-cd8289f2fc99",
   "metadata": {
    "tags": []
   },
   "outputs": [],
   "source": [
    "...\n",
    "df = ...\n",
    "df_columns = ...\n",
    "df_columns"
   ]
  },
  {
   "cell_type": "code",
   "execution_count": null,
   "id": "80b7a8bf",
   "metadata": {
    "deletable": false,
    "editable": false
   },
   "outputs": [],
   "source": [
    "grader.check(\"T1\")"
   ]
  },
  {
   "cell_type": "markdown",
   "id": "71fad0bd-0493-4539-bcb2-48aa10572863",
   "metadata": {
    "deletable": false,
    "editable": false
   },
   "source": [
    "## Task 2: Count the number of phone models for each phone brand\n",
    "\n",
    "1. Count the number of phone models for each phone brand.\n",
    "2. Save the results as a Pandas Series in `phone_brand_count`.\n",
    "\n",
    "Expected results: \n",
    "\n",
    "<img src=\"images/task2.png\" width=\"200\">"
   ]
  },
  {
   "cell_type": "code",
   "execution_count": null,
   "id": "b88ea9d4-67d4-4a40-a6b9-7f8d84976fa5",
   "metadata": {
    "tags": []
   },
   "outputs": [],
   "source": [
    "phone_brand_count = ...\n",
    "phone_brand_count"
   ]
  },
  {
   "cell_type": "code",
   "execution_count": null,
   "id": "7f2df7ee",
   "metadata": {
    "deletable": false,
    "editable": false
   },
   "outputs": [],
   "source": [
    "grader.check(\"T2\")"
   ]
  },
  {
   "cell_type": "markdown",
   "id": "93f502cb-5527-4fe1-a6a3-d44833ecc17c",
   "metadata": {
    "deletable": false,
    "editable": false
   },
   "source": [
    "## Task 3. Process the `price` column\n",
    "\n",
    "`process_price` below is the function from PA4 to process individual raw price. \n",
    "1. Use `process_price` to convert the `price` string column into five numerical columns named `price.EUR`, `price.USD`, `price.GBP`, `price.INR`, `price.CAD`, and `price.AUD`. Hint: `apply`, [`rename`](https://pandas.pydata.org/docs/reference/api/pandas.DataFrame.rename.html), and `json_normalize` will be useful. Make sure to modify `process_price` to handle missing values. \n",
    "2. Add these six columns to `df`. Hint: Use `pd.concat` and you may need to specify the `axis` argument.\n",
    "\n",
    "Expected results: \n",
    "\n",
    "<img src=\"images/task3.png\" width=\"400\">"
   ]
  },
  {
   "cell_type": "code",
   "execution_count": null,
   "id": "444dedb4-fa4d-47dc-89b3-46434f488492",
   "metadata": {
    "tags": []
   },
   "outputs": [],
   "source": [
    "CURRENCY_MAP = {'EUR': 'EUR',\n",
    " 'INR': 'INR',\n",
    " '$': 'USD',\n",
    " 'A$': 'AUD',\n",
    " 'C$': 'CAD',\n",
    " '£': 'GBP',\n",
    " '€': 'EUR',\n",
    " '₹': 'INR'\n",
    "}\n",
    "\n",
    "def process_price(raw_price_string):\n",
    "    price_dict = {}\n",
    "\n",
    "    ...\n",
    "    \n",
    "    if \"About\" in raw_price_string:\n",
    "        parts = raw_price_string.split()\n",
    "        amount = float(parts[1])\n",
    "        currency = parts[2]\n",
    "        iso_currency = CURRENCY_MAP[currency]\n",
    "        price_dict[iso_currency] = amount\n",
    "    else:\n",
    "        segments = raw_price_string.split(\" / \")\n",
    "        for segment in segments:\n",
    "            parts = segment.split('\\u2009')\n",
    "            amount = float(parts[1].replace(\",\", \"\"))\n",
    "            currency = parts[0]\n",
    "            iso_currency = CURRENCY_MAP[currency]\n",
    "            price_dict[iso_currency] = amount\n",
    "    return price_dict\n",
    "\n",
    "...\n",
    "df[['price.EUR', 'price.USD', 'price.GBP', 'price.INR', 'price.CAD', 'price.AUD']]"
   ]
  },
  {
   "cell_type": "code",
   "execution_count": null,
   "id": "88725fcb",
   "metadata": {
    "deletable": false,
    "editable": false
   },
   "outputs": [],
   "source": [
    "grader.check(\"T3\")"
   ]
  },
  {
   "cell_type": "markdown",
   "id": "3de2ec78-80dd-4250-a5fe-d47cd6ad0ee8",
   "metadata": {
    "deletable": false,
    "editable": false
   },
   "source": [
    "## Task 4. How many missing values are there in the six prices columns? \n",
    "Expects a Pandas Series: \n",
    "```\n",
    "price.EUR    1891\n",
    "price.USD    8301\n",
    "price.GBP    8357\n",
    "price.INR    8429\n",
    "price.CAD    8711\n",
    "price.AUD    8789\n",
    "dtype: int64\n",
    "```"
   ]
  },
  {
   "cell_type": "code",
   "execution_count": null,
   "id": "f8adfd15-e1ce-425f-8fdc-896121bf1fef",
   "metadata": {
    "tags": []
   },
   "outputs": [],
   "source": [
    "prices_missing_count = ...\n",
    "prices_missing_count"
   ]
  },
  {
   "cell_type": "code",
   "execution_count": null,
   "id": "5c22728a",
   "metadata": {
    "deletable": false,
    "editable": false
   },
   "outputs": [],
   "source": [
    "grader.check(\"T4\")"
   ]
  },
  {
   "cell_type": "markdown",
   "id": "51e52fbd-45d2-4b6d-ba6e-9135f8d62015",
   "metadata": {
    "deletable": false,
    "editable": false
   },
   "source": [
    "## Task 5. Create a histogram of prices under 1500 EUR\n",
    "\n",
    "1. Create a histogram of prices under 1500 EUR with 30 bins and x, y labels.\n",
    "2. Save the plot to `price_hist`.\n",
    "\n",
    "Expected results: \n",
    "\n",
    "<img src=\"images/task5.png\" width=\"400\">"
   ]
  },
  {
   "cell_type": "code",
   "execution_count": null,
   "id": "64ddeae3-13e0-4eae-b424-65437b2fe665",
   "metadata": {
    "tags": []
   },
   "outputs": [],
   "source": [
    "price_hist = ..."
   ]
  },
  {
   "cell_type": "code",
   "execution_count": null,
   "id": "66e4cd51",
   "metadata": {
    "deletable": false,
    "editable": false
   },
   "outputs": [],
   "source": [
    "grader.check(\"T5\")"
   ]
  },
  {
   "cell_type": "markdown",
   "id": "1a68c09e-7727-4ad2-b1de-2550c34bc36e",
   "metadata": {
    "deletable": false,
    "editable": false
   },
   "source": [
    "## Task 6. Extract release year\n",
    "\n",
    "If you run `value_counts` on the `'specs.Launch.Status'` column, you'll notice three statuses:\n",
    "1. Discontinued\n",
    "2. Cancelled\n",
    "3. Available. Released year, month\n",
    "\n",
    "Your tasks: \n",
    "1. Extract the release year for each model and add it as a numerical column to `df`, named `release_year`. For models without a status or those marked as Discontinued or Cancelled, leave the value as `NaN`.\n",
    "2. Save the count of phone models by release year (sorted by year) to `release_year_count`.\n",
    "\n",
    "Expected results: \n",
    "```\n",
    "release_year\n",
    "2015.0      1\n",
    "2016.0     18\n",
    "2017.0    249\n",
    "2018.0    359\n",
    "2019.0    432\n",
    "2020.0    580\n",
    "2021.0    659\n",
    "2022.0    663\n",
    "2023.0    614\n",
    "2024.0    517\n",
    "Name: count, dtype: int64\n",
    "```"
   ]
  },
  {
   "cell_type": "code",
   "execution_count": null,
   "id": "c08fcc4f-69b4-4f91-8a24-71feede6de7c",
   "metadata": {
    "tags": []
   },
   "outputs": [],
   "source": [
    "...\n",
    "release_year_count = ...\n",
    "release_year_count"
   ]
  },
  {
   "cell_type": "code",
   "execution_count": null,
   "id": "588960c6",
   "metadata": {
    "deletable": false,
    "editable": false
   },
   "outputs": [],
   "source": [
    "grader.check(\"T6\")"
   ]
  },
  {
   "cell_type": "markdown",
   "id": "b2082a79-cc49-4758-b82f-be3635e44920",
   "metadata": {
    "deletable": false,
    "editable": false
   },
   "source": [
    "## Task 7. Create a boxplot of prices in EUR by release year\n",
    "\n",
    "1. Filter the data to include only rows with non-null `release_year` and `price.EUR` values.\n",
    "2. Group the prices in EUR by release year.\n",
    "3. Draw a **horizontal** boxplot in `price_boxplot_axes` and save the plot in `price_boxplot`.\n",
    "4. Annotate the plot with the most expensive model for each year.\n",
    "5. Label the axes.\n",
    "\n",
    "Expected results: \n",
    "\n",
    "<img src=\"images/task7.png\" width=\"600\">"
   ]
  },
  {
   "cell_type": "code",
   "execution_count": null,
   "id": "f00d8f77-74ce-4a03-8a9a-7dcced3a084e",
   "metadata": {
    "tags": []
   },
   "outputs": [],
   "source": [
    "price_boxplot_axes = plt.subplot()\n",
    "...\n",
    "price_boxplot = ...\n",
    "plt.show()"
   ]
  },
  {
   "cell_type": "code",
   "execution_count": null,
   "id": "0581298a",
   "metadata": {
    "deletable": false,
    "editable": false
   },
   "outputs": [],
   "source": [
    "grader.check(\"T7\")"
   ]
  },
  {
   "cell_type": "markdown",
   "id": "d9025bf7-ca28-4d7c-95cb-181b87026b3a",
   "metadata": {
    "deletable": false,
    "editable": false
   },
   "source": [
    "## Task 8. Extract network speed options for Apple and Samsung phones\n",
    "\n",
    "For all Apple and Samsung phones, use the `'specs.Network.Speed'` column (a string of network speed options separated by commas) to create two sets: one listing all network speed options for Apple phones and another for Samsung phones.\n",
    "\n",
    "Expected results for Apple: \n",
    "\n",
    "<img src=\"images/8apple.png\" width=\"250\">\n",
    "\n",
    "Partial expected results for Samsung: \n",
    "\n",
    "<img src=\"images/8samsung.png\" width=\"600\">"
   ]
  },
  {
   "cell_type": "code",
   "execution_count": null,
   "id": "a85ba487-3db5-4f50-b40b-928b9576eb47",
   "metadata": {
    "tags": []
   },
   "outputs": [],
   "source": [
    "apple_network_speed = ...\n",
    "...\n",
    "apple_network_speed"
   ]
  },
  {
   "cell_type": "code",
   "execution_count": null,
   "id": "e943e46f-8aeb-406b-ba28-484f9397b0e9",
   "metadata": {
    "tags": []
   },
   "outputs": [],
   "source": [
    "samsung_network_speed = ...\n",
    "...\n",
    "samsung_network_speed"
   ]
  },
  {
   "cell_type": "code",
   "execution_count": null,
   "id": "03457c41",
   "metadata": {
    "deletable": false,
    "editable": false
   },
   "outputs": [],
   "source": [
    "grader.check(\"T8\")"
   ]
  },
  {
   "cell_type": "markdown",
   "id": "13d5a3f7-074f-4506-91d7-ad7c5abc582e",
   "metadata": {
    "deletable": false,
    "editable": false
   },
   "source": [
    "## Task 9 Count phone models by network speed and release year\n",
    "\n",
    "From Task 8, we identified four major types of network speed options:\n",
    "* EV-DO: 3G\n",
    "* HSPA: 3G\n",
    "* LTE: 4G\n",
    "* 5G\n",
    "\n",
    "Your task is to create two DataFrames, one for Apple phones (`apple_network_df`) and one for Samsung phones (`samsung_network_df`), with the following structure:\n",
    "* Row indices: release_year (the release year of the phone models).\n",
    "* Columns: The four network speed options (EV-DO, HSPA, LTE, 5G).\n",
    "* Cell values: The count of phone models for the given release year and network speed option.\n",
    "\n",
    "Note: If a phone’s network speed has a specific keyword (e.g., 'EV-DO') as a substring, it falls under that category. Each phone can belong to multiple categories if applicable. Skip any network speed options that do not fall under the four categories.\n",
    "\n",
    "Expected results for Apple: \n",
    "\n",
    "<img src=\"images/9apple.png\" width=\"230\">\n",
    "\n",
    "Expected results for Samsung: \n",
    "\n",
    "<img src=\"images/9samsung.png\" width=\"230\">"
   ]
  },
  {
   "cell_type": "code",
   "execution_count": null,
   "id": "8b5594bb-81a4-439f-bd98-54f194a3d6b4",
   "metadata": {
    "tags": []
   },
   "outputs": [],
   "source": [
    "...\n",
    "apple_network_df"
   ]
  },
  {
   "cell_type": "code",
   "execution_count": null,
   "id": "163ca176-4c6a-4434-a36e-a7564f0e880d",
   "metadata": {
    "tags": []
   },
   "outputs": [],
   "source": [
    "...\n",
    "samsung_network_df"
   ]
  },
  {
   "cell_type": "code",
   "execution_count": null,
   "id": "a88da200",
   "metadata": {
    "deletable": false,
    "editable": false
   },
   "outputs": [],
   "source": [
    "grader.check(\"T9\")"
   ]
  },
  {
   "cell_type": "markdown",
   "id": "743c089a-ab7f-48cd-94c3-052512c307b1",
   "metadata": {
    "deletable": false,
    "editable": false
   },
   "source": [
    "## Task 10. Create heatmaps for network speed options by release year for Apple and Samsung\n",
    "\n",
    "1. Install Seaborn: Before starting, ensure you have Seaborn installed by running `pip install seaborn`. Activate your virtual environment before running the command. Seaborn, similar to Pandas, uses Matplotlib internally. However, it offers additional features, such as better integration with data and advanced plotting capabilities like heatmaps, which are not natively supported by Matplotlib.\n",
    "\n",
    "2. Create the Heatmaps:\n",
    "    * Use the DataFrames you created in the previous task for Apple and Samsung.\n",
    "    * Set up a subplot with 1 row and 2 columns that share the x-axis and y-axis.\n",
    "    * The first subplot will be a heatmap for Apple, where:\n",
    "        * The x-axis represents the four network speed options (EV-DO, HSPA, LTE, 5G).\n",
    "        * The y-axis represents the release years.\n",
    "    * The second subplot will be a heatmap for Samsung, using the same axes configuration.\n",
    "    * Instead of assigning a plot to `ax[?]` directly, use the `ax` parameter in seaborn.heatmap(). For example: `sns.heatmap(data, ax=ax[0])`\n",
    "    * You can add `cmap='Reds', linewidths=0.5, linecolor='black'` as parameters of the heatmap to distinguish the grid better. \n",
    "    * Ensure the subplots have titles (Apple and Samsung) to distinguish them.\n",
    "\n",
    "Expected results: \n",
    "\n",
    "<img src=\"images/task10.png\" width=\"400\">"
   ]
  },
  {
   "cell_type": "code",
   "execution_count": null,
   "id": "10a7ba45-23ff-493c-a43a-cf15bcb21f77",
   "metadata": {
    "tags": []
   },
   "outputs": [],
   "source": [
    "import seaborn as sns\n",
    "fig, axes = ...\n",
    "...\n",
    "for ax in axes:\n",
    "    ax.tick_params(axis='y', labelrotation=0)\n",
    "fig.supxlabel('Network speed')\n",
    "fig.supylabel('Release year')\n",
    "plt.show()"
   ]
  },
  {
   "cell_type": "code",
   "execution_count": null,
   "id": "2c5747a2",
   "metadata": {
    "deletable": false,
    "editable": false
   },
   "outputs": [],
   "source": [
    "grader.check(\"T10\")"
   ]
  },
  {
   "cell_type": "markdown",
   "id": "d7934aab-624c-4129-bc96-011039a29f67",
   "metadata": {},
   "source": [
    "## Conclusion\n",
    "\n",
    "Through this project, you’ve practiced essential skills in data analysis and visualization. By working with real-world smartphone data, you’ve learned how to process, clean, and extract insights while creating meaningful visualizations. These skills are not limited to this dataset—they can be applied to a wide range of datasets across various domains, enabling you to analyze trends, identify patterns, and effectively communicate findings in any data-driven field."
   ]
  },
  {
   "cell_type": "code",
   "execution_count": null,
   "id": "0135a27c-384e-4fc7-8c30-397c7d8b6d1e",
   "metadata": {},
   "outputs": [],
   "source": []
  },
  {
   "cell_type": "markdown",
   "id": "3580d865",
   "metadata": {
    "deletable": false,
    "editable": false
   },
   "source": [
    "## Submission\n",
    "\n",
    "Make sure you have run all cells in your notebook in order before running the cell below, so that all images/graphs appear in the output. The cell below will generate a zip file for you to submit. **Please save before exporting!**"
   ]
  },
  {
   "cell_type": "code",
   "execution_count": null,
   "id": "ee51483d",
   "metadata": {
    "deletable": false,
    "editable": false
   },
   "outputs": [],
   "source": [
    "# Save your notebook first, then run this cell to export your submission.\n",
    "grader.export(pdf=False, run_tests=True)"
   ]
  },
  {
   "cell_type": "markdown",
   "id": "ecc47cef",
   "metadata": {},
   "source": [
    " "
   ]
  }
 ],
 "metadata": {
  "kernelspec": {
   "display_name": "Python 3 (ipykernel)",
   "language": "python",
   "name": "python3"
  },
  "language_info": {
   "codemirror_mode": {
    "name": "ipython",
    "version": 3
   },
   "file_extension": ".py",
   "mimetype": "text/x-python",
   "name": "python",
   "nbconvert_exporter": "python",
   "pygments_lexer": "ipython3",
   "version": "3.12.5"
  },
  "otter": {
   "OK_FORMAT": true,
   "tests": {
    "T1": {
     "name": "T1",
     "points": 1,
     "suites": [
      {
       "cases": [
        {
         "code": ">>> assert df.shape == (8791, 84)\n>>> assert df_columns.equals(pd.Index(['phone_brand', 'phone_model', 'price', 'specs.Network.2G bands', 'specs.Network.3G bands', 'specs.Network.4G bands', 'specs.Network.Speed', 'specs.Network.GPRS', 'specs.Network.EDGE', 'specs.Launch.Announced', 'specs.Launch.Status', 'specs.Body.Dimensions', 'specs.Body.Weight', 'specs.Body.Build', 'specs.Body.SIM', 'specs.Display.Type', 'specs.Display.Size', 'specs.Display.Resolution', 'specs.Platform.OS', 'specs.Memory.Card slot', 'specs.Memory.Internal', 'specs.Sound.Loudspeaker', 'specs.Sound.3.5mm jack', 'specs.Comms.WLAN', 'specs.Comms.Bluetooth', 'specs.Comms.Positioning', 'specs.Comms.NFC', 'specs.Comms.Radio', 'specs.Comms.USB', 'specs.Features.Sensors', 'specs.Battery.Type', 'specs.Misc.Colors', 'specs.Platform.Chipset', 'specs.Platform.CPU', 'specs.Platform.GPU', 'specs.Main Camera.Triple', 'specs.Main Camera.Features', 'specs.Main Camera.Video', 'specs.Selfie camera.Single', 'specs.Selfie camera.Video', 'specs.Battery.Charging', 'specs.Misc.Price', 'specs.Display.Protection', 'specs.Battery.Stand-by', 'specs.Battery.Talk time', 'specs.Misc.Models', 'specs.Tests.Loudspeaker', 'specs.Tests.Performance', 'specs.Tests.Display', 'specs.Tests.Battery (old)', 'specs.Main Camera.Single', 'specs.Main Camera.Dual', 'specs.Main Camera.Quad', 'specs.Network.5G bands', 'specs.Network.Technology', 'specs.Selfie Camera.Single', 'specs.Selfie Camera.Video', 'specs.Comms.Infrared port', 'specs.Selfie camera.Features', 'specs.Main Camera.Penta', 'specs.Selfie camera.Dual', 'specs.Tests.Camera', 'specs.Misc.SAR', 'specs.Selfie Camera.Features', 'specs.Features.Languages', 'specs.Body.Keyboard', 'specs.Memory.Phonebook', 'specs.Memory.Call records', 'specs.Features.Messaging', 'specs.Features.Browser', 'specs.Features.Games', 'specs.Features.Java', 'specs.Misc.SAR EU', 'specs.Tests.Audio quality', 'specs.Tests.Battery (new)', 'specs.Battery.Music play', 'specs.Sound.Alert types', 'specs.Features.Clock', 'specs.Features.Alarm', 'specs.Selfie camera.No', 'specs.Selfie camera.Triple', 'specs.Main Camera.Dual or Triple', 'specs.Main Camera.Five', 'specs.Selfie Camera.Dual'], dtype='object'))\n",
         "hidden": false,
         "locked": false
        }
       ],
       "scored": true,
       "setup": "",
       "teardown": "",
       "type": "doctest"
      }
     ]
    },
    "T10": {
     "name": "T10",
     "points": 1,
     "suites": [
      {
       "cases": [
        {
         "code": ">>> ax1, ax2 = (axes[0], axes[1])\n>>> assert ax1.get_title() == 'Apple'\n>>> assert ax2.get_title() == 'Samsung'\n>>> assert np.array_equal(ax1.get_xticks(), np.array([0.5, 1.5, 2.5, 3.5]))\n>>> assert np.array_equal(ax2.get_xticks(), np.array([0.5, 1.5, 2.5, 3.5]))\n>>> assert np.array_equal(ax1.get_yticks(), np.array([0.5, 1.5, 2.5, 3.5, 4.5, 5.5, 6.5, 7.5, 8.5, 9.5]))\n>>> assert np.array_equal(ax2.get_yticks(), np.array([0.5, 1.5, 2.5, 3.5, 4.5, 5.5, 6.5, 7.5, 8.5, 9.5]))\n>>> vmin1, vmax1 = (ax1.collections[0].colorbar.vmin, ax1.collections[0].colorbar.vmax)\n>>> vmin2, vmax2 = (ax2.collections[0].colorbar.vmin, ax2.collections[0].colorbar.vmax)\n>>> assert vmin1 == np.float64(0.0)\n>>> assert vmax1 == np.float64(13.0)\n>>> assert vmin1 == np.float64(0.0)\n>>> assert vmax2 == np.float64(55.0)\n",
         "hidden": false,
         "locked": false
        }
       ],
       "scored": true,
       "setup": "",
       "teardown": "",
       "type": "doctest"
      }
     ]
    },
    "T2": {
     "name": "T2",
     "points": 1,
     "suites": [
      {
       "cases": [
        {
         "code": ">>> phone_brand_count_index = list(phone_brand_count.index)\n>>> assert phone_brand_count_index[:10] == ['samsung', 'lg', 'motorola', 'nokia', 'vivo', 'huawei', 'xiaomi', 'alcatel', 'zte', 'oppo']\n>>> assert phone_brand_count_index[12:24] == ['lenovo', 'honor', 'realme', 'asus', 'sony', 'tecno', 'infinix', 'apple', 'ulefone_', 'doogee', 'blackview', 'meizu']\n>>> assert phone_brand_count_index[29:] == ['umidigi', 'oukitel', 'itel', 'google', 'microsoft', 'cat', 'nothing']\n>>> assert phone_brand_count.values == pd.array([1400, 667, 634, 585, 476, 460, 412, 409, 387, 318, 289, 289, 249, 227, 221, 200, 160, 153, 140, 128, 99, 92, 80, 78, 77, 77, 77, 75, 75, 71, 55, 39, 33, 32, 22, 5])\n",
         "hidden": false,
         "locked": false
        }
       ],
       "scored": true,
       "setup": "",
       "teardown": "",
       "type": "doctest"
      }
     ]
    },
    "T3": {
     "name": "T3",
     "points": 1,
     "suites": [
      {
       "cases": [
        {
         "code": ">>> expected_prices = pd.read_csv('prices.csv')\n>>> assert df[['price.EUR', 'price.USD', 'price.GBP', 'price.INR', 'price.CAD', 'price.AUD']].equals(expected_prices)\n",
         "hidden": false,
         "locked": false
        }
       ],
       "scored": true,
       "setup": "",
       "teardown": "",
       "type": "doctest"
      }
     ]
    },
    "T4": {
     "name": "T4",
     "points": 1,
     "suites": [
      {
       "cases": [
        {
         "code": ">>> assert prices_missing_count.index.equals(pd.Index(['price.EUR', 'price.USD', 'price.GBP', 'price.INR', 'price.CAD', 'price.AUD']))\n>>> assert prices_missing_count.values == pd.array([1891, 8301, 8357, 8429, 8711, 8789])\n",
         "hidden": false,
         "locked": false
        }
       ],
       "scored": true,
       "setup": "",
       "teardown": "",
       "type": "doctest"
      }
     ]
    },
    "T5": {
     "name": "T5",
     "points": 1,
     "suites": [
      {
       "cases": [
        {
         "code": ">>> assert price_hist.get_xlabel() == 'Prices (EUR)'\n>>> assert price_hist.get_ylabel() == 'Count'\n>>> assert [p.get_height() for p in price_hist.patches] == [np.float64(458.0), np.float64(1278.0), np.float64(1329.0), np.float64(1049.0), np.float64(767.0), np.float64(595.0), np.float64(333.0), np.float64(256.0), np.float64(181.0), np.float64(91.0), np.float64(105.0), np.float64(73.0), np.float64(65.0), np.float64(49.0), np.float64(45.0), np.float64(25.0), np.float64(33.0), np.float64(24.0), np.float64(25.0), np.float64(10.0), np.float64(20.0), np.float64(10.0), np.float64(7.0), np.float64(8.0), np.float64(8.0), np.float64(4.0), np.float64(9.0), np.float64(1.0), np.float64(5.0), np.float64(7.0)]\n",
         "hidden": false,
         "locked": false
        }
       ],
       "scored": true,
       "setup": "",
       "teardown": "",
       "type": "doctest"
      }
     ]
    },
    "T6": {
     "name": "T6",
     "points": 1,
     "suites": [
      {
       "cases": [
        {
         "code": ">>> assert release_year_count.index.equals(pd.Index([2015.0, 2016.0, 2017.0, 2018.0, 2019.0, 2020.0, 2021.0, 2022.0, 2023.0, 2024.0], dtype='float64', name='release_year'))\n>>> assert release_year_count.values == pd.array([1, 18, 249, 359, 432, 580, 659, 663, 614, 517])\n",
         "hidden": false,
         "locked": false
        }
       ],
       "scored": true,
       "setup": "",
       "teardown": "",
       "type": "doctest"
      }
     ]
    },
    "T7": {
     "name": "T7",
     "points": 1,
     "suites": [
      {
       "cases": [
        {
         "code": ">>> assert price_boxplot_axes.get_xlabel() == 'Prices (EUR)'\n>>> assert price_boxplot_axes.get_ylabel() == 'Release year'\n>>> assert [t.get_text() for t in price_boxplot_axes.texts] == ['Samsung Galaxy Tab A 8.0 & S Pen (2015)', 'Lenovo Yoga Tab 3 Pro', 'Apple Watch Edition Series 3', 'Oppo Find X Lamborghini', 'Huawei Mate X', 'Huawei Mate Xs', 'Huawei Mate X2', 'Honor Magic Vs', 'Huawei Watch Ultimate Design', 'Honor Magic V2 RSR Porsche Design']\n>>> student_medians = [line.get_xdata() for line in price_boxplot['medians']]\n>>> expected_medians = [np.array([220.0, 220.0]), np.array([140.0, 140.0]), np.array([200.0, 200.0]), np.array([220.0, 220.0]), np.array([230.0, 230.0]), np.array([200.0, 200.0]), np.array([200.0, 200.0]), np.array([230.0, 230.0]), np.array([235.995, 235.995]), np.array([259.995, 259.995])]\n>>> for i in range(len(student_medians)):\n...     assert np.array_equal(student_medians[i], expected_medians[i])\n>>> student_whiskers = [line.get_xdata() for line in price_boxplot['whiskers']]\n>>> expected_whiskers = [np.array([220.0, 220.0]), np.array([220.0, 220.0]), np.array([100.0, 70.0]), np.array([190.0, 220.0]), np.array([150.0, 10.0]), np.array([300.0, 520.0]), np.array([150.0, 10.0]), np.array([350.0, 650.0]), np.array([150.0, 10.0]), np.array([400.0, 760.0]), np.array([130.0, 20.0]), np.array([356.2425, 690.0]), np.array([130.0, 10.0]), np.array([325.0, 610.0]), np.array([150.0, 10.0]), np.array([370.0, 700.0]), np.array([150.0, 20.0]), np.array([409.9975, 799.99]), np.array([160.0, 20.0]), np.array([459.985, 900.0])]\n>>> for i in range(len(student_whiskers)):\n...     assert np.array_equal(student_whiskers[i], expected_whiskers[i])\n>>> student_caps = [line.get_xdata() for line in price_boxplot['caps']]\n>>> expected_caps = [np.array([220.0, 220.0]), np.array([220.0, 220.0]), np.array([70.0, 70.0]), np.array([220.0, 220.0]), np.array([10.0, 10.0]), np.array([520.0, 520.0]), np.array([10.0, 10.0]), np.array([650.0, 650.0]), np.array([10.0, 10.0]), np.array([760.0, 760.0]), np.array([20.0, 20.0]), np.array([690.0, 690.0]), np.array([10.0, 10.0]), np.array([610.0, 610.0]), np.array([10.0, 10.0]), np.array([700.0, 700.0]), np.array([20.0, 20.0]), np.array([799.99, 799.99]), np.array([20.0, 20.0]), np.array([900.0, 900.0])]\n>>> for i in range(len(student_caps)):\n...     assert np.array_equal(student_caps[i], expected_caps[i])\n",
         "hidden": false,
         "locked": false
        }
       ],
       "scored": true,
       "setup": "",
       "teardown": "",
       "type": "doctest"
      }
     ]
    },
    "T8": {
     "name": "T8",
     "points": 1,
     "suites": [
      {
       "cases": [
        {
         "code": ">>> assert apple_network_speed == {'5G', 'EV-DO Rev.A 3.1 Mbps', 'HSPA', 'HSPA 14.4/2 Mbps', 'HSPA 14.4/5.76 Mbps', 'HSPA 42.2/5.76 Mbps', 'HSPA 7.2/0.384 Mbps', 'HSPA 7.2/5.76 Mbps', 'LTE', 'LTE (2CA) Cat6 300/50 Mbps', 'LTE (3CA) Cat12 600/150 Mbps', 'LTE (3CA) Cat9 450/50 Mbps', 'LTE (4CA) Cat16 1024/150 Mbps', 'LTE (5CA) Cat16 1024/150 Mbps', 'LTE (CA)', 'LTE (CA) Cat16 1024/150 Mbps', 'LTE 1.6 Gbps DL', 'LTE Cat3 100/50 Mbps', 'LTE Cat4 150/50 Mbps', 'LTE Cat6 300/50 Mbps'}\n>>> assert samsung_network_speed == {'153.2 Kbps', '384 kbps', '42.2(21.1)/5.76 Mbps (region dependent)', '5G', '5G (2+ Gbps DL)', '5G (5+ Gbps DL)', 'CDMA2000 1xEV-DO', 'EV-DO Rev. 0', 'EV-DO Rev. A 3.1 Mbps', 'EV-DO Rev.0', 'EV-DO Rev.A 3.1 Mbps', 'HSPA', 'HSPA 1.8 Mbps', 'HSPA 14.4/5.76 Mbps', 'HSPA 21.1/3.6 Mbps', 'HSPA 21.1/5.76 Mbps', 'HSPA 21.1/5.76 Mbps (I9200)', 'HSPA 3.6/0.384 Mbps', 'HSPA 3.6/2 Mbps', 'HSPA 42.2(14.4 - 3G)/5.76 Mbps', 'HSPA 42.2(LTE)/21.1(3G)/5.76 Mbps', 'HSPA 42.2/11.5 Mbps', 'HSPA 42.2/21/5.76 Mbps (region dependent)/ LTE Cat3 100/50 Mbps (SM-G7105)', 'HSPA 42.2/5.76 Mbps', 'HSPA 42.2/5.76 Mbps (T321)/ LTE Cat4 150/50 Mbps (T325)', 'HSPA 7.2/0.384 Mbps', 'HSPA 7.2/0.384 Mbps (GT-C3595)', 'HSPA 7.2/2 Mbps', 'HSPA 7.2/5.76 Mbps', 'LTE', 'LTE (2CA)', 'LTE (2CA) Cat12 600/150 Mbps', 'LTE (2CA) Cat12 600/50 Mbps', 'LTE (2CA) Cat13 400/50 Mbps', 'LTE (2CA) Cat6 300/50 Mbps', 'LTE (2CA) Cat6 300/50 Mbps/ LTE (3CA) Cat9 450/50 Mbps', 'LTE (2CA) Cat6 400/50 Mbps', 'LTE (3CA)', 'LTE (3CA) Cat11 600/50 Mbps', 'LTE (3CA) Cat11 600/75 Mbps', 'LTE (3CA) Cat12 600/150 Mbps', 'LTE (3CA) Cat6 300/50 Mbps', 'LTE (3CA) Cat6 300/50 Mbps or Cat4 150/50 Mbps', 'LTE (3CA) Cat9 450/50 Mbps', 'LTE (3CA) Cat9/Cat10 or LTE (3CA) Cat12 600/150 Mbps', 'LTE (4CA) Cat12 600/150 Mbps', 'LTE (5CA) Cat16 1000/150 Mbps', 'LTE (5CA) Cat16 1024/150 Mbps', 'LTE (5CA) Cat18 1200/200 Mbps', 'LTE (5CA) Cat19 1600/200 Mbps', 'LTE (5CA) Cat19 1800/200 Mbps', 'LTE (6CA)', 'LTE (6CA) Cat18 1200/150 Mbps', 'LTE (6CA) Cat18 1200/200 Mbps', 'LTE (6CA) Cat20 2000/150 Mbps', 'LTE (6CA) Cat20 2000/200 Mbps', 'LTE (7CA) Cat20 2000/150 Mbps', 'LTE (7CA) Cat20 2000/200 Mbps', 'LTE (CA)', 'LTE (CA) Cat18 1200/150 Mbps', 'LTE (T999L)', 'LTE (optional)', 'LTE (up to 7CA)', 'LTE Cat16 1024/75 Mbps', 'LTE Cat3 100/50 Mbps', 'LTE Cat3 100/50 Mbps (I9205)', 'LTE Cat3 100/50 Mbps (SM-T215)', 'LTE Cat4 150/50 Mbps', 'LTE Cat4 150/50 Mbps (Exynos 5433)', 'LTE Cat4 150/50 Mbps or LTE (2CA) Cat6 300/50 Mbps', 'LTE Cat6 300/50 Mbps', 'LTE Cat6 300/50 Mbps/ LTE (3CA) Cat9 450/50 Mbps', 'LTE-А', 'No', 'Yes'}\n",
         "hidden": false,
         "locked": false
        }
       ],
       "scored": true,
       "setup": "",
       "teardown": "",
       "type": "doctest"
      }
     ]
    },
    "T9": {
     "name": "T9",
     "points": 1,
     "suites": [
      {
       "cases": [
        {
         "code": ">>> assert np.array_equal(apple_network_df.index, pd.RangeIndex(start=2015, stop=2025, step=1))\n>>> assert np.array_equal(samsung_network_df.index, pd.RangeIndex(start=2015, stop=2025, step=1))\n>>> assert apple_network_df.columns.equals(pd.Index(['EV-DO', 'HSPA', 'LTE', '5G'], dtype='object'))\n>>> assert samsung_network_df.columns.equals(pd.Index(['EV-DO', 'HSPA', 'LTE', '5G'], dtype='object'))\n>>> assert np.array_equal(apple_network_df.to_numpy(), np.array([[0, 0, 0, 0], [0, 0, 0, 0], [5, 8, 8, 0], [6, 8, 8, 0], [4, 9, 9, 0], [7, 13, 13, 4], [6, 11, 11, 7], [5, 13, 13, 9], [4, 7, 7, 4], [4, 10, 10, 8]]))\n>>> assert np.array_equal(samsung_network_df.to_numpy(), np.array([[0, 1, 1, 0], [0, 0, 0, 0], [0, 19, 19, 0], [0, 30, 30, 0], [0, 43, 43, 5], [0, 55, 55, 18], [0, 43, 43, 17], [0, 37, 37, 21], [0, 32, 32, 23], [0, 28, 28, 19]]))\n",
         "hidden": false,
         "locked": false
        }
       ],
       "scored": true,
       "setup": "",
       "teardown": "",
       "type": "doctest"
      }
     ]
    }
   }
  }
 },
 "nbformat": 4,
 "nbformat_minor": 5
}
