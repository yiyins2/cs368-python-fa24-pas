{
 "cells": [
  {
   "cell_type": "code",
   "execution_count": null,
   "id": "d31d22b1",
   "metadata": {
    "deletable": false,
    "editable": false
   },
   "outputs": [],
   "source": [
    "# Initialize Otter\n",
    "import otter\n",
    "grader = otter.Notebook(\"pa1.ipynb\")"
   ]
  },
  {
   "cell_type": "code",
   "execution_count": null,
   "id": "ecb5edd5-ed74-4044-8e99-895bc2efdb71",
   "metadata": {},
   "outputs": [],
   "source": [
    "# change the following if needed\n",
    "# partner: none"
   ]
  },
  {
   "cell_type": "markdown",
   "id": "c4daf762-bcdf-4857-9743-96646646a746",
   "metadata": {},
   "source": [
    "# Programming Assignment 1"
   ]
  },
  {
   "cell_type": "markdown",
   "id": "a530734e-b174-4185-8513-f1a91b448326",
   "metadata": {},
   "source": [
    "## How to complete this assignment? \n",
    "1. The first cell of this notebook is created by the otter grader. Please run this cell. \n",
    "```python\n",
    "# Initialize Otter\n",
    "import otter\n",
    "grader = otter.Notebook(\"pa1.ipynb\")\n",
    "```\n",
    "\n",
    "2. Complete the missing parts, indicated by `...`, in each question.\n",
    "\n",
    "\n",
    "3. You can check each question using the `grader` object by running:\n",
    "```python\n",
    "grader.check(\"q1\")\n",
    "```\n",
    "\n",
    "4. You can check all questions at once using the `grader` object by running:\n",
    "```python\n",
    "grader.check_all()\n",
    "```\n"
   ]
  },
  {
   "cell_type": "markdown",
   "id": "5e39c6e3-a8fb-4899-bf7c-87ffa2477fbb",
   "metadata": {},
   "source": [
    "## Section 1. Installation and Virtual Environment \n",
    "\n",
    "**Note:** \n",
    "Before you start, follow the installation and virtual environment tutorials from [Lecture 1](https://github.com/yiyins2/cs368-python-fa24/tree/main/01-installation-version-control). Make sure this notebook is run within the virtual environment."
   ]
  },
  {
   "cell_type": "markdown",
   "id": "37be81e2-265f-4db0-b9ea-9b4efa425df0",
   "metadata": {
    "deletable": false,
    "editable": false
   },
   "source": [
    "### Question 1. Display the Python version using `!python --version`.\n",
    "\n",
    "In Jupyter Notebooks, prefixing a shell command with `!` allows it to execute and return results within the notebook just as it would in the shell.\n",
    "\n",
    "**Task:** Assign the Python version into the `python_version` variable using `!python --version`. \n",
    "\n",
    "**Expected Output:** Since the notebook runs within the virtual environment you created for the course, which is based on Python 3.12.x, it should output ['Python 3.12.x']."
   ]
  },
  {
   "cell_type": "code",
   "execution_count": null,
   "id": "83a1a379-fc21-44b5-a29d-b57014fb40ea",
   "metadata": {
    "tags": []
   },
   "outputs": [],
   "source": [
    "python_version = ...\n",
    "python_version"
   ]
  },
  {
   "cell_type": "code",
   "execution_count": null,
   "id": "c5aaae2c",
   "metadata": {
    "deletable": false,
    "editable": false
   },
   "outputs": [],
   "source": [
    "grader.check(\"Q1\")"
   ]
  },
  {
   "cell_type": "markdown",
   "id": "fcf13967-5515-447a-9411-788c20a91c1c",
   "metadata": {
    "deletable": false,
    "editable": false
   },
   "source": [
    "### Question 2. Display the path of the excutable using `sys.executable`.\n",
    "\n",
    "In Python, you can import packages using the syntax `import <package_name>`. Begin by importing the sys library with `import sys`. This library, included in Python's standard library, provides functions and variables that directly interact with the Python interpreter.\n",
    "\n",
    "One attribute of the sys package is `sys.executable`, which indicates the path to the Python executable that is running the current script. Attributes and functions of a package can be accessed using the dot notation in the format `<package_name>.<attribute_or_function>`. \n",
    "\n",
    "**Tasks:**\n",
    "1. Import the `sys` library.\n",
    "2. Assign the path to the Python executable to the `executable` variable using the `sys.executable` attribute.\n",
    "\n",
    "**Expected Output:** Again, since the notebook runs within the virtual environment you created, it should output the path of the executable within the local copy of CPython."
   ]
  },
  {
   "cell_type": "code",
   "execution_count": null,
   "id": "98646203-f437-44fc-a052-35321166b8d1",
   "metadata": {
    "tags": []
   },
   "outputs": [],
   "source": [
    "...\n",
    "executable = ...\n",
    "executable"
   ]
  },
  {
   "cell_type": "code",
   "execution_count": null,
   "id": "8c507b49",
   "metadata": {
    "deletable": false,
    "editable": false
   },
   "outputs": [],
   "source": [
    "grader.check(\"Q2\")"
   ]
  },
  {
   "cell_type": "markdown",
   "id": "f3234feb-d77a-474e-8406-a0da19d9c65e",
   "metadata": {
    "deletable": false,
    "editable": false
   },
   "source": [
    "### Question 3. Install packages using `requirements.txt` and check Matplotlib version. \n",
    "\n",
    "In Python, to simplify references to a package throughout your code, you can import it using a shorthand alias with the syntax `import <package_name> as <alias>`. Once imported with alias, you should refer to the package using the alias. To access this package's attributes or functions, use `<alias>.<attribute_or_function>`. \n",
    "\n",
    "**Tasks:**\n",
    "\n",
    "1. Inside the folder for `PA1`, you'll find a requirements.txt file that lists some of the packages we'll use in this course, along with their required versions. Install these packages using the command `pip install -r requirements.txt`.\n",
    "2. Import `matplotlib` using the alias `plt` and then use this alias to display matplotlib's version. You may refer to [this documentation page](https://matplotlib.org/stable/install/index.html#obtaining-matplotlib-version) to locate the appropriate attribute for obtaining the version.\n",
    "\n",
    "**Expected Output:** The output should be '3.9.2', which is the latest stable version of Pandas."
   ]
  },
  {
   "cell_type": "code",
   "execution_count": null,
   "id": "99a8b892-fb27-4f70-9c68-b758ae36c954",
   "metadata": {
    "tags": []
   },
   "outputs": [],
   "source": [
    "...\n",
    "matplotlib_version = ...\n",
    "matplotlib_version"
   ]
  },
  {
   "cell_type": "code",
   "execution_count": null,
   "id": "5ebe240c",
   "metadata": {
    "deletable": false,
    "editable": false
   },
   "outputs": [],
   "source": [
    "grader.check(\"Q3\")"
   ]
  },
  {
   "cell_type": "markdown",
   "id": "1c89d3cf-04af-4dc7-b397-7ed91bb18826",
   "metadata": {
    "deletable": false,
    "editable": false
   },
   "source": [
    "### Question 4. Import a self-defined module. \n",
    "\n",
    "Apart from executing a `.py` script using the commend line, you can also import and use it in Jupyter Notebook. \n",
    "\n",
    "**Tasks:**\n",
    "1. Create a `.py` file named `pa1` in the same directory as this notebook. Then, write the following lines in `pa1.py`:\n",
    "\n",
    "```python\n",
    "print('hello, world!')\n",
    "\n",
    "def info(): \n",
    "   return 'CS368 PA1'\n",
    "```\n",
    "\n",
    "Note that Python functions are defined in the following format:\n",
    "\n",
    "```python\n",
    "def function_name(parameters):\n",
    "    return ...\n",
    "```\n",
    "   More details of functions will be covered in later lectures.\n",
    "\n",
    "2. A single `.py` file is often referred to as a module. Similar to how you import libraries, you can import a `module.py` using `import module`. Import the `pa1.py` you just created.\n",
    "\n",
    "3. Invoke the `info` function defined in `pa1.py`. \n",
    "\n",
    "**Expected Output:** You should see 'hello, world!' printed and then 'CS368 PA1' displayed in the output cell."
   ]
  },
  {
   "cell_type": "code",
   "execution_count": null,
   "id": "c2860bc6-da1f-4b71-b24b-0278817b8df3",
   "metadata": {
    "tags": []
   },
   "outputs": [],
   "source": [
    "...\n",
    "info_return = ...\n",
    "info_return "
   ]
  },
  {
   "cell_type": "code",
   "execution_count": null,
   "id": "510343b7",
   "metadata": {
    "deletable": false,
    "editable": false
   },
   "outputs": [],
   "source": [
    "grader.check(\"Q4\")"
   ]
  },
  {
   "cell_type": "markdown",
   "id": "df7e84f4-139e-460e-b139-1cb4d91bb49f",
   "metadata": {
    "deletable": false,
    "editable": false
   },
   "source": [
    "### Question 5. Auto-reload the module.\n",
    "\n",
    "**Tasks:**\n",
    "1. Add another print statement to your `info()` function before the return statement.\n",
    "\n",
    "2. Invoke the `info` function again. You won't see the new print statement because new changes made in the module won't automatically reflect in the notebook. You can choose to restart the kernel and import the module again whenever you made changes, or ...\n",
    "\n",
    "You can add the following two lines at the beginning of your notebook and restart the kernel once:\n",
    "```python\n",
    "%load_ext autoreload\n",
    "%autoreload 2\n",
    "```\n",
    "\n",
    "These two lines ensure that all module changes are automatically reloaded before any code execution, reflecting any updates immediately without needing to restart the kernel."
   ]
  },
  {
   "cell_type": "code",
   "execution_count": null,
   "id": "cd08193e-78df-4b0a-a727-a89dadef0e91",
   "metadata": {
    "scrolled": true,
    "tags": []
   },
   "outputs": [],
   "source": [
    "info_return2 = ...\n",
    "info_return2"
   ]
  },
  {
   "cell_type": "code",
   "execution_count": null,
   "id": "91bec7cf",
   "metadata": {
    "deletable": false,
    "editable": false
   },
   "outputs": [],
   "source": [
    "grader.check(\"Q5\")"
   ]
  },
  {
   "cell_type": "markdown",
   "id": "758e6728-c632-441a-9edb-a743e6b37141",
   "metadata": {},
   "source": [
    "## Section 2. Basic Data Types"
   ]
  },
  {
   "cell_type": "markdown",
   "id": "283d9c06-e010-4007-ab89-e41a23b5a782",
   "metadata": {
    "deletable": false,
    "editable": false
   },
   "source": [
    "### Question 6. Inspect type.\n",
    "**Task:** Get the type of `q6_var` and store it in `q6_type`. "
   ]
  },
  {
   "cell_type": "code",
   "execution_count": null,
   "id": "45a9d462-daa8-4811-9eb4-f1ba92be6afd",
   "metadata": {
    "tags": []
   },
   "outputs": [],
   "source": [
    "q6_var = 'hello, world!'\n",
    "q6_type = ...\n",
    "q6_type"
   ]
  },
  {
   "cell_type": "code",
   "execution_count": null,
   "id": "7dcf97a7",
   "metadata": {
    "deletable": false,
    "editable": false
   },
   "outputs": [],
   "source": [
    "grader.check(\"Q6\")"
   ]
  },
  {
   "cell_type": "markdown",
   "id": "d7bf7a72-4940-4509-849a-5f1d22d76fbb",
   "metadata": {
    "deletable": false,
    "editable": false
   },
   "source": [
    "### Question 7. Method resolution order.\n",
    "**Task:** Store the method resolution order for the `str` type in `str_mro`.\n",
    "\n",
    "Note `str`'s parent class is `object`. Everything is Pythin is an object!"
   ]
  },
  {
   "cell_type": "code",
   "execution_count": null,
   "id": "cdd871a5-de94-4f10-9666-143b30aa73c3",
   "metadata": {
    "tags": []
   },
   "outputs": [],
   "source": [
    "str_mro = ...\n",
    "str_mro"
   ]
  },
  {
   "cell_type": "code",
   "execution_count": null,
   "id": "dd3b747c",
   "metadata": {
    "deletable": false,
    "editable": false
   },
   "outputs": [],
   "source": [
    "grader.check(\"Q7\")"
   ]
  },
  {
   "cell_type": "markdown",
   "id": "cfd7a6e7-8613-43dd-8e04-05fc126e2755",
   "metadata": {
    "deletable": false,
    "editable": false
   },
   "source": [
    "### Question 8. Formatting floats.\n",
    "**Task:** Format the float 3.68 to a string with 30 decimal places."
   ]
  },
  {
   "cell_type": "code",
   "execution_count": null,
   "id": "f83a97b4-0320-4a06-960b-e30152cbe37f",
   "metadata": {
    "tags": []
   },
   "outputs": [],
   "source": [
    "format30 = ...\n",
    "format30"
   ]
  },
  {
   "cell_type": "code",
   "execution_count": null,
   "id": "1f2b8bfd",
   "metadata": {
    "deletable": false,
    "editable": false
   },
   "outputs": [],
   "source": [
    "grader.check(\"Q8\")"
   ]
  },
  {
   "cell_type": "markdown",
   "id": "a8282e27-9f7b-40ea-9e93-e628c60fdcb3",
   "metadata": {
    "deletable": false,
    "editable": false
   },
   "source": [
    "### Question 9. Float arithmetics and comparison.\n",
    "**Task:** Given x = 0.1 + 0.2 + 0.3 and y = 0.6, does the values of x and y equal? "
   ]
  },
  {
   "cell_type": "code",
   "execution_count": null,
   "id": "91fde37a-b34c-4a9c-8134-3db7ef582f1f",
   "metadata": {
    "tags": []
   },
   "outputs": [],
   "source": [
    "x = 0.1 + 0.2 + 0.3\n",
    "y = 0.6\n",
    "x_y_comparison_result = ...\n",
    "x_y_comparison_result"
   ]
  },
  {
   "cell_type": "code",
   "execution_count": null,
   "id": "e675235c",
   "metadata": {
    "deletable": false,
    "editable": false
   },
   "outputs": [],
   "source": [
    "grader.check(\"Q9\")"
   ]
  },
  {
   "cell_type": "markdown",
   "id": "7c0a63e1-6a2e-4091-b648-7e489d3cfd9c",
   "metadata": {
    "deletable": false,
    "editable": false
   },
   "source": [
    "### Question 10. Implement quadratic formula. \n",
    "**Task:** Given a quadratic equation $ax^2 + bx + c = 0$, complete the following function that returns the two roots of the equation using the [quadratic formula](https://en.wikipedia.org/wiki/Quadratic_formula). Assume the equation given is solvable. `root1` is the bigger root. "
   ]
  },
  {
   "cell_type": "code",
   "execution_count": null,
   "id": "51de6b39-5b7d-433e-afb8-ffdbc46f6d27",
   "metadata": {
    "tags": []
   },
   "outputs": [],
   "source": [
    "def quadratic_formula(a, b, c): \n",
    "    discriminant = ...\n",
    "    root1 = ...\n",
    "    root2 = ...\n",
    "    return root1, root2\n",
    "quadratic_formula(1, 4, 3)"
   ]
  },
  {
   "cell_type": "code",
   "execution_count": null,
   "id": "83e5949a",
   "metadata": {
    "deletable": false,
    "editable": false
   },
   "outputs": [],
   "source": [
    "grader.check(\"Q10\")"
   ]
  },
  {
   "cell_type": "markdown",
   "id": "0c817c12-c299-412e-9718-9e9056f95cc9",
   "metadata": {
    "deletable": false,
    "editable": false
   },
   "source": [
    "### Question 11. Implement XOR.\n",
    "**Task:** Use `not`, `and` and `or` to implement the following [exclusive or](https://en.wikipedia.org/wiki/Exclusive_or) function. "
   ]
  },
  {
   "cell_type": "code",
   "execution_count": null,
   "id": "f84fdf2e-0a14-43b7-8ac4-a5a48fe374d0",
   "metadata": {
    "tags": []
   },
   "outputs": [],
   "source": [
    "def xor(operand1, operand2): \n",
    "    result = ...\n",
    "    return result"
   ]
  },
  {
   "cell_type": "code",
   "execution_count": null,
   "id": "4748d289",
   "metadata": {
    "deletable": false,
    "editable": false
   },
   "outputs": [],
   "source": [
    "grader.check(\"Q11\")"
   ]
  },
  {
   "cell_type": "markdown",
   "id": "6ba3896a-8ff4-40de-8dcf-9153d9ea4e38",
   "metadata": {
    "deletable": false,
    "editable": false
   },
   "source": [
    "### Question 12. Represent `time` in terms of `hours`, `minutes`, and `seconds`. \n",
    "\n",
    "**Task:**\n",
    "Complete the following `time_converter` function, where the argument passed, `time`, is a non-negative integer measured in seconds. Convert `time` to the form of `x hours y minutes and z seconds`, ensuring that `hours`, `minutes`, and `seconds` are integers. For example, 10,000 seconds is 2 hours 46 minutes and 40 seconds. "
   ]
  },
  {
   "cell_type": "code",
   "execution_count": null,
   "id": "a2f36a15-7b68-42cf-86b1-741e6501e482",
   "metadata": {
    "tags": []
   },
   "outputs": [],
   "source": [
    "def time_converter(time): \n",
    "    hours = ...\n",
    "    minutes = ...\n",
    "    seconds = ...\n",
    "    return hours, minutes, seconds\n",
    "\n",
    "time_converter(10000)"
   ]
  },
  {
   "cell_type": "code",
   "execution_count": null,
   "id": "3d065f74",
   "metadata": {
    "deletable": false,
    "editable": false
   },
   "outputs": [],
   "source": [
    "grader.check(\"Q12\")"
   ]
  },
  {
   "cell_type": "code",
   "execution_count": null,
   "id": "5cc67380-5728-40cd-9224-96e9b07403ac",
   "metadata": {},
   "outputs": [],
   "source": []
  },
  {
   "cell_type": "markdown",
   "id": "bd3d8bee",
   "metadata": {
    "deletable": false,
    "editable": false
   },
   "source": [
    "## Submission\n",
    "\n",
    "Make sure you have run all cells in your notebook in order before running the cell below, so that all images/graphs appear in the output. The cell below will generate a zip file for you to submit. **Please save before exporting!**"
   ]
  },
  {
   "cell_type": "code",
   "execution_count": null,
   "id": "9741eeb4",
   "metadata": {
    "deletable": false,
    "editable": false
   },
   "outputs": [],
   "source": [
    "# Save your notebook first, then run this cell to export your submission.\n",
    "grader.export(pdf=False, run_tests=True)"
   ]
  },
  {
   "cell_type": "markdown",
   "id": "a5db614b",
   "metadata": {},
   "source": [
    " "
   ]
  }
 ],
 "metadata": {
  "kernelspec": {
   "display_name": "Python 3 (ipykernel)",
   "language": "python",
   "name": "python3"
  },
  "language_info": {
   "codemirror_mode": {
    "name": "ipython",
    "version": 3
   },
   "file_extension": ".py",
   "mimetype": "text/x-python",
   "name": "python",
   "nbconvert_exporter": "python",
   "pygments_lexer": "ipython3",
   "version": "3.12.5"
  },
  "otter": {
   "OK_FORMAT": true,
   "tests": {
    "Q1": {
     "name": "Q1",
     "points": 1,
     "suites": [
      {
       "cases": [
        {
         "code": ">>> assert python_version[0].startswith('Python 3.12')\n",
         "hidden": false,
         "locked": false
        }
       ],
       "scored": true,
       "setup": "",
       "teardown": "",
       "type": "doctest"
      }
     ]
    },
    "Q10": {
     "name": "Q10",
     "points": 1,
     "suites": [
      {
       "cases": [
        {
         "code": ">>> import math\n>>> r1, r2 = quadratic_formula(1, 4, 3)\n>>> assert math.isclose(r1, -1.0) and math.isclose(r2, -3.0)\n>>> r1, r2 = quadratic_formula(2, 3, -4)\n>>> assert math.isclose(r1, 0.8507810593582121) and math.isclose(r2, -2.350781059358212)\n>>> r1, r2 = quadratic_formula(4, 10, 5)\n>>> assert math.isclose(r1, -0.6909830056250525) and math.isclose(r2, -1.8090169943749475)\n",
         "hidden": false,
         "locked": false
        }
       ],
       "scored": true,
       "setup": "",
       "teardown": "",
       "type": "doctest"
      }
     ]
    },
    "Q11": {
     "name": "Q11",
     "points": 1,
     "suites": [
      {
       "cases": [
        {
         "code": ">>> assert not xor(True, True)\n>>> assert not xor(False, False)\n>>> assert xor(True, False)\n>>> assert xor(False, True)\n",
         "hidden": false,
         "locked": false
        }
       ],
       "scored": true,
       "setup": "",
       "teardown": "",
       "type": "doctest"
      }
     ]
    },
    "Q12": {
     "name": "Q12",
     "points": 1,
     "suites": [
      {
       "cases": [
        {
         "code": ">>> assert time_converter(0) == (0, 0, 0)\n>>> assert time_converter(10) == (0, 0, 10)\n>>> assert time_converter(100) == (0, 1, 40)\n>>> assert time_converter(300) == (0, 5, 0)\n>>> assert time_converter(5000) == (1, 23, 20)\n>>> assert time_converter(10000) == (2, 46, 40)\n",
         "hidden": false,
         "locked": false
        }
       ],
       "scored": true,
       "setup": "",
       "teardown": "",
       "type": "doctest"
      }
     ]
    },
    "Q2": {
     "name": "Q2",
     "points": 1,
     "suites": [
      {
       "cases": [
        {
         "code": ">>> import platform\n>>> if platform.system() == 'Darwin':\n...     assert executable.endswith('/bin/python3.12') and 'local' not in executable\n... elif platform.system() == 'Windows':\n...     assert executable.endswith('\\\\Scripts\\\\python.exe') and 'AppData' not in executable\n... elif platform.system() == 'Linux':\n...     assert executable.endswith('/bin/python') and (not executable.startswith('/usr'))\n... else:\n...     print('Unknown Operating System')\n",
         "hidden": false,
         "locked": false
        }
       ],
       "scored": true,
       "setup": "",
       "teardown": "",
       "type": "doctest"
      }
     ]
    },
    "Q3": {
     "name": "Q3",
     "points": 1,
     "suites": [
      {
       "cases": [
        {
         "code": ">>> assert matplotlib_version == '3.9.2'\n>>> assert 'plt' in globals()\n",
         "hidden": false,
         "locked": false
        }
       ],
       "scored": true,
       "setup": "",
       "teardown": "",
       "type": "doctest"
      }
     ]
    },
    "Q4": {
     "name": "Q4",
     "points": 1,
     "suites": [
      {
       "cases": [
        {
         "code": ">>> assert info_return == 'CS368 PA1'\n",
         "hidden": false,
         "locked": false
        }
       ],
       "scored": true,
       "setup": "",
       "teardown": "",
       "type": "doctest"
      }
     ]
    },
    "Q5": {
     "name": "Q5",
     "points": 1,
     "suites": [
      {
       "cases": [
        {
         "code": ">>> assert info_return2 == 'CS368 PA1'\n",
         "hidden": false,
         "locked": false
        }
       ],
       "scored": true,
       "setup": "",
       "teardown": "",
       "type": "doctest"
      }
     ]
    },
    "Q6": {
     "name": "Q6",
     "points": 1,
     "suites": [
      {
       "cases": [
        {
         "code": ">>> assert q6_type == str\n",
         "hidden": false,
         "locked": false
        }
       ],
       "scored": true,
       "setup": "",
       "teardown": "",
       "type": "doctest"
      }
     ]
    },
    "Q7": {
     "name": "Q7",
     "points": 1,
     "suites": [
      {
       "cases": [
        {
         "code": ">>> assert str_mro == [str, object]\n",
         "hidden": false,
         "locked": false
        }
       ],
       "scored": true,
       "setup": "",
       "teardown": "",
       "type": "doctest"
      }
     ]
    },
    "Q8": {
     "name": "Q8",
     "points": 1,
     "suites": [
      {
       "cases": [
        {
         "code": ">>> assert format30 == '3.680000000000000159872115546023'\n",
         "hidden": false,
         "locked": false
        }
       ],
       "scored": true,
       "setup": "",
       "teardown": "",
       "type": "doctest"
      }
     ]
    },
    "Q9": {
     "name": "Q9",
     "points": 1,
     "suites": [
      {
       "cases": [
        {
         "code": ">>> assert not x_y_comparison_result\n",
         "hidden": false,
         "locked": false
        }
       ],
       "scored": true,
       "setup": "",
       "teardown": "",
       "type": "doctest"
      }
     ]
    }
   }
  }
 },
 "nbformat": 4,
 "nbformat_minor": 5
}
