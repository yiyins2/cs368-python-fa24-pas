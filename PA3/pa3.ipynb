{
 "cells": [
  {
   "cell_type": "code",
   "execution_count": null,
   "id": "9649c287",
   "metadata": {
    "deletable": false,
    "editable": false
   },
   "outputs": [],
   "source": [
    "# Initialize Otter\n",
    "import otter\n",
    "grader = otter.Notebook(\"pa3.ipynb\")"
   ]
  },
  {
   "cell_type": "code",
   "execution_count": null,
   "id": "9a1a38e9-2c10-441d-9b17-855ffa3ad70c",
   "metadata": {},
   "outputs": [],
   "source": [
    "import random"
   ]
  },
  {
   "cell_type": "markdown",
   "id": "b58e968e-ba9f-481d-beaa-2b8a6bf6026b",
   "metadata": {},
   "source": [
    "# Programming Assignment 3 Ecosystem Simulation\n",
    "\n",
    "In this assignment, you’ll build an ecosystem simulation using Object-Oriented Programming (OOP) principles. The simulation will use inheritance to model plants and animals—herbivores, carnivores, and omnivores. You will define interactions, including special methods, between organisms of the same type and different types, such as growing, hunting, eating, and reproducing."
   ]
  },
  {
   "cell_type": "markdown",
   "id": "07c95990-7216-4aab-8faa-b621722f9ab1",
   "metadata": {
    "deletable": false,
    "editable": false
   },
   "source": [
    "## Section 1: The `Organism` Base Class\n",
    "The `Organism` class is a base class representing any living entity in the ecosystem. It defines common attributes and behaviors that all plants and animals will inherit. Each organism has a name, a species and a health attribute, along with methods for interacting with the environment, such as checking if the organism is alive.\n",
    "\n",
    "#### Attributes:\n",
    "**Note**: Make sure to adapt the following names into private or protected attributes.\n",
    "* `name`: The **private** attribute representing the name of the organism.\n",
    "* `species`: The **private** attribute representing the species of the organism.\n",
    "* `health`: The **protected** attribute representing the health of the organism, initialized to a default value of 100 if not provided.\n",
    "\n",
    "#### Methods:\n",
    "\n",
    "**Note:** `...` underneath are placeholders for parameters, please fill it yourself according to the examples underneath. \n",
    "\n",
    "1. `__init__(...)`:\n",
    "    * Initializes the `Organism` object with a name (required), a species (required) and a health value (optional, default 100).\n",
    "2. `get_name(...)`:\n",
    "    * Returns the name of the organism.\n",
    "3. `get_species(...)`:\n",
    "    * Returns the species of the organism.\n",
    "4. `get_health(...)`:\n",
    "    * Returns the health of the organism.\n",
    "5. `set_health(...)`:\n",
    "    * Updates the organism's health to a new health. If the organism is already dead (i.e., health is 0 or less), it raises a `ValueError` with the message `\"Cannot update health for {organism_name}, organism is dead.\"`, where `{organism_name}` is the organism's name.\n",
    "6. `is_alive(...)`:\n",
    "    * Returns True if the organism's health is greater than 0; otherwise, returns False."
   ]
  },
  {
   "cell_type": "code",
   "execution_count": null,
   "id": "2b527769-7382-49bd-b355-955be69368db",
   "metadata": {
    "tags": []
   },
   "outputs": [],
   "source": [
    "..."
   ]
  },
  {
   "cell_type": "code",
   "execution_count": null,
   "id": "6a136c00-1562-44c2-909f-ce398d3c6755",
   "metadata": {
    "tags": []
   },
   "outputs": [],
   "source": [
    "# Example\n",
    "organism = Organism(name=\"Oak1\", species=\"Oak Tree\", health=80)\n",
    "\n",
    "# Test attributes' initialization\n",
    "print(organism.get_name())    # Expected: \"Oak1\"\n",
    "print(organism.get_species()) # Expected: \"Oak Tree\"\n",
    "print(organism.get_health())  # Expected: 80\n",
    "print(organism.is_alive())    # Expected: True\n",
    "\n",
    "# Test updating health\n",
    "organism.set_health(50)\n",
    "print(organism.get_health())  # Expected: 50"
   ]
  },
  {
   "cell_type": "code",
   "execution_count": null,
   "id": "b027cd3f",
   "metadata": {
    "deletable": false,
    "editable": false
   },
   "outputs": [],
   "source": [
    "grader.check(\"S1\")"
   ]
  },
  {
   "cell_type": "markdown",
   "id": "7c549149-7a93-4027-b4fe-2f6090555f27",
   "metadata": {
    "deletable": false,
    "editable": false
   },
   "source": [
    "## Section 2: The `Plant` Class\n",
    "The `Plant` class represents a plant in the ecosystem that inherits the `Organism` class. It introduces a private `growth_rate` attribute, which determines how much the plant's health increases over time. The class includes methods for accessing the plant's growth rate, as well as simulating plant growth.\n",
    "\n",
    "#### Attributes:\n",
    "* Inherits all attributes from the `Organism` class.\n",
    "* `growth_rate`: The **private** attribute representing the rate at which the plant grows, initialized to a default value of 5 if not provided.\n",
    "\n",
    "#### Methods:\n",
    "1. `__init__(...)`:\n",
    "    * Initializes the `Plant` object with a name (required), a species (required), health (optional, default 100), and growth rate (optional, default 5).\n",
    "    * **Note**: Remember **NOT** to recreate attributes that are already present in the super class. \n",
    "2. `get_growth_rate(...)`:\n",
    "    * Returns the plant’s growth rate.\n",
    "4. `grow(...)`:\n",
    "    * Increases the plant’s health by its growth rate. This simulates the plant growing over time.\n",
    "    * **Note:** Please use the `set_health(...)` method from the `Organism` class to update the plant’s health.\n",
    "6. `__str__(...)`:\n",
    "    * Returns a user-friendly string in the form of `N (species: S, health: H, growth rate: G)`, where `N` is the plant's name, `S` the species, `H` the health, and `G` the growth rate.\n",
    "7. `__repr__(...)`:\n",
    "    * Returns a detailed string for debugging in the form of `Plant(name=N, species=S, health=H, growth_rate=G)`.\n",
    "8. `__eq__(...)`:\n",
    "    * Compares two plants for equality based on their name, species, health, and growth rate. Returns True if all are equal, otherwise returns False."
   ]
  },
  {
   "cell_type": "code",
   "execution_count": null,
   "id": "d98de94f-3ef6-4d48-8bea-b072b7996159",
   "metadata": {
    "tags": []
   },
   "outputs": [],
   "source": [
    "..."
   ]
  },
  {
   "cell_type": "code",
   "execution_count": null,
   "id": "7ae9c8ff-4e09-4be5-aed5-5e20f42f573c",
   "metadata": {
    "tags": []
   },
   "outputs": [],
   "source": [
    "# Example\n",
    "plant = Plant(name=\"Oak1\", species=\"Oak Tree\", health=80, growth_rate=10)\n",
    "\n",
    "# Test attributes' initialization\n",
    "print(plant.get_name())        # Expected: \"Oak1\"\n",
    "print(plant.get_species())     # Expected: \"Oak Tree\"\n",
    "print(plant.get_health())      # Expected: 80\n",
    "print(plant.get_growth_rate()) # Expected: 10\n",
    "\n",
    "# Test grow method\n",
    "plant.grow()\n",
    "print(plant.get_health())      # Expected: 90 (80 + 10)\n",
    "\n",
    "# Test string representation\n",
    "print(plant)                   # Expected: \"Oak1 (species: Oak Tree, health: 90, growth rate: 10)\"\n",
    "print(repr(plant))             # Expected: \"Plant(name=Oak1, species=Oak Tree, health=90, growth_rate=10)\"\n",
    "\n",
    "# Test __eq__()\n",
    "plant2 = Plant(name=\"Oak2\", species=\"Oak Tree\", health=80, growth_rate=5)\n",
    "print(plant == plant2)        # Expected: False"
   ]
  },
  {
   "cell_type": "code",
   "execution_count": null,
   "id": "ae111876",
   "metadata": {
    "deletable": false,
    "editable": false
   },
   "outputs": [],
   "source": [
    "grader.check(\"S2\")"
   ]
  },
  {
   "cell_type": "markdown",
   "id": "82c9903e-b376-4c5c-9431-38a665c221a3",
   "metadata": {
    "deletable": false,
    "editable": false
   },
   "source": [
    "## Section 3: The `Animal` Class\n",
    "The `Animal` class represents animals in the ecosystem and inherits the `Organism` class. It introduces a private `aging_rate` attribute, which determines how much an animal’s health decreases over time. The class includes methods to manage aging and represent the animal’s status.\n",
    "\n",
    "#### Attributes:\n",
    "* Inherits all attributes from the `Organism` class.\n",
    "* `aging_rate`: The **private** attribute representing the rate at which the animal ages, initialized to a default value of 1 if not provided.\n",
    "\n",
    "#### Methods:\n",
    "1. `__init__(...)`:\n",
    "    * Initializes the `Animal` object with a name (required), a species (required), health (optional, default 100), and aging rate (optional, default 1).\n",
    "    * **Note**: Remember **NOT** to recreate attributes that are already present in the super class. \n",
    "2. `get_aging_rate(...)`:\n",
    "    * Returns the animal’s aging rate.\n",
    "4. `age(...)`:\n",
    "    * Decreases the animal’s health by its aging rate. This simulates the animal aging over time.\n",
    "    * **Note:** Please use the `set_health(...)` method from the `Organism` class to update the animal’s health. \n",
    "5. `__str__(...)`:\n",
    "    * Returns a user-friendly string in the form of `N (species: S, health: H, aging rate: G)`, where `N` is the animal's name, `S` the species, `H` the health, and `G` the aging rate.\n",
    "7. `__repr__(...)`:\n",
    "    * Returns a detailed string for debugging in the form of `Animal(name=N, species=S, health=H, aging_rate=G)`."
   ]
  },
  {
   "cell_type": "code",
   "execution_count": null,
   "id": "d2d9e3dc-e977-46d5-9065-54147f98fd3e",
   "metadata": {
    "tags": []
   },
   "outputs": [],
   "source": [
    "..."
   ]
  },
  {
   "cell_type": "code",
   "execution_count": null,
   "id": "efc4530c-4fbc-4521-a396-43af8e9dda8a",
   "metadata": {
    "tags": []
   },
   "outputs": [],
   "source": [
    "# Example\n",
    "animal = Animal(name=\"Luna\", species=\"Cat\", health=100, aging_rate=5)\n",
    "\n",
    "# Test attributes' initialization\n",
    "print(animal.get_name())        # Expected: \"Luna\"\n",
    "print(animal.get_species())     # Expected: \"Cat\"\n",
    "print(animal.get_health())      # Expected: 100\n",
    "print(animal.get_aging_rate())  # Expected: 5\n",
    "\n",
    "# Test age method\n",
    "animal.age()\n",
    "print(animal.get_health())      # Expected: 95 (100 - 5)\n",
    "\n",
    "# Test string representation\n",
    "print(animal)                   # Expected: \"Luna (species: Cat, health: 95, aging rate: 5)\"\n",
    "print(repr(animal))             # Expected: \"Animal(name=Luna, species=Cat, health=95, aging_rate=5)"
   ]
  },
  {
   "cell_type": "code",
   "execution_count": null,
   "id": "9f51b545",
   "metadata": {
    "deletable": false,
    "editable": false
   },
   "outputs": [],
   "source": [
    "grader.check(\"S3\")"
   ]
  },
  {
   "cell_type": "markdown",
   "id": "8ef6bfa2-51e2-4887-98fc-28b9cc267274",
   "metadata": {
    "deletable": false,
    "editable": false
   },
   "source": [
    "## Section 4: The `Herbivore` Class\n",
    "The `Herbivore` class represents animals that eat plants in the ecosystem. It inherits from the `Animal` class and introduces the behavior of eating plants to increase its health.\n",
    "\n",
    "#### Attributes:\n",
    "* Inherits all attributes from the `Animal` class, including `name`, `species`, `health`, and `aging_rate`.\n",
    "* `meal_size`: The **private** attribute representing how much health the herbivore gains and how much health the plant loses per \"meal\", initialized to a default value of 20.\n",
    "\n",
    "#### Methods:\n",
    "1. `__init__(...)`:\n",
    "    * Initializes a `Herbivore` object with a name, species, health (optional, default 100), aging rate (optional, default 1), and meal size (optional, default 20).\n",
    "    * **Note**: Remember **NOT** to recreate attributes that are already present in the super class. \n",
    "2. `get_meal_size(...)`\n",
    "    * Returns the current meal size\n",
    "3. `set_meal_size(...)`:\n",
    "    * Updates the herbivore’s meal size to a new value.\n",
    "4. `eat_plant(self, plant)`:\n",
    "    * If the plant is dead (i.e., health ≤ 0), the method returns, and no action is taken.\n",
    "    * If the plant is alive:\n",
    "        * The herbivore gains health equal to the meal size, and the plant loses health by that much.\n",
    "        * If the plant's health is less than the meal size, the herbivore's health increase by the amount of the plant's remaining health, and set the plant's health to 0."
   ]
  },
  {
   "cell_type": "code",
   "execution_count": null,
   "id": "c0806845-c8dc-481e-b7e4-74e230802581",
   "metadata": {
    "tags": []
   },
   "outputs": [],
   "source": [
    "..."
   ]
  },
  {
   "cell_type": "code",
   "execution_count": null,
   "id": "ef928e47-0da6-4cdf-9794-41c0e31621f9",
   "metadata": {
    "tags": []
   },
   "outputs": [],
   "source": [
    "# Example\n",
    "herbivore = Herbivore(name=\"Deer1\", species=\"Deer\", health=100, aging_rate=2, meal_size=10)\n",
    "plant = Plant(name=\"Grass1\", species=\"Grass\", health=50, growth_rate=5)\n",
    "\n",
    "# Test attributes' initialization\n",
    "print(herbivore.get_name())        # Expected: \"Deer1\"\n",
    "print(herbivore.get_species())     # Expected: \"Deer\"\n",
    "print(herbivore.get_health())      # Expected: 100\n",
    "print(plant.get_health())          # Expected: 50\n",
    "\n",
    "# Test eating a plant with sufficient health\n",
    "herbivore.eat_plant(plant)         \n",
    "print(herbivore.get_health())      # Expected: 110 (100 + 10)\n",
    "print(plant.get_health())          # Expected: 40 (50 - 10)\n",
    "\n",
    "# Test eating the plant with less than meal size health\n",
    "plant.set_health(5)                # Plant now has less than the meal size\n",
    "herbivore.eat_plant(plant)      \n",
    "print(herbivore.get_health())      # Expected: 115 (110 + 5)\n",
    "print(plant.get_health())          # Expected: 0\n",
    "\n",
    "# Test attempting to eat a dead plant\n",
    "herbivore.eat_plant(plant)     \n",
    "print(herbivore.get_health())      # Expected: 115 (no change)"
   ]
  },
  {
   "cell_type": "code",
   "execution_count": null,
   "id": "792dc630",
   "metadata": {
    "deletable": false,
    "editable": false
   },
   "outputs": [],
   "source": [
    "grader.check(\"S4\")"
   ]
  },
  {
   "cell_type": "markdown",
   "id": "551811dd-dabb-4853-be26-8f5ba048f31f",
   "metadata": {},
   "source": [
    "## Section 5: The `Carnivore` Class\n",
    "#### Attributes:\n",
    "* Inherits all attributes from the Animal class, including name, species, health, and aging_rate.\n",
    "* `success_rate`: The **private** attribute representing the probability (between 0 and 1) of a successful hunt, initialized to a default value of 0.5.\n",
    "\n",
    "#### Methods:\n",
    "1. `__init__(...):`\n",
    "    * Initializes a `Carnivore` object with a name, species, health (optional, default 100), aging rate (optional, default 1), and success rate (optional, default 0.5).\n",
    "    * **Note**: Remember **NOT** to recreate attributes that are already present in the super class. \n",
    "2. `get_success_rate(...)`:\n",
    "    * Returns the current success rate of the carnivore.\n",
    "3. `set_success_rate(...)`:\n",
    "    * Updates the carnivore’s success rate to a new value.\n",
    "4. `hunt(self, prey)`:\n",
    "    * The success of the hunt is determined by the carnivore’s success_rate:\n",
    "    * If the hunt is successful, set the prey’s health to 0 (i.e., the prey dies), and the carnivore gains all the prey’s health.\n",
    "        * Hint: Code to determine if a hunt is successful:\n",
    "          ```python\n",
    "          import random\n",
    "          if random.random() < success_rate: # random.random() returns a random value between 0 to 1. \n",
    "              # success\n",
    "          ```\n",
    "    * If the hunt fails, no health is changed for either the carnivore or the prey.\n",
    "    * If the prey is already dead, the hunt fails, and no further action is taken."
   ]
  },
  {
   "cell_type": "code",
   "execution_count": null,
   "id": "3ecfb2b5-f83d-41d7-9f82-af0e6f66c5e6",
   "metadata": {
    "tags": []
   },
   "outputs": [],
   "source": [
    "..."
   ]
  },
  {
   "cell_type": "code",
   "execution_count": null,
   "id": "e132064c-1cee-4016-91bb-71f8902f9018",
   "metadata": {
    "tags": []
   },
   "outputs": [],
   "source": [
    "# Example\n",
    "carnivore = Carnivore(name=\"Lion1\", species=\"Lion\", health=100, aging_rate=2, success_rate=1)\n",
    "prey = Herbivore(name=\"Zebra1\", species=\"Zebra\", health=80, aging_rate=2, meal_size=3)\n",
    "\n",
    "# Test attributes' initialization\n",
    "print(carnivore.get_name())        # Expected: \"Lion1\"\n",
    "print(carnivore.get_species())     # Expected: \"Lion\"\n",
    "print(carnivore.get_health())      # Expected: 100\n",
    "print(prey.get_health())           # Expected: 80\n",
    "\n",
    "# Test hunt method\n",
    "carnivore.hunt(prey)\n",
    "print(carnivore.get_health())      # Expected: 180 (100 + 80)\n",
    "print(prey.get_health())           # Expected: 0 (prey is dead)\n",
    "\n",
    "# Test failed hunt\n",
    "carnivore_0_success = Carnivore(name=\"Lion0\", species=\"Lion\", health=100, aging_rate=2, success_rate=0)\n",
    "carnivore_0_success.hunt(prey) \n",
    "print(carnivore_0_success.get_health())      # Expected: 100"
   ]
  },
  {
   "cell_type": "code",
   "execution_count": null,
   "id": "447083d5",
   "metadata": {
    "deletable": false,
    "editable": false
   },
   "outputs": [],
   "source": [
    "grader.check(\"S5\")"
   ]
  },
  {
   "cell_type": "markdown",
   "id": "1ef52d5e-0f5f-4792-9975-2ac0ac51e3ac",
   "metadata": {},
   "source": [
    "## Section 6: The `Omnivore` Class\n",
    "## The `Omnivore` Class\n",
    "The `Omnivore` class represents animals that can eat both plants and other animals. It inherits from both the `Herbivore` and `Carnivore` classes, giving it the ability to both hunt other animals and eat plants. \n",
    "\n",
    "#### Attributes:\n",
    "* Inherits all attributes from both the Herbivore and Carnivore classes, including name, species, health, aging_rate, and success_rate for hunting.\n",
    "\n",
    "#### Methods:\n",
    "1. `__init__(...)`:\n",
    "    * Initializes an Omnivore object with a name, species, health (optional, default 100), aging rate (optional, default 1), meal size (optional, default 20), and success rate for hunting (optional, default 0.5).\n",
    "    * **Note**: Remember **NOT** to recreate attributes that are already present in the super classes. "
   ]
  },
  {
   "cell_type": "code",
   "execution_count": null,
   "id": "a205d3b3-488a-48b1-b311-57147393871d",
   "metadata": {
    "tags": []
   },
   "outputs": [],
   "source": [
    "..."
   ]
  },
  {
   "cell_type": "code",
   "execution_count": null,
   "id": "a8fed63e-b713-4d70-8753-b1e701a05359",
   "metadata": {
    "tags": []
   },
   "outputs": [],
   "source": [
    "# Set the seed for random to ensure reproducibility\n",
    "random.seed(50)\n",
    "\n",
    "omnivore = Omnivore(\"Bear\", \"Bear\", health=100, aging_rate=2, meal_size=10, success_rate=0.8)\n",
    "plant = Plant(\"Berries\", \"Berry\", 50, 5)\n",
    "prey = Herbivore(\"SmallFish\", \"Fish\", 40, 3)\n",
    "\n",
    "# Test attributes' initialization\n",
    "print(omnivore.get_name())        # Expected: \"Bear\"\n",
    "print(omnivore.get_species())     # Expected: \"Bear\"\n",
    "print(omnivore.get_health())      # Expected: 100\n",
    "\n",
    "# Test eating plants\n",
    "omnivore.eat_plant(plant)         \n",
    "print(omnivore.get_health())      # Expected: 110 (100 + 10)\n",
    "print(plant.get_health())         # Expected: 40 (50 - 10)\n",
    "\n",
    "# Test hunting prey\n",
    "omnivore.hunt(prey)               \n",
    "print(omnivore.get_health())      # Expected: 150 (110 + 40)\n",
    "print(prey.get_health())          # Expected: 0 (prey is dead)"
   ]
  },
  {
   "cell_type": "code",
   "execution_count": null,
   "id": "9ddf46b5",
   "metadata": {
    "deletable": false,
    "editable": false
   },
   "outputs": [],
   "source": [
    "grader.check(\"S6\")"
   ]
  },
  {
   "cell_type": "markdown",
   "id": "6e933aae-437d-4591-9c64-81e7a548f9d6",
   "metadata": {
    "deletable": false,
    "editable": false
   },
   "source": [
    "## Section 7: Add Reproduction Methods\n",
    "Now, let's add an extra functionality of reproduction in the above classes. You will implement the `reproduce_helper` method in the `Organism` class, which handles the type checks and offspring health calculation. This helper method will be invoked in the `reproduce` methods of both the `Plant` and `Animal`'s classes.\n",
    "\n",
    "You can go back to the previous sections and append the new methods to the class definitions. \n",
    "\n",
    "* Implement `reproduce_helper(self, other)` in `Organism` Class. \n",
    "    1. The method checks if the types of `self` and `other` are same. If not, raise a `TypeError` with the message of `\"Can only reproduce with another organism of the same type.\"`\n",
    "    2. checks if the species of `self` and `other` are same. If not, raise a `TypeError` with the message of `\"Can only reproduce with another organism of the same species.\"`\n",
    "    3. If both conditions are satisfied, the method returns the offspring’s health calculated as `(self's health + other's health) / 6`. \n",
    "\n",
    "* Implement `reproduce(self, other, new_name)` in `Plant`, `Herbivore`, `Carnivore`, and `Omnivore` Class.\n",
    "    1. Use the `reproduce_helper` method from the `Organism` class to check the types and species, and obtain the offspring’s health.\n",
    "    2. Returns a new offspring object of its own class with\n",
    "        * the given `new_name`,\n",
    "        * the species of the parents,\n",
    "        * the health given by `reporduce_helper`,\n",
    "        * the average of its parents' `growth_rate`, `aging_rate`, `meal_size`, or `success_rate`. "
   ]
  },
  {
   "cell_type": "code",
   "execution_count": null,
   "id": "213c664d-cae5-4b23-8567-2c48f25fc2a6",
   "metadata": {
    "tags": []
   },
   "outputs": [],
   "source": [
    "# Example for Plant reproduction\n",
    "plant1 = Plant(\"OakTree1\", \"Tree\", 120, 5)\n",
    "plant2 = Plant(\"OakTree2\", \"Tree\", 90, 7)\n",
    "offspring_plant = plant1.reproduce(plant2, \"OakTree3\")\n",
    "print(offspring_plant.get_name())        # Expected: \"OakTree3\"\n",
    "print(offspring_plant.get_species())     # Expected: \"Tree\"\n",
    "print(offspring_plant.get_health())      # Expected: 35 (120 + 80) / 6\n",
    "print(offspring_plant.get_growth_rate()) # Expected: 6 (average of 5 and 7)"
   ]
  },
  {
   "cell_type": "code",
   "execution_count": null,
   "id": "93155796-4b87-4ccc-b6f1-ce55bc407bd5",
   "metadata": {
    "tags": []
   },
   "outputs": [],
   "source": [
    "# Example for Herbivore reproduction\n",
    "herbivore1 = Herbivore(\"Deer1\", \"Deer\", 90, 2, 10)\n",
    "herbivore2 = Herbivore(\"Deer2\", \"Deer\", 60, 3, 15)\n",
    "offspring_herbivore = herbivore1.reproduce(herbivore2, \"Deer3\")\n",
    "print(offspring_herbivore.get_name())        # Expected: \"Deer3\"\n",
    "print(offspring_herbivore.get_species())     # Expected: \"Deer\"\n",
    "print(offspring_herbivore.get_health())      # Expected: 25 (90 + 60) / 6\n",
    "print(offspring_herbivore.get_meal_size())   # Expected: 12.5 (average of 10 and 15)"
   ]
  },
  {
   "cell_type": "code",
   "execution_count": null,
   "id": "b49c6ed2-57fd-4125-8301-01c2c59aa154",
   "metadata": {
    "tags": []
   },
   "outputs": [],
   "source": [
    "# Example for Carnivore Reproduction\n",
    "carnivore1 = Carnivore(\"Lion1\", \"Lion\", 100, 2, 0.8)\n",
    "carnivore2 = Carnivore(\"Lion2\", \"Lion\", 80, 3, 0.9)\n",
    "offspring_carnivore = carnivore1.reproduce(carnivore2, \"Lion3\")\n",
    "print(offspring_carnivore.get_name())        # Expected: \"Lion3\"\n",
    "print(offspring_carnivore.get_species())     # Expected: \"Lion\"\n",
    "print(offspring_carnivore.get_health())      # Expected: 30 (100 + 80) / 6\n",
    "print(offspring_carnivore.get_success_rate())# Expected: 0.85 (average of 0.8 and 0.9)"
   ]
  },
  {
   "cell_type": "code",
   "execution_count": null,
   "id": "6f5fe683-1884-4a74-911a-a227072a2cd1",
   "metadata": {
    "tags": []
   },
   "outputs": [],
   "source": [
    "# Example for Omnivore Reproduction\n",
    "omnivore1 = Omnivore(\"Bear1\", \"Bear\", 100, 2, 10, 0.75)\n",
    "omnivore2 = Omnivore(\"Bear2\", \"Bear\", 80, 3, 15, 0.8)\n",
    "offspring_omnivore = omnivore1.reproduce(omnivore2, \"Bear3\")\n",
    "print(offspring_omnivore.get_name())         # Expected: \"Bear3\"\n",
    "print(offspring_omnivore.get_species())      # Expected: \"Mammal\"\n",
    "print(offspring_omnivore.get_health())       # Expected: 30 (100 + 80) / 6\n",
    "print(offspring_omnivore.get_meal_size())    # Expected: 12.5 (average of 10 and 15)\n",
    "print(offspring_omnivore.get_success_rate()) # Expected: 0.775 (average of 0.75 and 0.8)"
   ]
  },
  {
   "cell_type": "code",
   "execution_count": null,
   "id": "85fd2106",
   "metadata": {
    "deletable": false,
    "editable": false
   },
   "outputs": [],
   "source": [
    "grader.check(\"S7\")"
   ]
  },
  {
   "cell_type": "markdown",
   "id": "c344041a-9914-4485-aff1-eaaad2edab4d",
   "metadata": {
    "deletable": false,
    "editable": false
   },
   "source": [
    "## Section 8: The `Ecosystem` Class\n",
    "The `Ecosystem` class simulates an environment where plants grow, animals eat or hunt, and organisms reproduce. Organisms are grouped into separate lists based on their type, and actions are taken in a randomized order during each cycle of the simulation.\n",
    "\n",
    "#### Attributes:\n",
    "* `plants`: A list that holds all the plants in the ecosystem.\n",
    "* `herbivores`: A list that holds all the herbivores in the ecosystem.\n",
    "* `carnivores`: A list that holds all the carnivores in the ecosystem.\n",
    "* `omnivores`: A list that holds all the omnivores in the ecosystem.\n",
    "\n",
    "#### Methods:\n",
    "1. `add_plant(self, plant)`:\n",
    "    * Adds a plant to the ecosystem by appending it to the plants list.\n",
    "2. `add_herbivore(self, herbivore)`:\n",
    "    * Adds a herbivore to the ecosystem by appending it to the herbivores list.\n",
    "3. `add_carnivore(self, carnivore)`:\n",
    "    * Adds a carnivore to the ecosystem by appending it to the carnivores list.\n",
    "4. `add_omnivore(self, omnivore)`:\n",
    "    * Adds an omnivore to the ecosystem by appending it to the omnivores list.\n",
    "5. `grow_plants(self)`:\n",
    "    * Simulates the growth of all plants in the ecosystem by calling the `grow()` method for each plant in the plants list.\n",
    "6. `remove_dead_organisms(self)`:\n",
    "    * Removes dead plants and animals from the ecosystem. Any organism that is no longer alive is removed from its respective list.\n",
    "7. `reproduce_organisms(self, animal_list)` **(already provided for you)**:\n",
    "    * Neighbors of the same species in the given `animal_list` will reproduce.\n",
    "    * The new offspring created from reproduction will be added to the respective list (`herbivores`, `carnivores`, or `omnivores`). \n",
    "8. `simulate(self)` **(already provided for you)**:\n",
    "    * Simulates one cycle of the ecosystem following the below steps:\n",
    "        1. Plant Growth: All plants grow by calling `grow_plants()`.\n",
    "        2. Animal Actions: All animals (`herbivores`, `carnivores`, and `omnivores`) are shuffled into a random order and take actions:\n",
    "            * Herbivores: Eat the first available plant in the `plants` list.\n",
    "            * Carnivores: Hunt the first available animal from the `herbivores` list. If none are available, hunt the first available animal from the `omnivores` list.\n",
    "            * Omnivores: Eat the first available plant in the `plants` list. If none are available, hunt the first available animal from the `herbivores` list.\n",
    "        3. Remove Dead Organisms: Dead organisms are removed by calling `remove_dead_organisms()`.\n",
    "        4. Animal Aging: All animals age.\n",
    "        5. Reproduction: Organisms reproduce by calling `reproduce_organisms()` given the shuffled animal list created in step 2.\n",
    "9. `print_organisms(self)`:\n",
    "    * Lists the current state of the ecosystem by printing all plants, herbivores, carnivores, and omnivores."
   ]
  },
  {
   "cell_type": "code",
   "execution_count": null,
   "id": "59771ed4-167e-407f-bb90-ea8df0abf530",
   "metadata": {
    "tags": []
   },
   "outputs": [],
   "source": [
    "class Ecosystem:\n",
    "    ...\n",
    "    \n",
    "    def reproduce_organisms(self, animal_list):\n",
    "        for i in range(len(animal_list) - 1):\n",
    "            parent1 = animal_list[i]\n",
    "            parent2 = animal_list[i + 1]\n",
    "\n",
    "            if type(parent1) == type(parent2) and parent1.get_species() == parent2.get_species():\n",
    "                new_name = f\"{parent1.get_name()}_{self.name_counter}\"\n",
    "                self.name_counter += 1\n",
    "                offspring = parent1.reproduce(parent2, new_name)\n",
    "                if type(offspring) == Plant:\n",
    "                    self.plants.append(offspring)\n",
    "                elif type(offspring) == Herbivore:\n",
    "                    self.herbivores.append(offspring)\n",
    "                elif type(offspring) == Carnivore:\n",
    "                    self.carnivores.append(offspring)\n",
    "                elif type(offspring) == Omnivore:\n",
    "                    self.omnivores.append(offspring)\n",
    "\n",
    "    def simulate(self):\n",
    "        # plants grow\n",
    "        self.grow_plants()\n",
    "        \n",
    "        # animals eat\n",
    "        all_animals = self.herbivores + self.carnivores + self.omnivores\n",
    "        random.shuffle(all_animals)\n",
    "\n",
    "        for animal in all_animals:\n",
    "            if animal.is_alive(): \n",
    "                if type(animal) == Herbivore:\n",
    "                    for plant in self.plants:\n",
    "                        if plant.is_alive():\n",
    "                            animal.eat_plant(plant)\n",
    "                            break \n",
    "    \n",
    "                elif type(animal) == Carnivore:\n",
    "                    for prey in self.herbivores + self.omnivores:\n",
    "                        if prey.is_alive():\n",
    "                            animal.hunt(prey)\n",
    "                            break\n",
    "    \n",
    "                elif type(animal) == Omnivore:\n",
    "                    for plant in self.plants:\n",
    "                        if plant.is_alive():\n",
    "                            animal.eat_plant(plant)\n",
    "                            break \n",
    "                    else:\n",
    "                        for prey in self.herbivores:\n",
    "                            if prey.is_alive():\n",
    "                                animal.hunt(prey)\n",
    "                                break  \n",
    "        # remove dead organisms\n",
    "        self.remove_dead_organisms()\n",
    "        \n",
    "        # animals age\n",
    "        all_animals = self.herbivores + self.carnivores + self.omnivores\n",
    "        for animal in all_animals:\n",
    "            animal.age()\n",
    "            \n",
    "        # remove dead organisms\n",
    "        self.remove_dead_organisms()\n",
    "        \n",
    "        # plants reproduce\n",
    "        all_plants = [x for x in self.plants]\n",
    "        random.shuffle(all_plants)\n",
    "        self.reproduce_organisms(all_plants)\n",
    "\n",
    "        # animals reproduce\n",
    "        all_animals = self.herbivores + self.carnivores + self.omnivores\n",
    "        random.shuffle(all_animals)\n",
    "        self.reproduce_organisms(all_animals)"
   ]
  },
  {
   "cell_type": "code",
   "execution_count": null,
   "id": "3388c4cd-bdd6-4b32-8d19-2b2fd4d056e9",
   "metadata": {
    "tags": []
   },
   "outputs": [],
   "source": [
    "# Example\n",
    "random.seed(51)\n",
    "ecosystem = Ecosystem()\n",
    "\n",
    "# Add plants, herbivores, carnivores, and omnivores to the ecosystem\n",
    "plant1 = Plant(\"OakTree\", \"Tree\", 50, 5)\n",
    "plant2 = Plant(\"Berries1\", \"Berry\", 30, 3)\n",
    "plant3 = Plant(\"Berries2\", \"Berry\", 30, 3)\n",
    "plant4 = Plant(\"Berries3\", \"Berry\", 30, 3)\n",
    "herbivore1 = Herbivore(\"Deer1\", \"Deer\", 100, 2, 10)\n",
    "herbivore2 = Herbivore(\"Deer2\", \"Deer\", 90, 3, 12)\n",
    "herbivore3 = Herbivore(\"Deer3\", \"Deer\", 90, 3, 12)\n",
    "carnivore = Carnivore(\"Lion\", \"Lion\", 100, 2, 0.75)\n",
    "omnivore = Omnivore(\"Bear\", \"Bear\", 90, 2, 10, 0.8)\n",
    "\n",
    "ecosystem.add_plant(plant1)\n",
    "ecosystem.add_plant(plant2)\n",
    "ecosystem.add_plant(plant3)\n",
    "ecosystem.add_plant(plant4)\n",
    "ecosystem.add_herbivore(herbivore1)\n",
    "ecosystem.add_herbivore(herbivore2)\n",
    "ecosystem.add_herbivore(herbivore3)\n",
    "ecosystem.add_carnivore(carnivore)\n",
    "ecosystem.add_omnivore(omnivore)\n",
    "\n",
    "# Print initial state\n",
    "print(\"Initial ecosystem state:\")\n",
    "ecosystem.print_organisms()\n",
    "\n",
    "# Expected:\n",
    "# \"\"\"\n",
    "# Initial ecosystem state:\n",
    "# Plants:\n",
    "# OakTree (species: Tree, health: 50, growth rate: 5)\n",
    "# Berries1 (species: Berry, health: 30, growth rate: 3)\n",
    "# Berries2 (species: Berry, health: 30, growth rate: 3)\n",
    "# Berries3 (species: Berry, health: 30, growth rate: 3)\n",
    "\n",
    "# Herbivores:\n",
    "# Deer1 (species: Deer, health: 100, aging rate: 2)\n",
    "# Deer2 (species: Deer, health: 90, aging rate: 3)\n",
    "# Deer3 (species: Deer, health: 90, aging rate: 3)\n",
    "\n",
    "# Carnivores:\n",
    "# Lion (species: Lion, health: 100, aging rate: 2)\n",
    "\n",
    "# Omnivores:\n",
    "# Bear (species: Bear, health: 90, aging rate: 2)\n",
    "# \"\"\"\n",
    "\n",
    "\n",
    "# Simulate one cycle\n",
    "ecosystem.simulate()\n",
    "\n",
    "# Print updated state after one cycle\n",
    "print(\"\\nEcosystem state after one cycle:\")\n",
    "ecosystem.print_organisms()\n",
    "\n",
    "# Expected:\n",
    "# \"\"\"\n",
    "# Ecosystem state after one cycle:\n",
    "# Plants:\n",
    "# OakTree (species: Tree, health: 11, growth rate: 5)\n",
    "# Berries1 (species: Berry, health: 33, growth rate: 3)\n",
    "# Berries2 (species: Berry, health: 33, growth rate: 3)\n",
    "# Berries3 (species: Berry, health: 33, growth rate: 3)\n",
    "\n",
    "# Herbivores:\n",
    "# Deer2 (species: Deer, health: 102, aging rate: 3)\n",
    "# Deer3 (species: Deer, health: 102, aging rate: 3)\n",
    "# Deer_0 (species: Deer, health: 17.0, aging rate: 2.5)\n",
    "# Deer_1 (species: Deer, health: 34.0, aging rate: 3.0)\n",
    "\n",
    "# Carnivores:\n",
    "# Lion (species: Lion, health: 210, aging rate: 2)\n",
    "\n",
    "# Omnivores:\n",
    "# Bear (species: Bear, health: 100, aging rate: 2)\n",
    "# \"\"\""
   ]
  },
  {
   "cell_type": "code",
   "execution_count": null,
   "id": "d1dcbead-c71c-4441-b531-cdf008eda8e8",
   "metadata": {
    "tags": []
   },
   "outputs": [],
   "source": [
    "# Change print_ecosystem to True to enable printing the ecosystem of the test cases during each cycle. \n",
    "print_ecosystem = False"
   ]
  },
  {
   "cell_type": "code",
   "execution_count": null,
   "id": "f82b4ae4",
   "metadata": {
    "deletable": false,
    "editable": false
   },
   "outputs": [],
   "source": [
    "grader.check(\"Q8\")"
   ]
  },
  {
   "cell_type": "markdown",
   "id": "c20c74e8-eff1-408d-8165-f7a525e6968f",
   "metadata": {},
   "source": [
    "In this project, you’ve learned how to simulate an ecosystem using object-oriented programming, inheritance, and randomized interactions. You can now take it further by adding features like dynamic growth and aging rates, flexible meal sizes, and refined hunting success rates to make the simulation more realistic. For a bigger challenge, consider creating a graphical user interface (GUI) to visualize the ecosystem in real-time. These enhancements will not only deepen your understanding but also turn your project into a showcase of your ability to design and implement complex, interactive systems."
   ]
  },
  {
   "cell_type": "code",
   "execution_count": null,
   "id": "536fb588-ea0e-4e98-8c57-6e0ad35c1a90",
   "metadata": {},
   "outputs": [],
   "source": []
  },
  {
   "cell_type": "markdown",
   "id": "71547948",
   "metadata": {
    "deletable": false,
    "editable": false
   },
   "source": [
    "## Submission\n",
    "\n",
    "Make sure you have run all cells in your notebook in order before running the cell below, so that all images/graphs appear in the output. The cell below will generate a zip file for you to submit. **Please save before exporting!**"
   ]
  },
  {
   "cell_type": "code",
   "execution_count": null,
   "id": "6d8758f9",
   "metadata": {
    "deletable": false,
    "editable": false
   },
   "outputs": [],
   "source": [
    "# Save your notebook first, then run this cell to export your submission.\n",
    "grader.export(pdf=False, run_tests=True)"
   ]
  },
  {
   "cell_type": "markdown",
   "id": "e516388b",
   "metadata": {},
   "source": [
    " "
   ]
  }
 ],
 "metadata": {
  "kernelspec": {
   "display_name": "Python 3 (ipykernel)",
   "language": "python",
   "name": "python3"
  },
  "language_info": {
   "codemirror_mode": {
    "name": "ipython",
    "version": 3
   },
   "file_extension": ".py",
   "mimetype": "text/x-python",
   "name": "python",
   "nbconvert_exporter": "python",
   "pygments_lexer": "ipython3",
   "version": "3.12.5"
  },
  "otter": {
   "OK_FORMAT": true,
   "tests": {
    "Q8": {
     "name": "Q8",
     "points": 1,
     "suites": [
      {
       "cases": [
        {
         "code": ">>> cycles = 5\n>>> random.seed(368)\n>>> ecosystem = Ecosystem()\n>>> for i in range(7):\n...     ecosystem.add_plant(Plant(f'Berry{i + 1}', 'Berry', random.randint(10, 20), random.randint(2, 5)))\n...     ecosystem.add_plant(Plant(f'Tree{i + 1}', 'Tree', random.randint(50, 55), random.randint(3, 5)))\n>>> for i in range(4):\n...     ecosystem.add_herbivore(Herbivore(f'Deer{i + 1}', 'Deer', random.randint(50, 90), random.randint(10, 15), random.randint(15, 22)))\n...     ecosystem.add_herbivore(Herbivore(f'Rabbit{i + 1}', 'Rabbit', random.randint(20, 33), random.randint(5, 10), random.randint(5, 10)))\n...     ecosystem.add_herbivore(Herbivore(f'Sheep{i + 1}', 'Sheep', random.randint(50, 70), random.randint(10, 15), random.randint(15, 20)))\n>>> for i in range(2):\n...     ecosystem.add_carnivore(Carnivore(f'Lion{i + 1}', 'Lion', random.randint(80, 120), random.randint(25, 30), random.uniform(0.6, 0.8)))\n>>> for i in range(2):\n...     ecosystem.add_omnivore(Omnivore(f'Bear{i + 1}', 'Bear', random.randint(60, 100), random.randint(15, 20), random.randint(12, 15), random.uniform(0.4, 0.6)))\n>>> for cycle in range(cycles):\n...     if print_ecosystem:\n...         print(f'\\n--- Cycle {cycle + 1} ---')\n...         ecosystem.print_organisms()\n...     ecosystem.simulate()\n...     for herbivore in ecosystem.herbivores:\n...         assert herbivore.get_health() >= 0, f'{herbivore.get_name()} has negative health!'\n...     for carnivore in ecosystem.carnivores:\n...         assert carnivore.get_health() >= 0, f'{carnivore.get_name()} has negative health!'\n...     for omnivore in ecosystem.omnivores:\n...         assert omnivore.get_health() >= 0, f'{omnivore.get_name()} has negative health!'\n...     for plant in ecosystem.plants:\n...         assert plant.get_health() >= 0, f'{plant.get_name()} has negative health!'\n...     assert all((plant.is_alive() for plant in ecosystem.plants)), 'There are dead plants remaining in the ecosystem!'\n...     assert all((herbivore.is_alive() for herbivore in ecosystem.herbivores)), 'There are dead herbivores remaining in the ecosystem!'\n...     assert all((carnivore.is_alive() for carnivore in ecosystem.carnivores)), 'There are dead carnivores remaining in the ecosystem!'\n...     assert all((omnivore.is_alive() for omnivore in ecosystem.omnivores)), 'There are dead omnivores remaining in the ecosystem!'\n>>> assert len(ecosystem.plants) == 17\n>>> assert len(ecosystem.herbivores) == 9\n>>> assert len(ecosystem.carnivores) == 5\n>>> assert len(ecosystem.omnivores) == 2\n>>> if print_ecosystem:\n...     print(f'\\n--- End ---')\n...     ecosystem.print_organisms()\n",
         "hidden": false,
         "locked": false
        }
       ],
       "scored": true,
       "setup": "",
       "teardown": "",
       "type": "doctest"
      }
     ]
    },
    "S1": {
     "name": "S1",
     "points": 1,
     "suites": [
      {
       "cases": [
        {
         "code": ">>> organism_private_test = Organism('Oak1', 'Oak Tree')\n>>> assert organism_private_test._Organism__name == 'Oak1'\n>>> assert organism_private_test._Organism__species == 'Oak Tree'\n>>> assert organism_private_test._health == 100\n>>> organism_zero_health = Organism('Rose1', 'Rose', 0)\n>>> assert organism_zero_health.get_name() == 'Rose1'\n>>> assert organism_zero_health.get_species() == 'Rose'\n>>> assert organism_zero_health.get_health() == 0\n>>> assert not organism_zero_health.is_alive()\n>>> try:\n...     organism_zero_health.set_health(50)\n... except ValueError as e:\n...     assert str(e) == 'Cannot update health for Rose1, organism is dead.'\n>>> organism_negative_health = Organism('Tiger1', 'Tiger', -10)\n>>> assert organism_negative_health.get_name() == 'Tiger1'\n>>> assert organism_negative_health.get_species() == 'Tiger'\n>>> assert organism_negative_health.get_health() == -10\n>>> assert not organism_negative_health.is_alive()\n>>> try:\n...     organism_negative_health.set_health(30)\n... except ValueError as e:\n...     assert str(e) == 'Cannot update health for Tiger1, organism is dead.'\n>>> organism_default_health = Organism('Spruce1', 'Spruce Tree')\n>>> assert organism_default_health.get_name() == 'Spruce1'\n>>> assert organism_default_health.get_species() == 'Spruce Tree'\n>>> assert organism_default_health.get_health() == 100\n>>> assert organism_default_health.is_alive()\n>>> organism_default_health.set_health(75)\n>>> assert organism_default_health.get_health() == 75\n",
         "hidden": false,
         "locked": false
        }
       ],
       "scored": true,
       "setup": "",
       "teardown": "",
       "type": "doctest"
      }
     ]
    },
    "S2": {
     "name": "S2",
     "points": 1,
     "suites": [
      {
       "cases": [
        {
         "code": ">>> plant1 = Plant('Oak', 'Tree', 80, 10)\n>>> plant2 = Plant('Oak', 'Tree', 80, 10)\n>>> plant3 = Plant('Pine', 'Tree', 80, 5)\n>>> plant4 = Plant('Oak', 'Tree', 100, 10)\n>>> plant5 = Plant('Oak', 'Tree', 100, 5)\n>>> plant6 = Plant('Oak', 'Flower', 100, 5)\n>>> assert plant1 == plant2\n>>> assert plant1 != plant3\n>>> assert plant1 != plant4\n>>> assert plant4 != plant5\n>>> assert plant5 != plant6\n>>> initial_health = plant1.get_health()\n>>> assert initial_health == 80\n>>> plant1.grow()\n>>> assert plant1.get_health() == initial_health + 10\n>>> dead_plant = Plant('DeadPlant', 'Flower', 0)\n>>> try:\n...     dead_plant.set_health(20)\n... except ValueError as e:\n...     assert str(e) == 'Cannot update health for DeadPlant, organism is dead.'\n>>> assert str(plant1) == 'Oak (species: Tree, health: 90, growth rate: 10)'\n>>> assert repr(plant1) == 'Plant(name=Oak, species=Tree, health=90, growth_rate=10)'\n",
         "hidden": false,
         "locked": false
        }
       ],
       "scored": true,
       "setup": "",
       "teardown": "",
       "type": "doctest"
      }
     ]
    },
    "S3": {
     "name": "S3",
     "points": 1,
     "suites": [
      {
       "cases": [
        {
         "code": ">>> animal1 = Animal('Tiger1', 'Tiger', 90, 3)\n>>> initial_health = animal1.get_health()\n>>> animal1.age()\n>>> assert animal1.get_health() == initial_health - 3\n>>> assert str(animal1) == 'Tiger1 (species: Tiger, health: 87, aging rate: 3)'\n>>> assert repr(animal1) == 'Animal(name=Tiger1, species=Tiger, health=87, aging_rate=3)'\n",
         "hidden": false,
         "locked": false
        }
       ],
       "scored": true,
       "setup": "",
       "teardown": "",
       "type": "doctest"
      }
     ]
    },
    "S4": {
     "name": "S4",
     "points": 1,
     "suites": [
      {
       "cases": [
        {
         "code": ">>> herbivore1 = Herbivore('Cow1', 'Cow', 90, 2, 10)\n>>> plant1 = Plant('Grass1', 'Grass', 25, 5)\n>>> initial_plant_health = plant1.get_health()\n>>> initial_herbivore_health = herbivore1.get_health()\n>>> herbivore1.eat_plant(plant1)\n>>> assert herbivore1.get_health() == initial_herbivore_health + 10\n>>> assert plant1.get_health() == initial_plant_health - 10\n>>> plant1.set_health(7)\n>>> initial_herbivore_health = herbivore1.get_health()\n>>> herbivore1.eat_plant(plant1)\n>>> assert herbivore1.get_health() == initial_herbivore_health + 7\n>>> assert plant1.get_health() == 0\n>>> initial_herbivore_health = herbivore1.get_health()\n>>> herbivore1.eat_plant(plant1)\n>>> assert herbivore1.get_health() == initial_herbivore_health\n>>> assert plant1.get_health() == 0\n",
         "hidden": false,
         "locked": false
        }
       ],
       "scored": true,
       "setup": "",
       "teardown": "",
       "type": "doctest"
      }
     ]
    },
    "S5": {
     "name": "S5",
     "points": 1,
     "suites": [
      {
       "cases": [
        {
         "code": ">>> random.seed(50)\n>>> carnivore1 = Carnivore('Tiger', 'Tiger', 100, 2, 0.8)\n>>> prey = Herbivore('Deer', 'Deer', 50, 3)\n>>> initial_carnivore_health = carnivore1.get_health()\n>>> initial_prey_health = prey.get_health()\n>>> carnivore1.hunt(prey)\n>>> assert prey.get_health() == 0\n>>> assert carnivore1.get_health() == initial_carnivore_health + initial_prey_health\n>>> carnivore2 = Carnivore('Lion', 'Lion', 100, 2, 0.2)\n>>> prey = Herbivore('Deer', 'Deer', 50, 3)\n>>> carnivore2.hunt(prey)\n>>> assert prey.get_health() == 50\n>>> assert carnivore2.get_health() == 100\n>>> dead_prey = Herbivore('Rabbit', 'Rabbit', 0, 3)\n>>> carnivore1.hunt(dead_prey)\n>>> assert dead_prey.get_health() == 0\n>>> assert carnivore2.get_health() == 100\n",
         "hidden": false,
         "locked": false
        }
       ],
       "scored": true,
       "setup": "",
       "teardown": "",
       "type": "doctest"
      }
     ]
    },
    "S6": {
     "name": "S6",
     "points": 1,
     "suites": [
      {
       "cases": [
        {
         "code": ">>> random.seed(40)\n>>> omnivore = Omnivore('Bear', 'Bear', 100, 2, 20, 0.8)\n>>> plant = Plant('Berries', 'Berries', 25, 5)\n>>> prey = Herbivore('Fish', 'Fish', 50, 3)\n>>> omnivore.eat_plant(plant)\n>>> assert omnivore.get_health() == 120\n>>> assert plant.get_health() == 5\n>>> omnivore.eat_plant(plant)\n>>> assert omnivore.get_health() == 125\n>>> assert plant.get_health() == 0\n>>> omnivore.hunt(prey)\n>>> assert prey.get_health() == 0\n>>> assert omnivore.get_health() == 175\n>>> omnivore_low_success = Omnivore('Bear', 'Bear', 100, 2, 10, 0.05)\n>>> prey = Herbivore('Fish', 'Bear', 50, 3)\n>>> omnivore_low_success.hunt(prey)\n>>> assert prey.get_health() == 50\n>>> assert omnivore_low_success.get_health() == 100\n",
         "hidden": false,
         "locked": false
        }
       ],
       "scored": true,
       "setup": "",
       "teardown": "",
       "type": "doctest"
      }
     ]
    },
    "S7": {
     "name": "S7",
     "points": 1,
     "suites": [
      {
       "cases": [
        {
         "code": ">>> import math\n>>> \n>>> def compare_assert(a, b):\n...     assert math.isclose(a, b)\n>>> plant1 = Plant('OakTree1', 'Tree', 120, 5)\n>>> plant2 = Plant('OakTree2', 'Tree', 80, 7)\n>>> offspring_plant = plant1.reproduce(plant2, 'OakTree3')\n>>> assert offspring_plant.get_name() == 'OakTree3'\n>>> assert offspring_plant.get_species() == 'Tree'\n>>> compare_assert(offspring_plant.get_health(), (120 + 80) / 6)\n>>> compare_assert(offspring_plant.get_growth_rate(), (5 + 7) / 2)\n>>> herbivore1 = Herbivore('Deer1', 'Deer', 90, 2, 10)\n>>> herbivore2 = Herbivore('Deer2', 'Deer', 80, 3, 15)\n>>> offspring_herbivore = herbivore1.reproduce(herbivore2, 'Deer3')\n>>> assert offspring_herbivore.get_name() == 'Deer3'\n>>> assert offspring_herbivore.get_species() == 'Deer'\n>>> compare_assert(offspring_herbivore.get_health(), (90 + 80) / 6)\n>>> compare_assert(offspring_herbivore.get_meal_size(), (10 + 15) / 2)\n>>> carnivore1 = Carnivore('Lion1', 'Lion', 100, 2, 0.8)\n>>> carnivore2 = Carnivore('Lion2', 'Lion', 90, 3, 0.9)\n>>> offspring_carnivore = carnivore1.reproduce(carnivore2, 'Lion3')\n>>> assert offspring_carnivore.get_name() == 'Lion3'\n>>> assert offspring_carnivore.get_species() == 'Lion'\n>>> compare_assert(offspring_carnivore.get_health(), (100 + 90) / 6)\n>>> compare_assert(offspring_carnivore.get_success_rate(), (0.8 + 0.9) / 2)\n>>> omnivore1 = Omnivore('Bear1', 'Bear', 100, 2, 10, 0.75)\n>>> omnivore2 = Omnivore('Bear2', 'Bear', 90, 3, 15, 0.8)\n>>> offspring_omnivore = omnivore1.reproduce(omnivore2, 'Bear3')\n>>> assert offspring_omnivore.get_name() == 'Bear3'\n>>> assert offspring_omnivore.get_species() == 'Bear'\n>>> compare_assert(offspring_omnivore.get_health(), (100 + 90) / 6)\n>>> compare_assert(offspring_omnivore.get_meal_size(), (10 + 15) / 2)\n>>> compare_assert(offspring_omnivore.get_success_rate(), (0.75 + 0.8) / 2)\n>>> organism1 = Organism('Tree1', 'Tree', 100)\n>>> animal1 = Carnivore('Lion', 'Lion', 100, 2, 0.8)\n>>> try:\n...     organism1.reproduce_helper(animal1)\n... except TypeError as e:\n...     assert str(e) == 'Can only reproduce with another organism of the same type.'\n>>> herbivore1 = Herbivore('Deer', 'Herbivore', 90, 2, 10)\n>>> carnivore1 = Carnivore('Lion', 'Lion', 100, 2, 0.8)\n>>> try:\n...     herbivore1.reproduce(carnivore1, 'DeerLion')\n... except TypeError as e:\n...     assert str(e) == 'Can only reproduce with another organism of the same type.'\n>>> plant1 = Plant('OakTree1', 'Tree', 120, 5)\n>>> plant2 = Plant('PineTree', 'Conifer', 100, 6)\n>>> try:\n...     plant1.reproduce(plant2, 'OakPine')\n... except TypeError as e:\n...     assert str(e) == 'Can only reproduce with another organism of the same species.'\n",
         "hidden": false,
         "locked": false
        }
       ],
       "scored": true,
       "setup": "",
       "teardown": "",
       "type": "doctest"
      }
     ]
    }
   }
  }
 },
 "nbformat": 4,
 "nbformat_minor": 5
}
